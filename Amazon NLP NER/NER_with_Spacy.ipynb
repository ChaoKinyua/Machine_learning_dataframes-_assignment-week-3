{
  "cells": [
    {
      "cell_type": "code",
      "execution_count": null,
      "metadata": {
        "colab": {
          "base_uri": "https://localhost:8080/",
          "height": 36
        },
        "id": "QZ9VFH67iOAV",
        "outputId": "d15f2873-3687-4d68-d19f-6c0d8d07247d"
      },
      "outputs": [
        {
          "output_type": "execute_result",
          "data": {
            "text/plain": [
              "'\\n\\nAmazon Product Review NLP Analysis with NER\\n'"
            ],
            "application/vnd.google.colaboratory.intrinsic+json": {
              "type": "string"
            }
          },
          "metadata": {},
          "execution_count": 30
        }
      ],
      "source": [
        "\"\"\"\n",
        "\n",
        "Amazon Product Review NLP Analysis with NER\n",
        "\"\"\""
      ]
    },
    {
      "cell_type": "code",
      "execution_count": null,
      "metadata": {
        "colab": {
          "base_uri": "https://localhost:8080/"
        },
        "id": "QVw9MrP1ifY9",
        "outputId": "093d8a9e-bf59-4608-a396-7d6321db414f"
      },
      "outputs": [
        {
          "output_type": "stream",
          "name": "stdout",
          "text": [
            "Collecting en-core-web-sm==3.8.0\n",
            "  Downloading https://github.com/explosion/spacy-models/releases/download/en_core_web_sm-3.8.0/en_core_web_sm-3.8.0-py3-none-any.whl (12.8 MB)\n",
            "\u001b[2K     \u001b[90m━━━━━━━━━━━━━━━━━━━━━━━━━━━━━━━━━━━━━━━\u001b[0m \u001b[32m12.8/12.8 MB\u001b[0m \u001b[31m136.4 MB/s\u001b[0m eta \u001b[36m0:00:00\u001b[0m\n",
            "\u001b[?25h\u001b[38;5;2m✔ Download and installation successful\u001b[0m\n",
            "You can now load the package via spacy.load('en_core_web_sm')\n",
            "\u001b[38;5;3m⚠ Restart to reload dependencies\u001b[0m\n",
            "If you are in a Jupyter or Colab notebook, you may need to restart Python in\n",
            "order to load all the package's dependencies. You can do this by selecting the\n",
            "'Restart kernel' or 'Restart runtime' option.\n",
            "[nltk_data] Downloading package brown to /root/nltk_data...\n",
            "[nltk_data]   Package brown is already up-to-date!\n",
            "[nltk_data] Downloading package punkt_tab to /root/nltk_data...\n",
            "[nltk_data]   Package punkt_tab is already up-to-date!\n",
            "[nltk_data] Downloading package wordnet to /root/nltk_data...\n",
            "[nltk_data]   Package wordnet is already up-to-date!\n",
            "[nltk_data] Downloading package averaged_perceptron_tagger_eng to\n",
            "[nltk_data]     /root/nltk_data...\n",
            "[nltk_data]   Package averaged_perceptron_tagger_eng is already up-to-\n",
            "[nltk_data]       date!\n",
            "[nltk_data] Downloading package conll2000 to /root/nltk_data...\n",
            "[nltk_data]   Package conll2000 is already up-to-date!\n",
            "[nltk_data] Downloading package movie_reviews to /root/nltk_data...\n",
            "[nltk_data]   Package movie_reviews is already up-to-date!\n",
            "Finished.\n",
            "✅ Installation complete!\n"
          ]
        }
      ],
      "source": [
        "# Installation and setups\n",
        "!pip install -q spacy spacytextblob textblob plotly pandas\n",
        "!python -m spacy download en_core_web_sm\n",
        "!python -m textblob.download_corpora\n",
        "\n",
        "print(\"✅ Installation complete!\")\n"
      ]
    },
    {
      "cell_type": "code",
      "execution_count": null,
      "metadata": {
        "id": "DskVIDmkjEJf"
      },
      "outputs": [],
      "source": [
        "# Importing dependencies\n",
        "# ============================================================================\n",
        "# CELL 2: IMPORT LIBRARIES\n",
        "# ============================================================================\n",
        "\n",
        "# Core NLP library\n",
        "import spacy\n",
        "\n",
        "# spaCy extension for sentiment analysis (TextBlob integration)\n",
        "from spacytextblob.spacytextblob import SpacyTextBlob\n",
        "\n",
        "# Data manipulation and analysis\n",
        "import pandas as pd\n",
        "import numpy as np\n",
        "\n",
        "# Data visualization libraries\n",
        "import matplotlib.pyplot as plt\n",
        "import seaborn as sns\n",
        "\n",
        "# Interactive visualizations\n",
        "import plotly.express as px\n",
        "import plotly.graph_objects as go\n",
        "\n",
        "# For counting word frequencies or entity occurrences\n",
        "from collections import Counter\n",
        "\n",
        "# Suppress unnecessary warning messages\n",
        "import warnings\n",
        "warnings.filterwarnings('ignore')\n"
      ]
    },
    {
      "cell_type": "code",
      "execution_count": null,
      "metadata": {
        "id": "9fYCiuhQqtyx"
      },
      "outputs": [],
      "source": [
        "df_full = pd.read_csv(\n",
        "    \"Reviews.csv\",\n",
        "    quotechar='\"',\n",
        "    doublequote=True,\n",
        "    on_bad_lines='skip',\n",
        "    engine='python',\n",
        "    encoding='utf-8'\n",
        ")\n"
      ]
    },
    {
      "cell_type": "code",
      "execution_count": null,
      "metadata": {
        "colab": {
          "base_uri": "https://localhost:8080/"
        },
        "id": "D0jTe5mOswhx",
        "outputId": "31710465-c9e8-4b5f-dc38-45ac2981100d"
      },
      "outputs": [
        {
          "output_type": "stream",
          "name": "stdout",
          "text": [
            "\n",
            "📊 Dataset Info:\n",
            "  • Total reviews: 568,454\n",
            "  • Columns: ['Id', 'ProductId', 'UserId', 'ProfileName', 'HelpfulnessNumerator', 'HelpfulnessDenominator', 'Score', 'Time', 'Summary', 'Text']\n",
            "\n",
            "First few rows:\n",
            "   Id   ProductId          UserId ProfileName  HelpfulnessNumerator  \\\n",
            "0   1  B001E4KFG0  A3SGXH7AUHU8GW  delmartian                     1   \n",
            "1   2  B00813GRG4  A1D87F6ZCVE5NK      dll pa                     0   \n",
            "\n",
            "   HelpfulnessDenominator  Score        Time                Summary  \\\n",
            "0                       1      5  1303862400  Good Quality Dog Food   \n",
            "1                       0      1  1346976000      Not as Advertised   \n",
            "\n",
            "                                                Text  \n",
            "0  I have bought several of the Vitality canned d...  \n",
            "1  Product arrived labeled as Jumbo Salted Peanut...  \n"
          ]
        }
      ],
      "source": [
        "print(f\"\\n📊 Dataset Info:\")\n",
        "print(f\"  • Total reviews: {len(df_full):,}\")\n",
        "print(f\"  • Columns: {list(df_full.columns)}\")\n",
        "print(f\"\\nFirst few rows:\")\n",
        "print(df_full.head(2))"
      ]
    },
    {
      "cell_type": "code",
      "execution_count": null,
      "metadata": {
        "id": "HAXVn92rtVx1"
      },
      "outputs": [],
      "source": [
        "# Identify the correct column names\n",
        "# Try to find review text column\n",
        "text_col = None\n",
        "for col in ['reviewText', 'review_text', 'text', 'review', 'Text']:\n",
        "    if col in df_full.columns:\n",
        "        text_col = col\n",
        "        break"
      ]
    },
    {
      "cell_type": "code",
      "execution_count": null,
      "metadata": {
        "id": "4mSFdql5t0-E"
      },
      "outputs": [],
      "source": [
        "# find rating column\n",
        "rating_col = None\n",
        "for col in ['overall', 'rating', 'score', 'Rating', 'Overall', 'Score']:\n",
        "    if col in df_full.columns:\n",
        "        rating_col = col\n",
        "        break"
      ]
    },
    {
      "cell_type": "code",
      "execution_count": null,
      "metadata": {
        "colab": {
          "base_uri": "https://localhost:8080/"
        },
        "id": "TEXOQ4vwuH9y",
        "outputId": "b1d9b187-49b4-4fd8-881a-8815a2528652"
      },
      "outputs": [
        {
          "output_type": "stream",
          "name": "stdout",
          "text": [
            "\n",
            "🎯 Using columns:\n",
            "  • Review text: Text\n",
            "  • Rating: Score\n"
          ]
        }
      ],
      "source": [
        "print(f\"\\n🎯 Using columns:\")\n",
        "print(f\"  • Review text: {text_col}\")\n",
        "print(f\"  • Rating: {rating_col}\")"
      ]
    },
    {
      "cell_type": "code",
      "execution_count": null,
      "metadata": {
        "id": "fqJyTpCMu0Lp"
      },
      "outputs": [],
      "source": [
        "# Sample data for faster processing (adjust as needed)\n",
        "SAMPLE_SIZE = 500  # Process 500 reviews for 2-hour sprint\n",
        "df = df_full.sample(n=min(SAMPLE_SIZE, len(df_full)), random_state=42).copy()"
      ]
    },
    {
      "cell_type": "code",
      "execution_count": null,
      "metadata": {
        "id": "3gmoSrACvH3w"
      },
      "outputs": [],
      "source": [
        "# Standardize column names\n",
        "df = df.rename(columns={\n",
        "    text_col: 'reviewText',\n",
        "    rating_col: 'rating'\n",
        "})"
      ]
    },
    {
      "cell_type": "code",
      "execution_count": null,
      "metadata": {
        "colab": {
          "base_uri": "https://localhost:8080/",
          "height": 306
        },
        "id": "sKJRUhcfvfcT",
        "outputId": "fa913707-35e8-4af1-e7ad-d1e57fad1016"
      },
      "outputs": [
        {
          "output_type": "stream",
          "name": "stdout",
          "text": [
            "['Id', 'ProductId', 'UserId', 'ProfileName', 'HelpfulnessNumerator', 'HelpfulnessDenominator', 'rating', 'Time', 'Summary', 'reviewText']\n"
          ]
        },
        {
          "output_type": "execute_result",
          "data": {
            "text/plain": [
              "            Id   ProductId          UserId             ProfileName  \\\n",
              "165256  165257  B000EVG8J2  A1L01D2BD3RKVO  B. Miller \"pet person\"   \n",
              "231465  231466  B0000BXJIS  A3U62RE5XZDP0G                   Marty   \n",
              "\n",
              "        HelpfulnessNumerator  HelpfulnessDenominator  rating        Time  \\\n",
              "165256                     0                       0       5  1268179200   \n",
              "231465                     0                       0       5  1298937600   \n",
              "\n",
              "                                             Summary  \\\n",
              "165256  Crunchy & Good Gluten-Free Sandwich Cookies!   \n",
              "231465                            great kitty treats   \n",
              "\n",
              "                                               reviewText  \n",
              "165256  Having tried a couple of other brands of glute...  \n",
              "231465  My cat loves these treats. If ever I can't fin...  "
            ],
            "text/html": [
              "\n",
              "  <div id=\"df-05856960-dd1d-4224-b875-23c7f701c3d8\" class=\"colab-df-container\">\n",
              "    <div>\n",
              "<style scoped>\n",
              "    .dataframe tbody tr th:only-of-type {\n",
              "        vertical-align: middle;\n",
              "    }\n",
              "\n",
              "    .dataframe tbody tr th {\n",
              "        vertical-align: top;\n",
              "    }\n",
              "\n",
              "    .dataframe thead th {\n",
              "        text-align: right;\n",
              "    }\n",
              "</style>\n",
              "<table border=\"1\" class=\"dataframe\">\n",
              "  <thead>\n",
              "    <tr style=\"text-align: right;\">\n",
              "      <th></th>\n",
              "      <th>Id</th>\n",
              "      <th>ProductId</th>\n",
              "      <th>UserId</th>\n",
              "      <th>ProfileName</th>\n",
              "      <th>HelpfulnessNumerator</th>\n",
              "      <th>HelpfulnessDenominator</th>\n",
              "      <th>rating</th>\n",
              "      <th>Time</th>\n",
              "      <th>Summary</th>\n",
              "      <th>reviewText</th>\n",
              "    </tr>\n",
              "  </thead>\n",
              "  <tbody>\n",
              "    <tr>\n",
              "      <th>165256</th>\n",
              "      <td>165257</td>\n",
              "      <td>B000EVG8J2</td>\n",
              "      <td>A1L01D2BD3RKVO</td>\n",
              "      <td>B. Miller \"pet person\"</td>\n",
              "      <td>0</td>\n",
              "      <td>0</td>\n",
              "      <td>5</td>\n",
              "      <td>1268179200</td>\n",
              "      <td>Crunchy &amp; Good Gluten-Free Sandwich Cookies!</td>\n",
              "      <td>Having tried a couple of other brands of glute...</td>\n",
              "    </tr>\n",
              "    <tr>\n",
              "      <th>231465</th>\n",
              "      <td>231466</td>\n",
              "      <td>B0000BXJIS</td>\n",
              "      <td>A3U62RE5XZDP0G</td>\n",
              "      <td>Marty</td>\n",
              "      <td>0</td>\n",
              "      <td>0</td>\n",
              "      <td>5</td>\n",
              "      <td>1298937600</td>\n",
              "      <td>great kitty treats</td>\n",
              "      <td>My cat loves these treats. If ever I can't fin...</td>\n",
              "    </tr>\n",
              "  </tbody>\n",
              "</table>\n",
              "</div>\n",
              "    <div class=\"colab-df-buttons\">\n",
              "\n",
              "  <div class=\"colab-df-container\">\n",
              "    <button class=\"colab-df-convert\" onclick=\"convertToInteractive('df-05856960-dd1d-4224-b875-23c7f701c3d8')\"\n",
              "            title=\"Convert this dataframe to an interactive table.\"\n",
              "            style=\"display:none;\">\n",
              "\n",
              "  <svg xmlns=\"http://www.w3.org/2000/svg\" height=\"24px\" viewBox=\"0 -960 960 960\">\n",
              "    <path d=\"M120-120v-720h720v720H120Zm60-500h600v-160H180v160Zm220 220h160v-160H400v160Zm0 220h160v-160H400v160ZM180-400h160v-160H180v160Zm440 0h160v-160H620v160ZM180-180h160v-160H180v160Zm440 0h160v-160H620v160Z\"/>\n",
              "  </svg>\n",
              "    </button>\n",
              "\n",
              "  <style>\n",
              "    .colab-df-container {\n",
              "      display:flex;\n",
              "      gap: 12px;\n",
              "    }\n",
              "\n",
              "    .colab-df-convert {\n",
              "      background-color: #E8F0FE;\n",
              "      border: none;\n",
              "      border-radius: 50%;\n",
              "      cursor: pointer;\n",
              "      display: none;\n",
              "      fill: #1967D2;\n",
              "      height: 32px;\n",
              "      padding: 0 0 0 0;\n",
              "      width: 32px;\n",
              "    }\n",
              "\n",
              "    .colab-df-convert:hover {\n",
              "      background-color: #E2EBFA;\n",
              "      box-shadow: 0px 1px 2px rgba(60, 64, 67, 0.3), 0px 1px 3px 1px rgba(60, 64, 67, 0.15);\n",
              "      fill: #174EA6;\n",
              "    }\n",
              "\n",
              "    .colab-df-buttons div {\n",
              "      margin-bottom: 4px;\n",
              "    }\n",
              "\n",
              "    [theme=dark] .colab-df-convert {\n",
              "      background-color: #3B4455;\n",
              "      fill: #D2E3FC;\n",
              "    }\n",
              "\n",
              "    [theme=dark] .colab-df-convert:hover {\n",
              "      background-color: #434B5C;\n",
              "      box-shadow: 0px 1px 3px 1px rgba(0, 0, 0, 0.15);\n",
              "      filter: drop-shadow(0px 1px 2px rgba(0, 0, 0, 0.3));\n",
              "      fill: #FFFFFF;\n",
              "    }\n",
              "  </style>\n",
              "\n",
              "    <script>\n",
              "      const buttonEl =\n",
              "        document.querySelector('#df-05856960-dd1d-4224-b875-23c7f701c3d8 button.colab-df-convert');\n",
              "      buttonEl.style.display =\n",
              "        google.colab.kernel.accessAllowed ? 'block' : 'none';\n",
              "\n",
              "      async function convertToInteractive(key) {\n",
              "        const element = document.querySelector('#df-05856960-dd1d-4224-b875-23c7f701c3d8');\n",
              "        const dataTable =\n",
              "          await google.colab.kernel.invokeFunction('convertToInteractive',\n",
              "                                                    [key], {});\n",
              "        if (!dataTable) return;\n",
              "\n",
              "        const docLinkHtml = 'Like what you see? Visit the ' +\n",
              "          '<a target=\"_blank\" href=https://colab.research.google.com/notebooks/data_table.ipynb>data table notebook</a>'\n",
              "          + ' to learn more about interactive tables.';\n",
              "        element.innerHTML = '';\n",
              "        dataTable['output_type'] = 'display_data';\n",
              "        await google.colab.output.renderOutput(dataTable, element);\n",
              "        const docLink = document.createElement('div');\n",
              "        docLink.innerHTML = docLinkHtml;\n",
              "        element.appendChild(docLink);\n",
              "      }\n",
              "    </script>\n",
              "  </div>\n",
              "\n",
              "\n",
              "    <div id=\"df-64b1f4c8-c003-4260-a474-57b1f5790fce\">\n",
              "      <button class=\"colab-df-quickchart\" onclick=\"quickchart('df-64b1f4c8-c003-4260-a474-57b1f5790fce')\"\n",
              "                title=\"Suggest charts\"\n",
              "                style=\"display:none;\">\n",
              "\n",
              "<svg xmlns=\"http://www.w3.org/2000/svg\" height=\"24px\"viewBox=\"0 0 24 24\"\n",
              "     width=\"24px\">\n",
              "    <g>\n",
              "        <path d=\"M19 3H5c-1.1 0-2 .9-2 2v14c0 1.1.9 2 2 2h14c1.1 0 2-.9 2-2V5c0-1.1-.9-2-2-2zM9 17H7v-7h2v7zm4 0h-2V7h2v10zm4 0h-2v-4h2v4z\"/>\n",
              "    </g>\n",
              "</svg>\n",
              "      </button>\n",
              "\n",
              "<style>\n",
              "  .colab-df-quickchart {\n",
              "      --bg-color: #E8F0FE;\n",
              "      --fill-color: #1967D2;\n",
              "      --hover-bg-color: #E2EBFA;\n",
              "      --hover-fill-color: #174EA6;\n",
              "      --disabled-fill-color: #AAA;\n",
              "      --disabled-bg-color: #DDD;\n",
              "  }\n",
              "\n",
              "  [theme=dark] .colab-df-quickchart {\n",
              "      --bg-color: #3B4455;\n",
              "      --fill-color: #D2E3FC;\n",
              "      --hover-bg-color: #434B5C;\n",
              "      --hover-fill-color: #FFFFFF;\n",
              "      --disabled-bg-color: #3B4455;\n",
              "      --disabled-fill-color: #666;\n",
              "  }\n",
              "\n",
              "  .colab-df-quickchart {\n",
              "    background-color: var(--bg-color);\n",
              "    border: none;\n",
              "    border-radius: 50%;\n",
              "    cursor: pointer;\n",
              "    display: none;\n",
              "    fill: var(--fill-color);\n",
              "    height: 32px;\n",
              "    padding: 0;\n",
              "    width: 32px;\n",
              "  }\n",
              "\n",
              "  .colab-df-quickchart:hover {\n",
              "    background-color: var(--hover-bg-color);\n",
              "    box-shadow: 0 1px 2px rgba(60, 64, 67, 0.3), 0 1px 3px 1px rgba(60, 64, 67, 0.15);\n",
              "    fill: var(--button-hover-fill-color);\n",
              "  }\n",
              "\n",
              "  .colab-df-quickchart-complete:disabled,\n",
              "  .colab-df-quickchart-complete:disabled:hover {\n",
              "    background-color: var(--disabled-bg-color);\n",
              "    fill: var(--disabled-fill-color);\n",
              "    box-shadow: none;\n",
              "  }\n",
              "\n",
              "  .colab-df-spinner {\n",
              "    border: 2px solid var(--fill-color);\n",
              "    border-color: transparent;\n",
              "    border-bottom-color: var(--fill-color);\n",
              "    animation:\n",
              "      spin 1s steps(1) infinite;\n",
              "  }\n",
              "\n",
              "  @keyframes spin {\n",
              "    0% {\n",
              "      border-color: transparent;\n",
              "      border-bottom-color: var(--fill-color);\n",
              "      border-left-color: var(--fill-color);\n",
              "    }\n",
              "    20% {\n",
              "      border-color: transparent;\n",
              "      border-left-color: var(--fill-color);\n",
              "      border-top-color: var(--fill-color);\n",
              "    }\n",
              "    30% {\n",
              "      border-color: transparent;\n",
              "      border-left-color: var(--fill-color);\n",
              "      border-top-color: var(--fill-color);\n",
              "      border-right-color: var(--fill-color);\n",
              "    }\n",
              "    40% {\n",
              "      border-color: transparent;\n",
              "      border-right-color: var(--fill-color);\n",
              "      border-top-color: var(--fill-color);\n",
              "    }\n",
              "    60% {\n",
              "      border-color: transparent;\n",
              "      border-right-color: var(--fill-color);\n",
              "    }\n",
              "    80% {\n",
              "      border-color: transparent;\n",
              "      border-right-color: var(--fill-color);\n",
              "      border-bottom-color: var(--fill-color);\n",
              "    }\n",
              "    90% {\n",
              "      border-color: transparent;\n",
              "      border-bottom-color: var(--fill-color);\n",
              "    }\n",
              "  }\n",
              "</style>\n",
              "\n",
              "      <script>\n",
              "        async function quickchart(key) {\n",
              "          const quickchartButtonEl =\n",
              "            document.querySelector('#' + key + ' button');\n",
              "          quickchartButtonEl.disabled = true;  // To prevent multiple clicks.\n",
              "          quickchartButtonEl.classList.add('colab-df-spinner');\n",
              "          try {\n",
              "            const charts = await google.colab.kernel.invokeFunction(\n",
              "                'suggestCharts', [key], {});\n",
              "          } catch (error) {\n",
              "            console.error('Error during call to suggestCharts:', error);\n",
              "          }\n",
              "          quickchartButtonEl.classList.remove('colab-df-spinner');\n",
              "          quickchartButtonEl.classList.add('colab-df-quickchart-complete');\n",
              "        }\n",
              "        (() => {\n",
              "          let quickchartButtonEl =\n",
              "            document.querySelector('#df-64b1f4c8-c003-4260-a474-57b1f5790fce button');\n",
              "          quickchartButtonEl.style.display =\n",
              "            google.colab.kernel.accessAllowed ? 'block' : 'none';\n",
              "        })();\n",
              "      </script>\n",
              "    </div>\n",
              "\n",
              "    </div>\n",
              "  </div>\n"
            ],
            "application/vnd.google.colaboratory.intrinsic+json": {
              "type": "dataframe",
              "variable_name": "df",
              "summary": "{\n  \"name\": \"df\",\n  \"rows\": 500,\n  \"fields\": [\n    {\n      \"column\": \"Id\",\n      \"properties\": {\n        \"dtype\": \"number\",\n        \"std\": 166370,\n        \"min\": 875,\n        \"max\": 568077,\n        \"num_unique_values\": 500,\n        \"samples\": [\n          429907,\n          356805,\n          282948\n        ],\n        \"semantic_type\": \"\",\n        \"description\": \"\"\n      }\n    },\n    {\n      \"column\": \"ProductId\",\n      \"properties\": {\n        \"dtype\": \"string\",\n        \"num_unique_values\": 475,\n        \"samples\": [\n          \"B005GXF6K0\",\n          \"B002AUGW3C\",\n          \"B001LQRKC8\"\n        ],\n        \"semantic_type\": \"\",\n        \"description\": \"\"\n      }\n    },\n    {\n      \"column\": \"UserId\",\n      \"properties\": {\n        \"dtype\": \"string\",\n        \"num_unique_values\": 497,\n        \"samples\": [\n          \"AJY5Y3SHROG5C\",\n          \"A769CQ59B7M26\",\n          \"A3I5YPJZMTG1QO\"\n        ],\n        \"semantic_type\": \"\",\n        \"description\": \"\"\n      }\n    },\n    {\n      \"column\": \"ProfileName\",\n      \"properties\": {\n        \"dtype\": \"string\",\n        \"num_unique_values\": 497,\n        \"samples\": [\n          \"A. Grillet\",\n          \"V. POTTER\",\n          \"D. P. Taylor\"\n        ],\n        \"semantic_type\": \"\",\n        \"description\": \"\"\n      }\n    },\n    {\n      \"column\": \"HelpfulnessNumerator\",\n      \"properties\": {\n        \"dtype\": \"number\",\n        \"std\": 5,\n        \"min\": 0,\n        \"max\": 110,\n        \"num_unique_values\": 19,\n        \"samples\": [\n          0,\n          20,\n          7\n        ],\n        \"semantic_type\": \"\",\n        \"description\": \"\"\n      }\n    },\n    {\n      \"column\": \"HelpfulnessDenominator\",\n      \"properties\": {\n        \"dtype\": \"number\",\n        \"std\": 6,\n        \"min\": 0,\n        \"max\": 126,\n        \"num_unique_values\": 22,\n        \"samples\": [\n          0,\n          8,\n          11\n        ],\n        \"semantic_type\": \"\",\n        \"description\": \"\"\n      }\n    },\n    {\n      \"column\": \"rating\",\n      \"properties\": {\n        \"dtype\": \"number\",\n        \"std\": 1,\n        \"min\": 1,\n        \"max\": 5,\n        \"num_unique_values\": 5,\n        \"samples\": [\n          3,\n          1,\n          2\n        ],\n        \"semantic_type\": \"\",\n        \"description\": \"\"\n      }\n    },\n    {\n      \"column\": \"Time\",\n      \"properties\": {\n        \"dtype\": \"number\",\n        \"std\": 50443245,\n        \"min\": 1135123200,\n        \"max\": 1351123200,\n        \"num_unique_values\": 416,\n        \"samples\": [\n          1258243200,\n          1333238400,\n          1171411200\n        ],\n        \"semantic_type\": \"\",\n        \"description\": \"\"\n      }\n    },\n    {\n      \"column\": \"Summary\",\n      \"properties\": {\n        \"dtype\": \"string\",\n        \"num_unique_values\": 489,\n        \"samples\": [\n          \"Mild coffee, great aroma with no sour taste at all.\",\n          \"Great alternative to cow's milk\",\n          \"Individually boxed and very fresh.\"\n        ],\n        \"semantic_type\": \"\",\n        \"description\": \"\"\n      }\n    },\n    {\n      \"column\": \"reviewText\",\n      \"properties\": {\n        \"dtype\": \"string\",\n        \"num_unique_values\": 499,\n        \"samples\": [\n          \"These colors are so true to life and vibrant!  The drip, drop out of the bottle makes it so easy to duplicate the exact same color again.  The food color doesn't change the taste or texture of any food.  I had no problems with shipping, and it was super fast.\",\n          \"We use chicken bouillon in a lot of our home cooked meals.<br />Finding organic bouillon is oft times a challenge and so we were pleased to find this product.<br />It doesn't need refrigeration and mixes easily into recipes.<br />The taste is great too.<br />Just be aware; if you're transferring the powder out of it's very nice foil packet (into a glass jar for example) that you remember that it's powder.<br />Otherwise you might end up with powder all over your counter top as opposed to in the container.<br />Powder.\",\n          \"Popchip 100 calorie bags are a great snack that help me to control my portions.  I don't trust myself with the full sized bag!  These taste great and have a decent amount in the bags- there enough to satisfy me. They are not bland tasting like some baked chips.  I regularly order these and the BBQ flavor.  I have tried many other Popchip flavors (in the big bags) and these are my personal favorites! I don't know how them make them taste so great for so little calories- but thanks Popchips!\"\n        ],\n        \"semantic_type\": \"\",\n        \"description\": \"\"\n      }\n    }\n  ]\n}"
            }
          },
          "metadata": {},
          "execution_count": 40
        }
      ],
      "source": [
        "print(df.columns.tolist())\n",
        "df.head(2)"
      ]
    },
    {
      "cell_type": "code",
      "execution_count": null,
      "metadata": {
        "colab": {
          "base_uri": "https://localhost:8080/"
        },
        "id": "T8geKx8vvrlT",
        "outputId": "a6ee144c-43d2-42ab-e98a-71f2eceedf4e"
      },
      "outputs": [
        {
          "output_type": "stream",
          "name": "stdout",
          "text": [
            "\n",
            "✅ Processed sample: 500 reviews\n",
            "  • Average review length: 446 characters\n",
            "  • Rating distribution:\n",
            "rating\n",
            "1     46\n",
            "2     28\n",
            "3     29\n",
            "4     76\n",
            "5    321\n",
            "Name: count, dtype: int64\n",
            "\n",
            "💡 Processing 500 reviews (adjust SAMPLE_SIZE for more/less)\n",
            "\n",
            "Sample reviews:\n",
            "                                               reviewText  rating\n",
            "165256  Having tried a couple of other brands of glute...       5\n",
            "231465  My cat loves these treats. If ever I can't fin...       5\n",
            "427827  A little less than I expected.  It tends to ha...       3\n"
          ]
        }
      ],
      "source": [
        "# Clean data\n",
        "df = df.dropna(subset=['reviewText', 'rating'])\n",
        "df['reviewText'] = df['reviewText'].astype(str)\n",
        "df['rating'] = pd.to_numeric(df['rating'], errors='coerce')\n",
        "df = df[df['reviewText'].str.len() > 20]  # Remove very short reviews\n",
        "\n",
        "print(f\"\\n✅ Processed sample: {len(df)} reviews\")\n",
        "print(f\"  • Average review length: {df['reviewText'].str.len().mean():.0f} characters\")\n",
        "print(f\"  • Rating distribution:\\n{df['rating'].value_counts().sort_index()}\")\n",
        "print(f\"\\n💡 Processing {len(df)} reviews (adjust SAMPLE_SIZE for more/less)\")\n",
        "print(\"\\nSample reviews:\")\n",
        "print(df[['reviewText', 'rating']].head(3))"
      ]
    },
    {
      "cell_type": "code",
      "execution_count": null,
      "metadata": {
        "colab": {
          "base_uri": "https://localhost:8080/"
        },
        "id": "Uavs0-IUwYic",
        "outputId": "3d9af931-8809-438d-ee25-1ec4a7aa86dd"
      },
      "outputs": [
        {
          "output_type": "stream",
          "name": "stdout",
          "text": [
            "✅ spaCy model loaded with sentiment analysis!\n"
          ]
        }
      ],
      "source": [
        "# INITIALIZE SPACY & NER\n",
        "\n",
        "nlp = spacy.load('en_core_web_sm')\n",
        "nlp.add_pipe('spacytextblob')\n",
        "\n",
        "print(\"✅ spaCy model loaded with sentiment analysis!\")"
      ]
    },
    {
      "cell_type": "code",
      "execution_count": null,
      "metadata": {
        "id": "8bm6hXraw2q9"
      },
      "outputs": [],
      "source": [
        "# EXTRACT ENTITIES & SENTIMENT\n",
        "def extract_products_and_brands(text):\n",
        "    \"\"\"Extract product names and brand names from text\"\"\"\n",
        "    doc = nlp(text)\n",
        "\n",
        "    products = []\n",
        "    brands = []\n",
        "\n",
        "    for ent in doc.ents:\n",
        "        if ent.label_ == 'PRODUCT':\n",
        "            products.append(ent.text)\n",
        "        elif ent.label_ == 'ORG':\n",
        "            # Organizations are often brands\n",
        "            brands.append(ent.text)\n",
        "\n",
        "    return products, brands\n"
      ]
    },
    {
      "cell_type": "code",
      "execution_count": null,
      "metadata": {
        "id": "FNzzD_6Jxk_i"
      },
      "outputs": [],
      "source": [
        "def analyze_sentiment(text):\n",
        "    \"\"\"Analyze sentiment of text\"\"\"\n",
        "    doc = nlp(text)\n",
        "    polarity = doc._.blob.polarity  # -1 (negative) to 1 (positive)\n",
        "\n",
        "    # Classify sentiment\n",
        "    if polarity > 0.1:\n",
        "        sentiment = 'Positive'\n",
        "    elif polarity < -0.1:\n",
        "        sentiment = 'Negative'\n",
        "    else:\n",
        "        sentiment = 'Neutral'\n",
        "\n",
        "    return polarity, sentiment"
      ]
    },
    {
      "cell_type": "code",
      "execution_count": null,
      "metadata": {
        "colab": {
          "base_uri": "https://localhost:8080/"
        },
        "id": "psSmKAP7xqpk",
        "outputId": "4d35f8a1-d8ba-4dd1-9f55-0973d966f0f6"
      },
      "outputs": [
        {
          "output_type": "stream",
          "name": "stdout",
          "text": [
            "Processing reviews...\n"
          ]
        }
      ],
      "source": [
        "# Process all reviews\n",
        "print(\"Processing reviews...\")\n",
        "results = []\n",
        "\n",
        "for idx, row in df.iterrows():\n",
        "    text = row['reviewText']\n",
        "    products, brands = extract_products_and_brands(text)\n",
        "    polarity, sentiment = analyze_sentiment(text)\n",
        "\n",
        "    results.append({\n",
        "        'review': text[:100] + '...' if len(text) > 100 else text,\n",
        "        'rating': row['rating'],\n",
        "        'products': products,\n",
        "        'brands': brands,\n",
        "        'sentiment_score': round(polarity, 3),\n",
        "        'sentiment': sentiment\n",
        "    })"
      ]
    },
    {
      "cell_type": "code",
      "execution_count": null,
      "metadata": {
        "colab": {
          "base_uri": "https://localhost:8080/"
        },
        "id": "O8wcIm30xv5s",
        "outputId": "68d04e1a-0997-4f56-d125-0bc5fb6b01e6"
      },
      "outputs": [
        {
          "output_type": "stream",
          "name": "stdout",
          "text": [
            "✅ Processed 500 reviews\n",
            "\n",
            "================================================================================\n",
            "SAMPLE RESULTS:\n",
            "================================================================================\n",
            "                                                                                                    review  rating products                                            brands  sentiment_score sentiment\n",
            "0  Having tried a couple of other brands of gluten-free sandwich cookies, these are the best of the bun...       5       []                                                []            0.319  Positive\n",
            "1  My cat loves these treats. If ever I can't find her in the house, I just pop the top and she bolts o...       5       []                                                []            0.435  Positive\n",
            "2  A little less than I expected.  It tends to have a muddy taste - not what I expected since they said...       3       []                                                []           -0.011   Neutral\n",
            "3  First there was Frosted Mini-Wheats, in original size, then there was Frosted Mini-Wheats Bite Size....       2       []  [Frosted Mini-Wheats Little Bits, Cinnamon Roll]            0.159  Positive\n",
            "4  and I want to congratulate the graphic artist for putting the entire product name on such a small bo...       5       []                              [Goldilocks, Lipton]            0.236  Positive\n"
          ]
        }
      ],
      "source": [
        "results_df = pd.DataFrame(results)\n",
        "print(f\"✅ Processed {len(results_df)} reviews\")\n",
        "print(\"\\n\" + \"=\"*80)\n",
        "print(\"SAMPLE RESULTS:\")\n",
        "print(\"=\"*80)\n",
        "print(results_df.head(5).to_string())"
      ]
    },
    {
      "cell_type": "code",
      "execution_count": null,
      "metadata": {
        "colab": {
          "base_uri": "https://localhost:8080/"
        },
        "id": "a2ieRAO6ybH1",
        "outputId": "3a1bd89c-6550-495b-c81c-3a3da053a1d4"
      },
      "outputs": [
        {
          "output_type": "stream",
          "name": "stdout",
          "text": [
            "\n",
            "================================================================================\n",
            "TOP EXTRACTED PRODUCTS:\n",
            "================================================================================\n",
            "  • Red Espresso: 2 mentions\n",
            "  • Byetta: 1 mentions\n",
            "  • who:<br: 1 mentions\n",
            "  • Shrimp: 1 mentions\n",
            "  • Nut Delight: 1 mentions\n",
            "  • Made: 1 mentions\n",
            "  • Whiskas Temptation: 1 mentions\n",
            "  • Convenient: 1 mentions\n",
            "  • Rottweiler: 1 mentions\n",
            "  • Jerkys: 1 mentions\n",
            "\n",
            "================================================================================\n",
            "TOP EXTRACTED BRANDS:\n",
            "================================================================================\n",
            "  • Amazon: 70 mentions\n",
            "  • MSG: 6 mentions\n",
            "  • Whole Foods: 4 mentions\n",
            "  • Senseo: 4 mentions\n",
            "  • Marley Coffee: 3 mentions\n",
            "  • LOT: 3 mentions\n",
            "  • PB2: 3 mentions\n",
            "  • Starbucks: 2 mentions\n",
            "  • Stash: 2 mentions\n",
            "  • FYI: 2 mentions\n"
          ]
        }
      ],
      "source": [
        "# ENTITY ANALYSIS\n",
        "# Extract all products and brands\n",
        "all_products = []\n",
        "all_brands = []\n",
        "\n",
        "for products in results_df['products']:\n",
        "    all_products.extend(products)\n",
        "\n",
        "for brands in results_df['brands']:\n",
        "    all_brands.extend(brands)\n",
        "\n",
        "# Count occurrences\n",
        "product_counts = Counter(all_products)\n",
        "brand_counts = Counter(all_brands)\n",
        "\n",
        "print(\"\\n\" + \"=\"*80)\n",
        "print(\"TOP EXTRACTED PRODUCTS:\")\n",
        "print(\"=\"*80)\n",
        "for product, count in product_counts.most_common(10):\n",
        "    print(f\"  • {product}: {count} mentions\")\n",
        "\n",
        "print(\"\\n\" + \"=\"*80)\n",
        "print(\"TOP EXTRACTED BRANDS:\")\n",
        "print(\"=\"*80)\n",
        "for brand, count in brand_counts.most_common(10):\n",
        "    print(f\"  • {brand}: {count} mentions\")"
      ]
    },
    {
      "cell_type": "code",
      "execution_count": null,
      "metadata": {
        "colab": {
          "base_uri": "https://localhost:8080/"
        },
        "id": "fPGg29bSzDtv",
        "outputId": "d434f5d4-b9df-4896-fc09-8a6ed77006a2"
      },
      "outputs": [
        {
          "output_type": "stream",
          "name": "stdout",
          "text": [
            "\n",
            "================================================================================\n",
            "SENTIMENT ANALYSIS SUMMARY:\n",
            "================================================================================\n",
            "\n",
            "sentiment\n",
            "Positive    385\n",
            "Neutral      92\n",
            "Negative     23\n",
            "Name: count, dtype: int64\n",
            "\n",
            "Average Sentiment Score: 0.238\n",
            "Sentiment Range: [-0.781, 1.000]\n",
            "\n",
            "Correlation between Rating and Sentiment: 0.419\n"
          ]
        }
      ],
      "source": [
        "#  SENTIMENT ANALYSIS SUMMARY\n",
        "print(\"\\n\" + \"=\"*80)\n",
        "print(\"SENTIMENT ANALYSIS SUMMARY:\")\n",
        "print(\"=\"*80)\n",
        "\n",
        "sentiment_dist = results_df['sentiment'].value_counts()\n",
        "print(f\"\\n{sentiment_dist}\\n\")\n",
        "\n",
        "avg_sentiment = results_df['sentiment_score'].mean()\n",
        "print(f\"Average Sentiment Score: {avg_sentiment:.3f}\")\n",
        "print(f\"Sentiment Range: [{results_df['sentiment_score'].min():.3f}, {results_df['sentiment_score'].max():.3f}]\")\n",
        "\n",
        "# Correlation with ratings\n",
        "correlation = results_df[['rating', 'sentiment_score']].corr().iloc[0, 1]\n",
        "print(f\"\\nCorrelation between Rating and Sentiment: {correlation:.3f}\")"
      ]
    },
    {
      "cell_type": "code",
      "execution_count": null,
      "metadata": {
        "id": "FK23fbmX0PR8"
      },
      "outputs": [],
      "source": [
        "# VISUALIZATIONS"
      ]
    },
    {
      "cell_type": "code",
      "execution_count": null,
      "metadata": {
        "colab": {
          "base_uri": "https://localhost:8080/",
          "height": 388
        },
        "id": "7ZrWHR0W0X0g",
        "outputId": "efe80575-4fce-4a0c-d5f6-a61b5e42cf69"
      },
      "outputs": [
        {
          "output_type": "display_data",
          "data": {
            "text/plain": [
              "<Figure size 1400x500 with 2 Axes>"
            ],
            "image/png": "[encoded data removed]"
          },
          "metadata": {}
        }
      ],
      "source": [
        "# Visualization 1: Sentiment Distribution\n",
        "fig, axes = plt.subplots(1, 2, figsize=(14, 5))\n",
        "\n",
        "# Pie chart\n",
        "sentiment_dist.plot(kind='pie', ax=axes[0], autopct='%1.1f%%', startangle=90,\n",
        "                    colors=['#2ecc71', '#e74c3c', '#95a5a6'])\n",
        "axes[0].set_title('Sentiment Distribution', fontsize=14, fontweight='bold')\n",
        "axes[0].set_ylabel('')\n",
        "\n",
        "# Bar chart of sentiment scores\n",
        "results_df['sentiment_score'].hist(bins=20, ax=axes[1], color='#3498db', edgecolor='black')\n",
        "axes[1].set_title('Sentiment Score Distribution', fontsize=14, fontweight='bold')\n",
        "axes[1].set_xlabel('Sentiment Score')\n",
        "axes[1].set_ylabel('Frequency')\n",
        "axes[1].axvline(0, color='red', linestyle='--', linewidth=2, label='Neutral')\n",
        "axes[1].legend()\n",
        "\n",
        "plt.tight_layout()\n",
        "plt.show()"
      ]
    },
    {
      "cell_type": "code",
      "execution_count": null,
      "metadata": {
        "colab": {
          "base_uri": "https://localhost:8080/",
          "height": 417
        },
        "id": "OIgjgLxh1IsH",
        "outputId": "2ce20118-a151-4899-db43-c8b11c90be5d"
      },
      "outputs": [
        {
          "output_type": "display_data",
          "data": {
            "text/html": [
              "<html>\n",
              "<head><meta charset=\"utf-8\" /></head>\n",
              "<body>\n",
              "    <div>            <script src=\"https://cdnjs.cloudflare.com/ajax/libs/mathjax/2.7.5/MathJax.js?config=TeX-AMS-MML_SVG\"></script><script type=\"text/javascript\">if (window.MathJax && window.MathJax.Hub && window.MathJax.Hub.Config) {window.MathJax.Hub.Config({SVG: {font: \"STIX-Web\"}});}</script>                <script type=\"text/javascript\">window.PlotlyConfig = {MathJaxConfig: 'local'};</script>\n",
              "        <script charset=\"utf-8\" src=\"https://cdn.plot.ly/plotly-2.35.2.min.js\"></script>                <div id=\"27373cac-f210-46be-8bb0-cc660430a324\" class=\"plotly-graph-div\" style=\"height:400px; width:100%;\"></div>            <script type=\"text/javascript\">                                    window.PLOTLYENV=window.PLOTLYENV || {};                                    if (document.getElementById(\"27373cac-f210-46be-8bb0-cc660430a324\")) {                    Plotly.newPlot(                        \"27373cac-f210-46be-8bb0-cc660430a324\",                        [{\"alignmentgroup\":\"True\",\"hovertemplate\":\"Brand=%{x}\\u003cbr\\u003eMentions=%{y}\\u003cbr\\u003ecolor=%{marker.color}\\u003cextra\\u003e\\u003c\\u002fextra\\u003e\",\"legendgroup\":\"\",\"marker\":{\"color\":[70,6,4,4,3,3,3,2],\"coloraxis\":\"coloraxis\",\"pattern\":{\"shape\":\"\"}},\"name\":\"\",\"offsetgroup\":\"\",\"orientation\":\"v\",\"showlegend\":false,\"textposition\":\"auto\",\"x\":[\"Amazon\",\"MSG\",\"Whole Foods\",\"Senseo\",\"Marley Coffee\",\"LOT\",\"PB2\",\"Starbucks\"],\"xaxis\":\"x\",\"y\":[70,6,4,4,3,3,3,2],\"yaxis\":\"y\",\"type\":\"bar\"}],                        {\"template\":{\"data\":{\"histogram2dcontour\":[{\"type\":\"histogram2dcontour\",\"colorbar\":{\"outlinewidth\":0,\"ticks\":\"\"},\"colorscale\":[[0.0,\"#0d0887\"],[0.1111111111111111,\"#46039f\"],[0.2222222222222222,\"#7201a8\"],[0.3333333333333333,\"#9c179e\"],[0.4444444444444444,\"#bd3786\"],[0.5555555555555556,\"#d8576b\"],[0.6666666666666666,\"#ed7953\"],[0.7777777777777778,\"#fb9f3a\"],[0.8888888888888888,\"#fdca26\"],[1.0,\"#f0f921\"]]}],\"choropleth\":[{\"type\":\"choropleth\",\"colorbar\":{\"outlinewidth\":0,\"ticks\":\"\"}}],\"histogram2d\":[{\"type\":\"histogram2d\",\"colorbar\":{\"outlinewidth\":0,\"ticks\":\"\"},\"colorscale\":[[0.0,\"#0d0887\"],[0.1111111111111111,\"#46039f\"],[0.2222222222222222,\"#7201a8\"],[0.3333333333333333,\"#9c179e\"],[0.4444444444444444,\"#bd3786\"],[0.5555555555555556,\"#d8576b\"],[0.6666666666666666,\"#ed7953\"],[0.7777777777777778,\"#fb9f3a\"],[0.8888888888888888,\"#fdca26\"],[1.0,\"#f0f921\"]]}],\"heatmap\":[{\"type\":\"heatmap\",\"colorbar\":{\"outlinewidth\":0,\"ticks\":\"\"},\"colorscale\":[[0.0,\"#0d0887\"],[0.1111111111111111,\"#46039f\"],[0.2222222222222222,\"#7201a8\"],[0.3333333333333333,\"#9c179e\"],[0.4444444444444444,\"#bd3786\"],[0.5555555555555556,\"#d8576b\"],[0.6666666666666666,\"#ed7953\"],[0.7777777777777778,\"#fb9f3a\"],[0.8888888888888888,\"#fdca26\"],[1.0,\"#f0f921\"]]}],\"heatmapgl\":[{\"type\":\"heatmapgl\",\"colorbar\":{\"outlinewidth\":0,\"ticks\":\"\"},\"colorscale\":[[0.0,\"#0d0887\"],[0.1111111111111111,\"#46039f\"],[0.2222222222222222,\"#7201a8\"],[0.3333333333333333,\"#9c179e\"],[0.4444444444444444,\"#bd3786\"],[0.5555555555555556,\"#d8576b\"],[0.6666666666666666,\"#ed7953\"],[0.7777777777777778,\"#fb9f3a\"],[0.8888888888888888,\"#fdca26\"],[1.0,\"#f0f921\"]]}],\"contourcarpet\":[{\"type\":\"contourcarpet\",\"colorbar\":{\"outlinewidth\":0,\"ticks\":\"\"}}],\"contour\":[{\"type\":\"contour\",\"colorbar\":{\"outlinewidth\":0,\"ticks\":\"\"},\"colorscale\":[[0.0,\"#0d0887\"],[0.1111111111111111,\"#46039f\"],[0.2222222222222222,\"#7201a8\"],[0.3333333333333333,\"#9c179e\"],[0.4444444444444444,\"#bd3786\"],[0.5555555555555556,\"#d8576b\"],[0.6666666666666666,\"#ed7953\"],[0.7777777777777778,\"#fb9f3a\"],[0.8888888888888888,\"#fdca26\"],[1.0,\"#f0f921\"]]}],\"surface\":[{\"type\":\"surface\",\"colorbar\":{\"outlinewidth\":0,\"ticks\":\"\"},\"colorscale\":[[0.0,\"#0d0887\"],[0.1111111111111111,\"#46039f\"],[0.2222222222222222,\"#7201a8\"],[0.3333333333333333,\"#9c179e\"],[0.4444444444444444,\"#bd3786\"],[0.5555555555555556,\"#d8576b\"],[0.6666666666666666,\"#ed7953\"],[0.7777777777777778,\"#fb9f3a\"],[0.8888888888888888,\"#fdca26\"],[1.0,\"#f0f921\"]]}],\"mesh3d\":[{\"type\":\"mesh3d\",\"colorbar\":{\"outlinewidth\":0,\"ticks\":\"\"}}],\"scatter\":[{\"fillpattern\":{\"fillmode\":\"overlay\",\"size\":10,\"solidity\":0.2},\"type\":\"scatter\"}],\"parcoords\":[{\"type\":\"parcoords\",\"line\":{\"colorbar\":{\"outlinewidth\":0,\"ticks\":\"\"}}}],\"scatterpolargl\":[{\"type\":\"scatterpolargl\",\"marker\":{\"colorbar\":{\"outlinewidth\":0,\"ticks\":\"\"}}}],\"bar\":[{\"error_x\":{\"color\":\"#2a3f5f\"},\"error_y\":{\"color\":\"#2a3f5f\"},\"marker\":{\"line\":{\"color\":\"#E5ECF6\",\"width\":0.5},\"pattern\":{\"fillmode\":\"overlay\",\"size\":10,\"solidity\":0.2}},\"type\":\"bar\"}],\"scattergeo\":[{\"type\":\"scattergeo\",\"marker\":{\"colorbar\":{\"outlinewidth\":0,\"ticks\":\"\"}}}],\"scatterpolar\":[{\"type\":\"scatterpolar\",\"marker\":{\"colorbar\":{\"outlinewidth\":0,\"ticks\":\"\"}}}],\"histogram\":[{\"marker\":{\"pattern\":{\"fillmode\":\"overlay\",\"size\":10,\"solidity\":0.2}},\"type\":\"histogram\"}],\"scattergl\":[{\"type\":\"scattergl\",\"marker\":{\"colorbar\":{\"outlinewidth\":0,\"ticks\":\"\"}}}],\"scatter3d\":[{\"type\":\"scatter3d\",\"line\":{\"colorbar\":{\"outlinewidth\":0,\"ticks\":\"\"}},\"marker\":{\"colorbar\":{\"outlinewidth\":0,\"ticks\":\"\"}}}],\"scattermapbox\":[{\"type\":\"scattermapbox\",\"marker\":{\"colorbar\":{\"outlinewidth\":0,\"ticks\":\"\"}}}],\"scatterternary\":[{\"type\":\"scatterternary\",\"marker\":{\"colorbar\":{\"outlinewidth\":0,\"ticks\":\"\"}}}],\"scattercarpet\":[{\"type\":\"scattercarpet\",\"marker\":{\"colorbar\":{\"outlinewidth\":0,\"ticks\":\"\"}}}],\"carpet\":[{\"aaxis\":{\"endlinecolor\":\"#2a3f5f\",\"gridcolor\":\"white\",\"linecolor\":\"white\",\"minorgridcolor\":\"white\",\"startlinecolor\":\"#2a3f5f\"},\"baxis\":{\"endlinecolor\":\"#2a3f5f\",\"gridcolor\":\"white\",\"linecolor\":\"white\",\"minorgridcolor\":\"white\",\"startlinecolor\":\"#2a3f5f\"},\"type\":\"carpet\"}],\"table\":[{\"cells\":{\"fill\":{\"color\":\"#EBF0F8\"},\"line\":{\"color\":\"white\"}},\"header\":{\"fill\":{\"color\":\"#C8D4E3\"},\"line\":{\"color\":\"white\"}},\"type\":\"table\"}],\"barpolar\":[{\"marker\":{\"line\":{\"color\":\"#E5ECF6\",\"width\":0.5},\"pattern\":{\"fillmode\":\"overlay\",\"size\":10,\"solidity\":0.2}},\"type\":\"barpolar\"}],\"pie\":[{\"automargin\":true,\"type\":\"pie\"}]},\"layout\":{\"autotypenumbers\":\"strict\",\"colorway\":[\"#636efa\",\"#EF553B\",\"#00cc96\",\"#ab63fa\",\"#FFA15A\",\"#19d3f3\",\"#FF6692\",\"#B6E880\",\"#FF97FF\",\"#FECB52\"],\"font\":{\"color\":\"#2a3f5f\"},\"hovermode\":\"closest\",\"hoverlabel\":{\"align\":\"left\"},\"paper_bgcolor\":\"white\",\"plot_bgcolor\":\"#E5ECF6\",\"polar\":{\"bgcolor\":\"#E5ECF6\",\"angularaxis\":{\"gridcolor\":\"white\",\"linecolor\":\"white\",\"ticks\":\"\"},\"radialaxis\":{\"gridcolor\":\"white\",\"linecolor\":\"white\",\"ticks\":\"\"}},\"ternary\":{\"bgcolor\":\"#E5ECF6\",\"aaxis\":{\"gridcolor\":\"white\",\"linecolor\":\"white\",\"ticks\":\"\"},\"baxis\":{\"gridcolor\":\"white\",\"linecolor\":\"white\",\"ticks\":\"\"},\"caxis\":{\"gridcolor\":\"white\",\"linecolor\":\"white\",\"ticks\":\"\"}},\"coloraxis\":{\"colorbar\":{\"outlinewidth\":0,\"ticks\":\"\"}},\"colorscale\":{\"sequential\":[[0.0,\"#0d0887\"],[0.1111111111111111,\"#46039f\"],[0.2222222222222222,\"#7201a8\"],[0.3333333333333333,\"#9c179e\"],[0.4444444444444444,\"#bd3786\"],[0.5555555555555556,\"#d8576b\"],[0.6666666666666666,\"#ed7953\"],[0.7777777777777778,\"#fb9f3a\"],[0.8888888888888888,\"#fdca26\"],[1.0,\"#f0f921\"]],\"sequentialminus\":[[0.0,\"#0d0887\"],[0.1111111111111111,\"#46039f\"],[0.2222222222222222,\"#7201a8\"],[0.3333333333333333,\"#9c179e\"],[0.4444444444444444,\"#bd3786\"],[0.5555555555555556,\"#d8576b\"],[0.6666666666666666,\"#ed7953\"],[0.7777777777777778,\"#fb9f3a\"],[0.8888888888888888,\"#fdca26\"],[1.0,\"#f0f921\"]],\"diverging\":[[0,\"#8e0152\"],[0.1,\"#c51b7d\"],[0.2,\"#de77ae\"],[0.3,\"#f1b6da\"],[0.4,\"#fde0ef\"],[0.5,\"#f7f7f7\"],[0.6,\"#e6f5d0\"],[0.7,\"#b8e186\"],[0.8,\"#7fbc41\"],[0.9,\"#4d9221\"],[1,\"#276419\"]]},\"xaxis\":{\"gridcolor\":\"white\",\"linecolor\":\"white\",\"ticks\":\"\",\"title\":{\"standoff\":15},\"zerolinecolor\":\"white\",\"automargin\":true,\"zerolinewidth\":2},\"yaxis\":{\"gridcolor\":\"white\",\"linecolor\":\"white\",\"ticks\":\"\",\"title\":{\"standoff\":15},\"zerolinecolor\":\"white\",\"automargin\":true,\"zerolinewidth\":2},\"scene\":{\"xaxis\":{\"backgroundcolor\":\"#E5ECF6\",\"gridcolor\":\"white\",\"linecolor\":\"white\",\"showbackground\":true,\"ticks\":\"\",\"zerolinecolor\":\"white\",\"gridwidth\":2},\"yaxis\":{\"backgroundcolor\":\"#E5ECF6\",\"gridcolor\":\"white\",\"linecolor\":\"white\",\"showbackground\":true,\"ticks\":\"\",\"zerolinecolor\":\"white\",\"gridwidth\":2},\"zaxis\":{\"backgroundcolor\":\"#E5ECF6\",\"gridcolor\":\"white\",\"linecolor\":\"white\",\"showbackground\":true,\"ticks\":\"\",\"zerolinecolor\":\"white\",\"gridwidth\":2}},\"shapedefaults\":{\"line\":{\"color\":\"#2a3f5f\"}},\"annotationdefaults\":{\"arrowcolor\":\"#2a3f5f\",\"arrowhead\":0,\"arrowwidth\":1},\"geo\":{\"bgcolor\":\"white\",\"landcolor\":\"#E5ECF6\",\"subunitcolor\":\"white\",\"showland\":true,\"showlakes\":true,\"lakecolor\":\"white\"},\"title\":{\"x\":0.05},\"mapbox\":{\"style\":\"light\"}}},\"xaxis\":{\"anchor\":\"y\",\"domain\":[0.0,1.0],\"title\":{\"text\":\"Brand\"}},\"yaxis\":{\"anchor\":\"x\",\"domain\":[0.0,1.0],\"title\":{\"text\":\"Mentions\"}},\"coloraxis\":{\"colorbar\":{\"title\":{\"text\":\"color\"}},\"colorscale\":[[0.0,\"#440154\"],[0.1111111111111111,\"#482878\"],[0.2222222222222222,\"#3e4989\"],[0.3333333333333333,\"#31688e\"],[0.4444444444444444,\"#26828e\"],[0.5555555555555556,\"#1f9e89\"],[0.6666666666666666,\"#35b779\"],[0.7777777777777778,\"#6ece58\"],[0.8888888888888888,\"#b5de2b\"],[1.0,\"#fde725\"]]},\"legend\":{\"tracegroupgap\":0},\"title\":{\"text\":\"Top Mentioned Brands\"},\"barmode\":\"relative\",\"showlegend\":false,\"height\":400},                        {\"responsive\": true}                    ).then(function(){\n",
              "                            \n",
              "var gd = document.getElementById('27373cac-f210-46be-8bb0-cc660430a324');\n",
              "var x = new MutationObserver(function (mutations, observer) {{\n",
              "        var display = window.getComputedStyle(gd).display;\n",
              "        if (!display || display === 'none') {{\n",
              "            console.log([gd, 'removed!']);\n",
              "            Plotly.purge(gd);\n",
              "            observer.disconnect();\n",
              "        }}\n",
              "}});\n",
              "\n",
              "// Listen for the removal of the full notebook cells\n",
              "var notebookContainer = gd.closest('#notebook-container');\n",
              "if (notebookContainer) {{\n",
              "    x.observe(notebookContainer, {childList: true});\n",
              "}}\n",
              "\n",
              "// Listen for the clearing of the current output cell\n",
              "var outputEl = gd.closest('.output');\n",
              "if (outputEl) {{\n",
              "    x.observe(outputEl, {childList: true});\n",
              "}}\n",
              "\n",
              "                        })                };                            </script>        </div>\n",
              "</body>\n",
              "</html>"
            ]
          },
          "metadata": {}
        }
      ],
      "source": [
        "# Visualizing Top Brands\n",
        "if brand_counts:\n",
        "    top_brands = dict(brand_counts.most_common(8))\n",
        "\n",
        "    fig = px.bar(x=list(top_brands.keys()), y=list(top_brands.values()),\n",
        "                 title='Top Mentioned Brands',\n",
        "                 labels={'x': 'Brand', 'y': 'Mentions'},\n",
        "                 color=list(top_brands.values()),\n",
        "                 color_continuous_scale='viridis')\n",
        "    fig.update_layout(showlegend=False, height=400)\n",
        "    fig.show()"
      ]
    },
    {
      "cell_type": "code",
      "execution_count": null,
      "metadata": {
        "colab": {
          "base_uri": "https://localhost:8080/",
          "height": 417
        },
        "id": "awNTsc2h1sEH",
        "outputId": "af832827-c918-4101-830c-f944165c17f7"
      },
      "outputs": [
        {
          "output_type": "display_data",
          "data": {
            "text/html": [
              "<html>\n",
              "<head><meta charset=\"utf-8\" /></head>\n",
              "<body>\n",
              "    <div>            <script src=\"https://cdnjs.cloudflare.com/ajax/libs/mathjax/2.7.5/MathJax.js?config=TeX-AMS-MML_SVG\"></script><script type=\"text/javascript\">if (window.MathJax && window.MathJax.Hub && window.MathJax.Hub.Config) {window.MathJax.Hub.Config({SVG: {font: \"STIX-Web\"}});}</script>                <script type=\"text/javascript\">window.PlotlyConfig = {MathJaxConfig: 'local'};</script>\n",
              "        <script charset=\"utf-8\" src=\"https://cdn.plot.ly/plotly-2.35.2.min.js\"></script>                <div id=\"836c2394-bc48-46b1-97be-fad10735743d\" class=\"plotly-graph-div\" style=\"height:400px; width:100%;\"></div>            <script type=\"text/javascript\">                                    window.PLOTLYENV=window.PLOTLYENV || {};                                    if (document.getElementById(\"836c2394-bc48-46b1-97be-fad10735743d\")) {                    Plotly.newPlot(                        \"836c2394-bc48-46b1-97be-fad10735743d\",                        [{\"hovertemplate\":\"sentiment=Positive\\u003cbr\\u003eStar Rating=%{x}\\u003cbr\\u003eSentiment Score=%{y}\\u003cextra\\u003e\\u003c\\u002fextra\\u003e\",\"legendgroup\":\"Positive\",\"marker\":{\"color\":\"#2ecc71\",\"symbol\":\"circle\"},\"mode\":\"markers\",\"name\":\"Positive\",\"orientation\":\"v\",\"showlegend\":true,\"x\":[5,5,2,5,4,5,5,4,4,5,5,4,5,5,5,5,4,1,5,5,4,5,1,5,5,4,3,3,5,5,5,5,5,5,5,5,5,5,5,5,5,5,5,5,5,5,3,5,4,1,5,5,5,5,5,5,5,5,5,5,4,5,4,1,3,5,3,5,4,5,4,5,1,5,5,5,5,4,5,5,5,5,5,5,5,5,5,3,5,2,4,5,4,4,5,4,5,4,5,3,4,3,5,5,5,1,1,4,5,4,5,5,5,5,5,2,4,5,5,5,1,5,5,5,4,4,4,5,5,4,5,2,5,4,5,2,4,5,2,5,5,5,4,5,5,5,5,5,4,5,5,5,5,5,5,5,5,5,5,5,5,3,3,4,5,5,5,5,5,1,4,4,5,5,3,5,5,2,5,5,5,3,5,5,2,5,1,3,5,5,5,5,5,5,5,5,5,5,5,5,4,5,5,4,4,5,4,5,5,5,5,5,5,4,5,5,5,5,5,5,3,5,5,5,5,5,5,5,5,5,5,5,5,4,5,5,5,5,2,5,5,5,4,5,5,4,5,5,5,5,5,5,5,5,5,3,5,1,1,5,5,5,5,5,5,2,4,5,5,5,4,1,5,5,5,2,5,4,4,4,5,5,5,5,5,5,5,5,5,5,5,5,1,5,5,5,5,5,5,5,5,5,5,5,5,5,4,5,3,5,5,5,5,5,5,5,5,4,5,5,5,5,4,5,4,1,5,5,1,5,5,5,3,5,5,4,5,4,5,5,4,5,4,1,5,5,5,5,5,4,5,4,4,5,4,5,5,5,5,5,1,5,5,5,5,5,4,5,5,5,5,4,4,5,1,3,5,4,5,5,5,5,5,4,5],\"xaxis\":\"x\",\"y\":[0.319,0.435,0.159,0.236,0.5,0.31,0.117,0.233,0.106,0.531,0.427,0.267,0.27,0.45,0.297,0.362,0.475,0.302,0.335,0.472,0.344,0.164,0.269,0.185,0.2,0.206,0.204,0.146,0.244,0.327,0.113,0.229,0.233,0.406,0.383,0.329,0.362,0.196,0.68,0.394,0.399,0.284,0.411,0.518,0.1,0.296,0.202,0.14,0.173,0.343,0.38,0.642,0.192,0.159,0.55,0.575,0.325,0.337,1.0,0.485,0.187,0.38,0.448,0.107,0.35,0.235,0.352,0.65,0.412,0.35,0.229,0.101,0.105,0.181,0.214,0.157,0.264,0.331,0.32,0.7,0.214,0.171,0.533,0.555,0.112,0.367,0.159,0.267,0.245,0.317,0.342,0.401,0.313,0.361,0.109,0.183,0.242,0.11,0.503,0.149,0.296,0.133,0.289,0.256,0.226,0.175,0.14,0.39,0.244,0.477,0.707,0.458,0.291,0.16,0.363,0.104,0.243,0.42,0.465,0.36,0.233,0.13,0.629,0.56,0.177,0.297,0.175,0.165,0.239,0.2,0.333,0.226,0.533,0.196,0.336,0.197,0.195,0.788,0.102,0.121,0.224,0.287,0.494,0.165,0.231,0.325,0.134,0.365,0.205,0.558,0.474,0.5,0.348,0.253,0.127,0.495,0.25,0.277,0.267,0.2,0.333,0.34,0.116,0.163,0.302,0.101,0.518,0.22,0.3,0.24,0.372,0.517,0.284,0.252,0.146,0.25,0.312,0.202,0.218,0.434,0.427,0.116,0.236,0.258,0.146,0.565,0.11,0.409,0.159,0.199,0.333,0.311,0.111,0.334,0.35,0.406,0.19,0.417,0.489,0.176,0.276,0.104,0.4,0.18,0.138,0.193,0.348,0.115,0.65,0.525,1.0,0.333,0.351,0.508,0.169,0.8,0.479,0.292,0.406,0.367,0.146,0.509,0.202,0.181,0.4,0.399,0.625,0.552,0.277,0.25,0.467,0.419,0.25,0.124,0.16,0.325,0.27,0.337,0.5,0.6,0.202,0.623,0.171,0.155,0.155,0.106,0.535,0.325,0.251,0.283,0.711,0.51,0.2,0.524,0.25,0.129,0.212,0.254,0.201,0.394,0.471,0.312,0.251,0.335,0.465,0.18,0.453,0.198,0.121,0.312,0.189,0.133,0.288,0.194,0.565,0.308,0.497,0.44,0.153,0.475,0.356,0.282,0.125,0.473,0.43,0.16,0.42,0.2,0.4,0.378,0.248,0.969,0.246,0.483,0.204,0.158,0.233,0.19,0.308,0.123,0.182,0.277,0.246,0.11,0.253,0.644,0.189,0.342,0.246,0.386,0.502,0.133,0.194,0.287,0.567,0.45,0.355,0.447,0.615,0.75,0.278,0.15,0.107,0.23,0.334,0.105,0.282,0.382,0.162,0.486,0.258,0.186,0.544,0.296,0.244,0.156,0.162,0.236,0.493,0.544,0.458,0.381,0.7,0.129,0.17,0.44,0.606,0.42,0.115,0.164,0.681,0.222,0.296,0.254,0.519,0.7,0.309,0.226,0.417,0.491,0.286,0.433,0.65,0.6,0.243,0.368,0.117,0.381,0.169,0.169,0.288,0.4,0.586,0.12,0.128,0.159,0.293,0.259,0.233,0.469,0.35,0.116,0.454,0.359,0.113],\"yaxis\":\"y\",\"type\":\"scatter\"},{\"hovertemplate\":\"sentiment=Neutral\\u003cbr\\u003eStar Rating=%{x}\\u003cbr\\u003eSentiment Score=%{y}\\u003cextra\\u003e\\u003c\\u002fextra\\u003e\",\"legendgroup\":\"Neutral\",\"marker\":{\"color\":\"#95a5a6\",\"symbol\":\"circle\"},\"mode\":\"markers\",\"name\":\"Neutral\",\"orientation\":\"v\",\"showlegend\":true,\"x\":[3,5,5,5,5,1,4,5,5,5,3,1,2,5,5,1,1,5,5,1,3,2,1,5,5,1,5,5,3,5,2,4,5,4,1,4,4,1,5,1,3,2,5,5,5,4,3,5,4,1,4,5,5,5,5,1,5,3,3,5,5,5,1,4,4,5,4,4,5,5,5,4,2,5,5,5,5,3,1,1,2,1,2,2,1,5,2,5,3,5,5,2],\"xaxis\":\"x\",\"y\":[-0.011,0.063,0.085,0.087,0.1,-0.079,0.1,0.038,0.0,0.0,0.013,0.025,-0.062,0.098,0.098,0.017,-0.077,-0.071,-0.1,-0.068,-0.054,0.082,0.017,0.062,0.079,0.037,0.07,0.075,-0.031,0.05,-0.088,0.06,-0.075,0.066,0.087,0.037,0.046,-0.021,-0.021,-0.03,0.076,-0.015,0.006,-0.052,0.022,-0.059,0.056,0.0,-0.035,0.097,0.067,0.0,-0.088,-0.009,0.083,0.06,0.077,0.083,-0.031,0.0,-0.033,0.006,0.087,0.1,0.088,-0.027,0.002,-0.02,0.077,0.022,0.087,0.003,-0.073,-0.031,-0.051,0.086,0.035,0.083,0.027,-0.045,0.08,0.1,0.0,0.06,-0.044,-0.081,0.079,0.075,-0.037,0.079,0.0,0.005],\"yaxis\":\"y\",\"type\":\"scatter\"},{\"hovertemplate\":\"sentiment=Negative\\u003cbr\\u003eStar Rating=%{x}\\u003cbr\\u003eSentiment Score=%{y}\\u003cextra\\u003e\\u003c\\u002fextra\\u003e\",\"legendgroup\":\"Negative\",\"marker\":{\"color\":\"#e74c3c\",\"symbol\":\"circle\"},\"mode\":\"markers\",\"name\":\"Negative\",\"orientation\":\"v\",\"showlegend\":true,\"x\":[1,5,2,2,3,2,1,1,2,1,5,5,5,2,5,2,1,1,1,2,1,1,1],\"xaxis\":\"x\",\"y\":[-0.383,-0.167,-0.103,-0.295,-0.233,-0.2,-0.231,-0.25,-0.285,-0.115,-0.2,-0.163,-0.781,-0.137,-0.2,-0.15,-0.19,-0.111,-0.231,-0.191,-0.659,-0.167,-0.17],\"yaxis\":\"y\",\"type\":\"scatter\"}],                        {\"template\":{\"data\":{\"histogram2dcontour\":[{\"type\":\"histogram2dcontour\",\"colorbar\":{\"outlinewidth\":0,\"ticks\":\"\"},\"colorscale\":[[0.0,\"#0d0887\"],[0.1111111111111111,\"#46039f\"],[0.2222222222222222,\"#7201a8\"],[0.3333333333333333,\"#9c179e\"],[0.4444444444444444,\"#bd3786\"],[0.5555555555555556,\"#d8576b\"],[0.6666666666666666,\"#ed7953\"],[0.7777777777777778,\"#fb9f3a\"],[0.8888888888888888,\"#fdca26\"],[1.0,\"#f0f921\"]]}],\"choropleth\":[{\"type\":\"choropleth\",\"colorbar\":{\"outlinewidth\":0,\"ticks\":\"\"}}],\"histogram2d\":[{\"type\":\"histogram2d\",\"colorbar\":{\"outlinewidth\":0,\"ticks\":\"\"},\"colorscale\":[[0.0,\"#0d0887\"],[0.1111111111111111,\"#46039f\"],[0.2222222222222222,\"#7201a8\"],[0.3333333333333333,\"#9c179e\"],[0.4444444444444444,\"#bd3786\"],[0.5555555555555556,\"#d8576b\"],[0.6666666666666666,\"#ed7953\"],[0.7777777777777778,\"#fb9f3a\"],[0.8888888888888888,\"#fdca26\"],[1.0,\"#f0f921\"]]}],\"heatmap\":[{\"type\":\"heatmap\",\"colorbar\":{\"outlinewidth\":0,\"ticks\":\"\"},\"colorscale\":[[0.0,\"#0d0887\"],[0.1111111111111111,\"#46039f\"],[0.2222222222222222,\"#7201a8\"],[0.3333333333333333,\"#9c179e\"],[0.4444444444444444,\"#bd3786\"],[0.5555555555555556,\"#d8576b\"],[0.6666666666666666,\"#ed7953\"],[0.7777777777777778,\"#fb9f3a\"],[0.8888888888888888,\"#fdca26\"],[1.0,\"#f0f921\"]]}],\"heatmapgl\":[{\"type\":\"heatmapgl\",\"colorbar\":{\"outlinewidth\":0,\"ticks\":\"\"},\"colorscale\":[[0.0,\"#0d0887\"],[0.1111111111111111,\"#46039f\"],[0.2222222222222222,\"#7201a8\"],[0.3333333333333333,\"#9c179e\"],[0.4444444444444444,\"#bd3786\"],[0.5555555555555556,\"#d8576b\"],[0.6666666666666666,\"#ed7953\"],[0.7777777777777778,\"#fb9f3a\"],[0.8888888888888888,\"#fdca26\"],[1.0,\"#f0f921\"]]}],\"contourcarpet\":[{\"type\":\"contourcarpet\",\"colorbar\":{\"outlinewidth\":0,\"ticks\":\"\"}}],\"contour\":[{\"type\":\"contour\",\"colorbar\":{\"outlinewidth\":0,\"ticks\":\"\"},\"colorscale\":[[0.0,\"#0d0887\"],[0.1111111111111111,\"#46039f\"],[0.2222222222222222,\"#7201a8\"],[0.3333333333333333,\"#9c179e\"],[0.4444444444444444,\"#bd3786\"],[0.5555555555555556,\"#d8576b\"],[0.6666666666666666,\"#ed7953\"],[0.7777777777777778,\"#fb9f3a\"],[0.8888888888888888,\"#fdca26\"],[1.0,\"#f0f921\"]]}],\"surface\":[{\"type\":\"surface\",\"colorbar\":{\"outlinewidth\":0,\"ticks\":\"\"},\"colorscale\":[[0.0,\"#0d0887\"],[0.1111111111111111,\"#46039f\"],[0.2222222222222222,\"#7201a8\"],[0.3333333333333333,\"#9c179e\"],[0.4444444444444444,\"#bd3786\"],[0.5555555555555556,\"#d8576b\"],[0.6666666666666666,\"#ed7953\"],[0.7777777777777778,\"#fb9f3a\"],[0.8888888888888888,\"#fdca26\"],[1.0,\"#f0f921\"]]}],\"mesh3d\":[{\"type\":\"mesh3d\",\"colorbar\":{\"outlinewidth\":0,\"ticks\":\"\"}}],\"scatter\":[{\"fillpattern\":{\"fillmode\":\"overlay\",\"size\":10,\"solidity\":0.2},\"type\":\"scatter\"}],\"parcoords\":[{\"type\":\"parcoords\",\"line\":{\"colorbar\":{\"outlinewidth\":0,\"ticks\":\"\"}}}],\"scatterpolargl\":[{\"type\":\"scatterpolargl\",\"marker\":{\"colorbar\":{\"outlinewidth\":0,\"ticks\":\"\"}}}],\"bar\":[{\"error_x\":{\"color\":\"#2a3f5f\"},\"error_y\":{\"color\":\"#2a3f5f\"},\"marker\":{\"line\":{\"color\":\"#E5ECF6\",\"width\":0.5},\"pattern\":{\"fillmode\":\"overlay\",\"size\":10,\"solidity\":0.2}},\"type\":\"bar\"}],\"scattergeo\":[{\"type\":\"scattergeo\",\"marker\":{\"colorbar\":{\"outlinewidth\":0,\"ticks\":\"\"}}}],\"scatterpolar\":[{\"type\":\"scatterpolar\",\"marker\":{\"colorbar\":{\"outlinewidth\":0,\"ticks\":\"\"}}}],\"histogram\":[{\"marker\":{\"pattern\":{\"fillmode\":\"overlay\",\"size\":10,\"solidity\":0.2}},\"type\":\"histogram\"}],\"scattergl\":[{\"type\":\"scattergl\",\"marker\":{\"colorbar\":{\"outlinewidth\":0,\"ticks\":\"\"}}}],\"scatter3d\":[{\"type\":\"scatter3d\",\"line\":{\"colorbar\":{\"outlinewidth\":0,\"ticks\":\"\"}},\"marker\":{\"colorbar\":{\"outlinewidth\":0,\"ticks\":\"\"}}}],\"scattermapbox\":[{\"type\":\"scattermapbox\",\"marker\":{\"colorbar\":{\"outlinewidth\":0,\"ticks\":\"\"}}}],\"scatterternary\":[{\"type\":\"scatterternary\",\"marker\":{\"colorbar\":{\"outlinewidth\":0,\"ticks\":\"\"}}}],\"scattercarpet\":[{\"type\":\"scattercarpet\",\"marker\":{\"colorbar\":{\"outlinewidth\":0,\"ticks\":\"\"}}}],\"carpet\":[{\"aaxis\":{\"endlinecolor\":\"#2a3f5f\",\"gridcolor\":\"white\",\"linecolor\":\"white\",\"minorgridcolor\":\"white\",\"startlinecolor\":\"#2a3f5f\"},\"baxis\":{\"endlinecolor\":\"#2a3f5f\",\"gridcolor\":\"white\",\"linecolor\":\"white\",\"minorgridcolor\":\"white\",\"startlinecolor\":\"#2a3f5f\"},\"type\":\"carpet\"}],\"table\":[{\"cells\":{\"fill\":{\"color\":\"#EBF0F8\"},\"line\":{\"color\":\"white\"}},\"header\":{\"fill\":{\"color\":\"#C8D4E3\"},\"line\":{\"color\":\"white\"}},\"type\":\"table\"}],\"barpolar\":[{\"marker\":{\"line\":{\"color\":\"#E5ECF6\",\"width\":0.5},\"pattern\":{\"fillmode\":\"overlay\",\"size\":10,\"solidity\":0.2}},\"type\":\"barpolar\"}],\"pie\":[{\"automargin\":true,\"type\":\"pie\"}]},\"layout\":{\"autotypenumbers\":\"strict\",\"colorway\":[\"#636efa\",\"#EF553B\",\"#00cc96\",\"#ab63fa\",\"#FFA15A\",\"#19d3f3\",\"#FF6692\",\"#B6E880\",\"#FF97FF\",\"#FECB52\"],\"font\":{\"color\":\"#2a3f5f\"},\"hovermode\":\"closest\",\"hoverlabel\":{\"align\":\"left\"},\"paper_bgcolor\":\"white\",\"plot_bgcolor\":\"#E5ECF6\",\"polar\":{\"bgcolor\":\"#E5ECF6\",\"angularaxis\":{\"gridcolor\":\"white\",\"linecolor\":\"white\",\"ticks\":\"\"},\"radialaxis\":{\"gridcolor\":\"white\",\"linecolor\":\"white\",\"ticks\":\"\"}},\"ternary\":{\"bgcolor\":\"#E5ECF6\",\"aaxis\":{\"gridcolor\":\"white\",\"linecolor\":\"white\",\"ticks\":\"\"},\"baxis\":{\"gridcolor\":\"white\",\"linecolor\":\"white\",\"ticks\":\"\"},\"caxis\":{\"gridcolor\":\"white\",\"linecolor\":\"white\",\"ticks\":\"\"}},\"coloraxis\":{\"colorbar\":{\"outlinewidth\":0,\"ticks\":\"\"}},\"colorscale\":{\"sequential\":[[0.0,\"#0d0887\"],[0.1111111111111111,\"#46039f\"],[0.2222222222222222,\"#7201a8\"],[0.3333333333333333,\"#9c179e\"],[0.4444444444444444,\"#bd3786\"],[0.5555555555555556,\"#d8576b\"],[0.6666666666666666,\"#ed7953\"],[0.7777777777777778,\"#fb9f3a\"],[0.8888888888888888,\"#fdca26\"],[1.0,\"#f0f921\"]],\"sequentialminus\":[[0.0,\"#0d0887\"],[0.1111111111111111,\"#46039f\"],[0.2222222222222222,\"#7201a8\"],[0.3333333333333333,\"#9c179e\"],[0.4444444444444444,\"#bd3786\"],[0.5555555555555556,\"#d8576b\"],[0.6666666666666666,\"#ed7953\"],[0.7777777777777778,\"#fb9f3a\"],[0.8888888888888888,\"#fdca26\"],[1.0,\"#f0f921\"]],\"diverging\":[[0,\"#8e0152\"],[0.1,\"#c51b7d\"],[0.2,\"#de77ae\"],[0.3,\"#f1b6da\"],[0.4,\"#fde0ef\"],[0.5,\"#f7f7f7\"],[0.6,\"#e6f5d0\"],[0.7,\"#b8e186\"],[0.8,\"#7fbc41\"],[0.9,\"#4d9221\"],[1,\"#276419\"]]},\"xaxis\":{\"gridcolor\":\"white\",\"linecolor\":\"white\",\"ticks\":\"\",\"title\":{\"standoff\":15},\"zerolinecolor\":\"white\",\"automargin\":true,\"zerolinewidth\":2},\"yaxis\":{\"gridcolor\":\"white\",\"linecolor\":\"white\",\"ticks\":\"\",\"title\":{\"standoff\":15},\"zerolinecolor\":\"white\",\"automargin\":true,\"zerolinewidth\":2},\"scene\":{\"xaxis\":{\"backgroundcolor\":\"#E5ECF6\",\"gridcolor\":\"white\",\"linecolor\":\"white\",\"showbackground\":true,\"ticks\":\"\",\"zerolinecolor\":\"white\",\"gridwidth\":2},\"yaxis\":{\"backgroundcolor\":\"#E5ECF6\",\"gridcolor\":\"white\",\"linecolor\":\"white\",\"showbackground\":true,\"ticks\":\"\",\"zerolinecolor\":\"white\",\"gridwidth\":2},\"zaxis\":{\"backgroundcolor\":\"#E5ECF6\",\"gridcolor\":\"white\",\"linecolor\":\"white\",\"showbackground\":true,\"ticks\":\"\",\"zerolinecolor\":\"white\",\"gridwidth\":2}},\"shapedefaults\":{\"line\":{\"color\":\"#2a3f5f\"}},\"annotationdefaults\":{\"arrowcolor\":\"#2a3f5f\",\"arrowhead\":0,\"arrowwidth\":1},\"geo\":{\"bgcolor\":\"white\",\"landcolor\":\"#E5ECF6\",\"subunitcolor\":\"white\",\"showland\":true,\"showlakes\":true,\"lakecolor\":\"white\"},\"title\":{\"x\":0.05},\"mapbox\":{\"style\":\"light\"}}},\"xaxis\":{\"anchor\":\"y\",\"domain\":[0.0,1.0],\"title\":{\"text\":\"Star Rating\"}},\"yaxis\":{\"anchor\":\"x\",\"domain\":[0.0,1.0],\"title\":{\"text\":\"Sentiment Score\"}},\"legend\":{\"title\":{\"text\":\"sentiment\"},\"tracegroupgap\":0},\"title\":{\"text\":\"Rating vs Sentiment Score\"},\"height\":400,\"shapes\":[{\"line\":{\"color\":\"red\",\"dash\":\"dash\"},\"type\":\"line\",\"x0\":0,\"x1\":1,\"xref\":\"x domain\",\"y0\":0,\"y1\":0,\"yref\":\"y\"}]},                        {\"responsive\": true}                    ).then(function(){\n",
              "                            \n",
              "var gd = document.getElementById('836c2394-bc48-46b1-97be-fad10735743d');\n",
              "var x = new MutationObserver(function (mutations, observer) {{\n",
              "        var display = window.getComputedStyle(gd).display;\n",
              "        if (!display || display === 'none') {{\n",
              "            console.log([gd, 'removed!']);\n",
              "            Plotly.purge(gd);\n",
              "            observer.disconnect();\n",
              "        }}\n",
              "}});\n",
              "\n",
              "// Listen for the removal of the full notebook cells\n",
              "var notebookContainer = gd.closest('#notebook-container');\n",
              "if (notebookContainer) {{\n",
              "    x.observe(notebookContainer, {childList: true});\n",
              "}}\n",
              "\n",
              "// Listen for the clearing of the current output cell\n",
              "var outputEl = gd.closest('.output');\n",
              "if (outputEl) {{\n",
              "    x.observe(outputEl, {childList: true});\n",
              "}}\n",
              "\n",
              "                        })                };                            </script>        </div>\n",
              "</body>\n",
              "</html>"
            ]
          },
          "metadata": {}
        }
      ],
      "source": [
        "# Visualization 3: Rating vs Sentiment\n",
        "fig = px.scatter(results_df, x='rating', y='sentiment_score',\n",
        "                 color='sentiment',\n",
        "                 title='Rating vs Sentiment Score',\n",
        "                 labels={'rating': 'Star Rating', 'sentiment_score': 'Sentiment Score'},\n",
        "                 color_discrete_map={'Positive': '#2ecc71', 'Negative': '#e74c3c', 'Neutral': '#95a5a6'},\n",
        "                 height=400)\n",
        "fig.add_hline(y=0, line_dash=\"dash\", line_color=\"red\")\n",
        "fig.show()"
      ]
    },
    {
      "cell_type": "code",
      "execution_count": null,
      "metadata": {
        "colab": {
          "base_uri": "https://localhost:8080/",
          "height": 1000
        },
        "id": "UoIR9JXE2VP1",
        "outputId": "0649f5fc-4e5e-4a68-f669-0761c4a1f91c"
      },
      "outputs": [
        {
          "output_type": "display_data",
          "data": {
            "text/html": [
              "<html>\n",
              "<head><meta charset=\"utf-8\" /></head>\n",
              "<body>\n",
              "    <div>            <script src=\"https://cdnjs.cloudflare.com/ajax/libs/mathjax/2.7.5/MathJax.js?config=TeX-AMS-MML_SVG\"></script><script type=\"text/javascript\">if (window.MathJax && window.MathJax.Hub && window.MathJax.Hub.Config) {window.MathJax.Hub.Config({SVG: {font: \"STIX-Web\"}});}</script>                <script type=\"text/javascript\">window.PlotlyConfig = {MathJaxConfig: 'local'};</script>\n",
              "        <script charset=\"utf-8\" src=\"https://cdn.plot.ly/plotly-2.35.2.min.js\"></script>                <div id=\"e47d8ccd-b474-4a2e-8c7a-2a03301b850d\" class=\"plotly-graph-div\" style=\"height:1200px; width:100%;\"></div>            <script type=\"text/javascript\">                                    window.PLOTLYENV=window.PLOTLYENV || {};                                    if (document.getElementById(\"e47d8ccd-b474-4a2e-8c7a-2a03301b850d\")) {                    Plotly.newPlot(                        \"e47d8ccd-b474-4a2e-8c7a-2a03301b850d\",                        [{\"hole\":0.3,\"labels\":[\"Positive\",\"Neutral\",\"Negative\"],\"marker\":{\"colors\":[\"#2ecc71\",\"#95a5a6\",\"#e74c3c\"]},\"textinfo\":\"label+percent\",\"values\":[385,92,23],\"type\":\"pie\",\"domain\":{\"x\":[0.0,0.45],\"y\":[0.7777777777777778,1.0]}},{\"marker\":{\"color\":\"#3498db\"},\"name\":\"Sentiment Score\",\"nbinsx\":20,\"x\":[0.319,0.435,-0.011,0.159,0.236,0.5,0.31,0.117,0.233,0.063,0.106,0.531,0.427,0.267,-0.383,0.27,0.085,0.45,0.297,0.362,0.475,0.087,0.302,0.1,0.335,0.472,0.344,-0.079,0.164,0.1,0.269,0.185,0.2,0.206,0.038,0.204,0.146,0.0,0.244,0.327,0.113,0.229,0.233,0.0,0.406,0.383,0.329,0.013,0.025,-0.167,-0.062,0.362,0.196,0.68,0.394,0.399,0.284,0.411,0.518,0.1,0.296,0.098,0.098,0.017,0.202,-0.077,0.14,0.173,-0.071,-0.103,0.343,-0.1,-0.068,0.38,-0.295,0.642,0.192,-0.054,0.159,0.082,0.55,0.017,0.062,0.575,0.325,0.337,1.0,0.485,0.187,0.38,0.448,0.107,-0.233,0.35,0.235,0.352,0.079,0.037,0.07,0.65,0.075,0.412,0.35,0.229,0.101,0.105,0.181,0.214,0.157,0.264,0.331,-0.031,0.32,0.7,0.214,0.171,0.533,0.555,0.112,0.367,0.159,0.267,0.245,0.317,0.342,0.401,0.313,0.05,0.361,0.109,0.183,0.242,0.11,0.503,0.149,0.296,0.133,-0.088,0.06,0.289,0.256,0.226,0.175,0.14,0.39,0.244,0.477,0.707,0.458,0.291,0.16,0.363,-0.075,0.104,0.243,0.42,0.465,0.36,0.233,0.13,0.629,0.56,0.177,0.297,-0.2,0.175,0.165,0.239,0.2,0.333,0.226,0.066,0.087,0.533,0.037,0.196,0.336,0.197,0.195,0.046,0.788,0.102,0.121,-0.021,0.224,0.287,-0.021,0.494,0.165,0.231,0.325,0.134,0.365,0.205,-0.03,0.558,0.474,0.076,-0.015,0.5,0.348,0.253,0.006,0.127,-0.231,-0.052,0.495,0.022,-0.059,0.25,0.277,0.267,0.056,0.2,0.0,0.333,0.34,0.116,-0.035,0.163,0.302,0.101,0.518,0.22,0.3,0.097,0.24,0.067,0.372,0.517,0.284,0.252,0.146,0.25,0.312,0.202,0.218,0.434,0.0,0.427,0.116,-0.088,0.236,0.258,0.146,0.565,-0.009,0.11,0.409,-0.25,0.159,0.083,0.199,0.333,0.311,-0.285,0.111,0.334,0.35,0.406,0.19,0.417,0.06,0.077,0.489,-0.115,0.176,0.276,0.104,0.4,0.18,0.138,0.083,0.193,0.348,0.115,0.65,0.525,1.0,0.333,0.351,0.508,0.169,0.8,0.479,0.292,-0.031,0.406,0.367,0.146,0.509,0.202,0.181,0.4,0.399,0.0,0.625,0.552,0.277,-0.033,0.006,0.25,0.467,0.419,0.25,0.124,0.16,0.325,0.087,0.27,0.337,-0.2,0.5,0.1,0.6,-0.163,0.088,0.202,0.623,0.171,0.155,0.155,-0.781,-0.027,0.106,0.535,0.325,0.251,0.002,0.283,-0.02,0.711,0.51,0.2,0.524,0.25,-0.137,0.129,-0.2,0.077,0.212,0.022,0.254,0.201,0.394,0.471,0.312,0.251,0.335,0.465,0.18,0.453,0.198,-0.15,0.121,0.312,0.087,0.189,0.133,0.288,0.194,0.565,0.308,0.497,0.44,0.153,-0.19,0.475,0.356,-0.111,0.282,0.125,0.473,0.43,0.16,0.42,-0.231,0.2,0.4,0.378,0.248,0.969,0.246,0.483,0.204,0.158,0.233,0.003,0.19,-0.073,0.308,0.123,-0.191,0.182,-0.031,0.277,0.246,0.11,-0.051,0.253,0.644,0.189,0.086,0.342,0.246,0.386,0.502,0.035,0.133,0.194,0.287,0.567,0.45,0.355,0.447,0.615,0.083,0.75,0.278,0.15,0.107,0.027,0.23,0.334,0.105,0.282,0.382,-0.045,0.162,0.486,0.258,0.186,0.08,0.1,0.0,0.544,0.296,0.244,0.156,0.162,0.236,0.06,0.493,0.544,0.458,0.381,0.7,0.129,-0.044,0.17,0.44,-0.081,0.079,0.606,0.42,0.115,0.164,0.681,0.222,0.296,0.075,0.254,0.519,0.7,-0.037,0.309,0.079,0.226,0.417,0.491,0.286,0.433,0.65,0.6,0.243,0.368,0.117,0.381,0.169,-0.659,0.169,0.0,0.288,0.4,0.586,0.12,0.005,-0.167,0.128,0.159,0.293,0.259,0.233,0.469,-0.17,0.35,0.116,0.454,0.359,0.113],\"type\":\"histogram\",\"xaxis\":\"x\",\"yaxis\":\"y\"},{\"marker\":{\"color\":[70,6,4,4,3,3,3,2]},\"name\":\"Brands\",\"x\":[\"Amazon\",\"MSG\",\"Whole Foods\",\"Senseo\",\"Marley Coffee\",\"LOT\",\"PB2\",\"Starbucks\"],\"y\":[70,6,4,4,3,3,3,2],\"type\":\"bar\",\"xaxis\":\"x2\",\"yaxis\":\"y2\"},{\"marker\":{\"color\":[2,1,1,1,1,1,1,1]},\"name\":\"Products\",\"x\":[\"Red Espresso\",\"Byetta\",\"who:\\u003cbr\",\"Shrimp\",\"Nut Delight\",\"Made\",\"Whiskas Temptation\",\"Convenient\"],\"y\":[2,1,1,1,1,1,1,1],\"type\":\"bar\",\"xaxis\":\"x3\",\"yaxis\":\"y3\"},{\"marker\":{\"color\":[\"#2ecc71\",\"#2ecc71\",\"#95a5a6\",\"#2ecc71\",\"#2ecc71\",\"#2ecc71\",\"#2ecc71\",\"#2ecc71\",\"#2ecc71\",\"#95a5a6\",\"#2ecc71\",\"#2ecc71\",\"#2ecc71\",\"#2ecc71\",\"#e74c3c\",\"#2ecc71\",\"#95a5a6\",\"#2ecc71\",\"#2ecc71\",\"#2ecc71\",\"#2ecc71\",\"#95a5a6\",\"#2ecc71\",\"#95a5a6\",\"#2ecc71\",\"#2ecc71\",\"#2ecc71\",\"#95a5a6\",\"#2ecc71\",\"#95a5a6\",\"#2ecc71\",\"#2ecc71\",\"#2ecc71\",\"#2ecc71\",\"#95a5a6\",\"#2ecc71\",\"#2ecc71\",\"#95a5a6\",\"#2ecc71\",\"#2ecc71\",\"#2ecc71\",\"#2ecc71\",\"#2ecc71\",\"#95a5a6\",\"#2ecc71\",\"#2ecc71\",\"#2ecc71\",\"#95a5a6\",\"#95a5a6\",\"#e74c3c\",\"#95a5a6\",\"#2ecc71\",\"#2ecc71\",\"#2ecc71\",\"#2ecc71\",\"#2ecc71\",\"#2ecc71\",\"#2ecc71\",\"#2ecc71\",\"#2ecc71\",\"#2ecc71\",\"#95a5a6\",\"#95a5a6\",\"#95a5a6\",\"#2ecc71\",\"#95a5a6\",\"#2ecc71\",\"#2ecc71\",\"#95a5a6\",\"#e74c3c\",\"#2ecc71\",\"#95a5a6\",\"#95a5a6\",\"#2ecc71\",\"#e74c3c\",\"#2ecc71\",\"#2ecc71\",\"#95a5a6\",\"#2ecc71\",\"#95a5a6\",\"#2ecc71\",\"#95a5a6\",\"#95a5a6\",\"#2ecc71\",\"#2ecc71\",\"#2ecc71\",\"#2ecc71\",\"#2ecc71\",\"#2ecc71\",\"#2ecc71\",\"#2ecc71\",\"#2ecc71\",\"#e74c3c\",\"#2ecc71\",\"#2ecc71\",\"#2ecc71\",\"#95a5a6\",\"#95a5a6\",\"#95a5a6\",\"#2ecc71\",\"#95a5a6\",\"#2ecc71\",\"#2ecc71\",\"#2ecc71\",\"#2ecc71\",\"#2ecc71\",\"#2ecc71\",\"#2ecc71\",\"#2ecc71\",\"#2ecc71\",\"#2ecc71\",\"#95a5a6\",\"#2ecc71\",\"#2ecc71\",\"#2ecc71\",\"#2ecc71\",\"#2ecc71\",\"#2ecc71\",\"#2ecc71\",\"#2ecc71\",\"#2ecc71\",\"#2ecc71\",\"#2ecc71\",\"#2ecc71\",\"#2ecc71\",\"#2ecc71\",\"#2ecc71\",\"#95a5a6\",\"#2ecc71\",\"#2ecc71\",\"#2ecc71\",\"#2ecc71\",\"#2ecc71\",\"#2ecc71\",\"#2ecc71\",\"#2ecc71\",\"#2ecc71\",\"#95a5a6\",\"#95a5a6\",\"#2ecc71\",\"#2ecc71\",\"#2ecc71\",\"#2ecc71\",\"#2ecc71\",\"#2ecc71\",\"#2ecc71\",\"#2ecc71\",\"#2ecc71\",\"#2ecc71\",\"#2ecc71\",\"#2ecc71\",\"#2ecc71\",\"#95a5a6\",\"#2ecc71\",\"#2ecc71\",\"#2ecc71\",\"#2ecc71\",\"#2ecc71\",\"#2ecc71\",\"#2ecc71\",\"#2ecc71\",\"#2ecc71\",\"#2ecc71\",\"#2ecc71\",\"#e74c3c\",\"#2ecc71\",\"#2ecc71\",\"#2ecc71\",\"#2ecc71\",\"#2ecc71\",\"#2ecc71\",\"#95a5a6\",\"#95a5a6\",\"#2ecc71\",\"#95a5a6\",\"#2ecc71\",\"#2ecc71\",\"#2ecc71\",\"#2ecc71\",\"#95a5a6\",\"#2ecc71\",\"#2ecc71\",\"#2ecc71\",\"#95a5a6\",\"#2ecc71\",\"#2ecc71\",\"#95a5a6\",\"#2ecc71\",\"#2ecc71\",\"#2ecc71\",\"#2ecc71\",\"#2ecc71\",\"#2ecc71\",\"#2ecc71\",\"#95a5a6\",\"#2ecc71\",\"#2ecc71\",\"#95a5a6\",\"#95a5a6\",\"#2ecc71\",\"#2ecc71\",\"#2ecc71\",\"#95a5a6\",\"#2ecc71\",\"#e74c3c\",\"#95a5a6\",\"#2ecc71\",\"#95a5a6\",\"#95a5a6\",\"#2ecc71\",\"#2ecc71\",\"#2ecc71\",\"#95a5a6\",\"#2ecc71\",\"#95a5a6\",\"#2ecc71\",\"#2ecc71\",\"#2ecc71\",\"#95a5a6\",\"#2ecc71\",\"#2ecc71\",\"#2ecc71\",\"#2ecc71\",\"#2ecc71\",\"#2ecc71\",\"#95a5a6\",\"#2ecc71\",\"#95a5a6\",\"#2ecc71\",\"#2ecc71\",\"#2ecc71\",\"#2ecc71\",\"#2ecc71\",\"#2ecc71\",\"#2ecc71\",\"#2ecc71\",\"#2ecc71\",\"#2ecc71\",\"#95a5a6\",\"#2ecc71\",\"#2ecc71\",\"#95a5a6\",\"#2ecc71\",\"#2ecc71\",\"#2ecc71\",\"#2ecc71\",\"#95a5a6\",\"#2ecc71\",\"#2ecc71\",\"#e74c3c\",\"#2ecc71\",\"#95a5a6\",\"#2ecc71\",\"#2ecc71\",\"#2ecc71\",\"#e74c3c\",\"#2ecc71\",\"#2ecc71\",\"#2ecc71\",\"#2ecc71\",\"#2ecc71\",\"#2ecc71\",\"#95a5a6\",\"#95a5a6\",\"#2ecc71\",\"#e74c3c\",\"#2ecc71\",\"#2ecc71\",\"#2ecc71\",\"#2ecc71\",\"#2ecc71\",\"#2ecc71\",\"#95a5a6\",\"#2ecc71\",\"#2ecc71\",\"#2ecc71\",\"#2ecc71\",\"#2ecc71\",\"#2ecc71\",\"#2ecc71\",\"#2ecc71\",\"#2ecc71\",\"#2ecc71\",\"#2ecc71\",\"#2ecc71\",\"#2ecc71\",\"#95a5a6\",\"#2ecc71\",\"#2ecc71\",\"#2ecc71\",\"#2ecc71\",\"#2ecc71\",\"#2ecc71\",\"#2ecc71\",\"#2ecc71\",\"#95a5a6\",\"#2ecc71\",\"#2ecc71\",\"#2ecc71\",\"#95a5a6\",\"#95a5a6\",\"#2ecc71\",\"#2ecc71\",\"#2ecc71\",\"#2ecc71\",\"#2ecc71\",\"#2ecc71\",\"#2ecc71\",\"#95a5a6\",\"#2ecc71\",\"#2ecc71\",\"#e74c3c\",\"#2ecc71\",\"#95a5a6\",\"#2ecc71\",\"#e74c3c\",\"#95a5a6\",\"#2ecc71\",\"#2ecc71\",\"#2ecc71\",\"#2ecc71\",\"#2ecc71\",\"#e74c3c\",\"#95a5a6\",\"#2ecc71\",\"#2ecc71\",\"#2ecc71\",\"#2ecc71\",\"#95a5a6\",\"#2ecc71\",\"#95a5a6\",\"#2ecc71\",\"#2ecc71\",\"#2ecc71\",\"#2ecc71\",\"#2ecc71\",\"#e74c3c\",\"#2ecc71\",\"#e74c3c\",\"#95a5a6\",\"#2ecc71\",\"#95a5a6\",\"#2ecc71\",\"#2ecc71\",\"#2ecc71\",\"#2ecc71\",\"#2ecc71\",\"#2ecc71\",\"#2ecc71\",\"#2ecc71\",\"#2ecc71\",\"#2ecc71\",\"#2ecc71\",\"#e74c3c\",\"#2ecc71\",\"#2ecc71\",\"#95a5a6\",\"#2ecc71\",\"#2ecc71\",\"#2ecc71\",\"#2ecc71\",\"#2ecc71\",\"#2ecc71\",\"#2ecc71\",\"#2ecc71\",\"#2ecc71\",\"#e74c3c\",\"#2ecc71\",\"#2ecc71\",\"#e74c3c\",\"#2ecc71\",\"#2ecc71\",\"#2ecc71\",\"#2ecc71\",\"#2ecc71\",\"#2ecc71\",\"#e74c3c\",\"#2ecc71\",\"#2ecc71\",\"#2ecc71\",\"#2ecc71\",\"#2ecc71\",\"#2ecc71\",\"#2ecc71\",\"#2ecc71\",\"#2ecc71\",\"#2ecc71\",\"#95a5a6\",\"#2ecc71\",\"#95a5a6\",\"#2ecc71\",\"#2ecc71\",\"#e74c3c\",\"#2ecc71\",\"#95a5a6\",\"#2ecc71\",\"#2ecc71\",\"#2ecc71\",\"#95a5a6\",\"#2ecc71\",\"#2ecc71\",\"#2ecc71\",\"#95a5a6\",\"#2ecc71\",\"#2ecc71\",\"#2ecc71\",\"#2ecc71\",\"#95a5a6\",\"#2ecc71\",\"#2ecc71\",\"#2ecc71\",\"#2ecc71\",\"#2ecc71\",\"#2ecc71\",\"#2ecc71\",\"#2ecc71\",\"#95a5a6\",\"#2ecc71\",\"#2ecc71\",\"#2ecc71\",\"#2ecc71\",\"#95a5a6\",\"#2ecc71\",\"#2ecc71\",\"#2ecc71\",\"#2ecc71\",\"#2ecc71\",\"#95a5a6\",\"#2ecc71\",\"#2ecc71\",\"#2ecc71\",\"#2ecc71\",\"#95a5a6\",\"#95a5a6\",\"#95a5a6\",\"#2ecc71\",\"#2ecc71\",\"#2ecc71\",\"#2ecc71\",\"#2ecc71\",\"#2ecc71\",\"#95a5a6\",\"#2ecc71\",\"#2ecc71\",\"#2ecc71\",\"#2ecc71\",\"#2ecc71\",\"#2ecc71\",\"#95a5a6\",\"#2ecc71\",\"#2ecc71\",\"#95a5a6\",\"#95a5a6\",\"#2ecc71\",\"#2ecc71\",\"#2ecc71\",\"#2ecc71\",\"#2ecc71\",\"#2ecc71\",\"#2ecc71\",\"#95a5a6\",\"#2ecc71\",\"#2ecc71\",\"#2ecc71\",\"#95a5a6\",\"#2ecc71\",\"#95a5a6\",\"#2ecc71\",\"#2ecc71\",\"#2ecc71\",\"#2ecc71\",\"#2ecc71\",\"#2ecc71\",\"#2ecc71\",\"#2ecc71\",\"#2ecc71\",\"#2ecc71\",\"#2ecc71\",\"#2ecc71\",\"#e74c3c\",\"#2ecc71\",\"#95a5a6\",\"#2ecc71\",\"#2ecc71\",\"#2ecc71\",\"#2ecc71\",\"#95a5a6\",\"#e74c3c\",\"#2ecc71\",\"#2ecc71\",\"#2ecc71\",\"#2ecc71\",\"#2ecc71\",\"#2ecc71\",\"#e74c3c\",\"#2ecc71\",\"#2ecc71\",\"#2ecc71\",\"#2ecc71\",\"#2ecc71\"],\"line\":{\"color\":\"DarkSlateGrey\",\"width\":0.5},\"size\":8},\"mode\":\"markers\",\"name\":\"Rating vs Sentiment\",\"x\":[5,5,3,2,5,4,5,5,4,5,4,5,5,4,1,5,5,5,5,5,4,5,1,5,5,5,4,1,5,4,1,5,5,4,5,3,3,5,5,5,5,5,5,5,5,5,5,3,1,5,2,5,5,5,5,5,5,5,5,5,5,5,5,1,3,1,5,4,5,2,1,5,1,5,2,5,5,3,5,2,5,1,5,5,5,5,5,5,4,5,4,1,3,3,5,3,5,1,5,5,5,4,5,4,5,1,5,5,5,5,4,3,5,5,5,5,5,5,5,5,5,3,5,2,4,5,4,5,4,5,4,5,4,5,3,4,3,2,4,5,5,5,1,1,4,5,4,5,5,5,5,5,5,2,4,5,5,5,1,5,5,5,4,4,2,4,5,5,4,5,2,4,1,5,4,4,5,2,4,4,5,2,5,1,5,5,5,4,5,5,5,5,5,4,1,5,5,3,2,5,5,5,5,5,1,5,5,5,4,5,5,5,3,5,5,5,3,3,4,4,5,5,5,5,5,1,1,4,4,4,5,5,3,5,5,2,5,5,5,5,3,5,5,5,2,5,5,1,3,1,5,5,5,5,5,2,5,5,5,5,5,5,1,5,5,1,5,4,5,5,4,4,3,5,4,5,5,5,5,5,5,4,5,5,5,5,3,5,5,3,5,5,5,5,5,5,5,5,5,5,5,5,5,5,5,4,5,5,1,5,5,5,2,4,5,5,4,5,5,4,5,5,5,5,4,5,5,5,4,5,4,5,5,5,5,5,2,3,5,5,5,5,1,1,5,5,5,5,5,5,2,4,5,2,5,5,5,4,1,5,5,5,2,5,4,4,1,4,5,1,5,5,5,5,5,5,1,5,5,5,5,5,1,5,5,5,5,4,5,2,5,5,2,5,5,5,5,5,5,5,5,4,5,5,3,5,5,5,5,5,5,5,5,5,4,5,3,5,5,5,4,1,5,4,1,5,5,1,1,5,5,5,2,1,2,3,5,5,4,5,4,2,5,5,4,5,4,1,1,5,5,5,2,5,5,5,4,5,4,4,5,5,4,5,3,5,5,5,5,5,1,5,5,5,5,5,4,5,5,1,5,5,5,4,4,5,2,1,1,3,5,4,5,5,1,5,5,5,4,5],\"y\":[0.319,0.435,-0.011,0.159,0.236,0.5,0.31,0.117,0.233,0.063,0.106,0.531,0.427,0.267,-0.383,0.27,0.085,0.45,0.297,0.362,0.475,0.087,0.302,0.1,0.335,0.472,0.344,-0.079,0.164,0.1,0.269,0.185,0.2,0.206,0.038,0.204,0.146,0.0,0.244,0.327,0.113,0.229,0.233,0.0,0.406,0.383,0.329,0.013,0.025,-0.167,-0.062,0.362,0.196,0.68,0.394,0.399,0.284,0.411,0.518,0.1,0.296,0.098,0.098,0.017,0.202,-0.077,0.14,0.173,-0.071,-0.103,0.343,-0.1,-0.068,0.38,-0.295,0.642,0.192,-0.054,0.159,0.082,0.55,0.017,0.062,0.575,0.325,0.337,1.0,0.485,0.187,0.38,0.448,0.107,-0.233,0.35,0.235,0.352,0.079,0.037,0.07,0.65,0.075,0.412,0.35,0.229,0.101,0.105,0.181,0.214,0.157,0.264,0.331,-0.031,0.32,0.7,0.214,0.171,0.533,0.555,0.112,0.367,0.159,0.267,0.245,0.317,0.342,0.401,0.313,0.05,0.361,0.109,0.183,0.242,0.11,0.503,0.149,0.296,0.133,-0.088,0.06,0.289,0.256,0.226,0.175,0.14,0.39,0.244,0.477,0.707,0.458,0.291,0.16,0.363,-0.075,0.104,0.243,0.42,0.465,0.36,0.233,0.13,0.629,0.56,0.177,0.297,-0.2,0.175,0.165,0.239,0.2,0.333,0.226,0.066,0.087,0.533,0.037,0.196,0.336,0.197,0.195,0.046,0.788,0.102,0.121,-0.021,0.224,0.287,-0.021,0.494,0.165,0.231,0.325,0.134,0.365,0.205,-0.03,0.558,0.474,0.076,-0.015,0.5,0.348,0.253,0.006,0.127,-0.231,-0.052,0.495,0.022,-0.059,0.25,0.277,0.267,0.056,0.2,0.0,0.333,0.34,0.116,-0.035,0.163,0.302,0.101,0.518,0.22,0.3,0.097,0.24,0.067,0.372,0.517,0.284,0.252,0.146,0.25,0.312,0.202,0.218,0.434,0.0,0.427,0.116,-0.088,0.236,0.258,0.146,0.565,-0.009,0.11,0.409,-0.25,0.159,0.083,0.199,0.333,0.311,-0.285,0.111,0.334,0.35,0.406,0.19,0.417,0.06,0.077,0.489,-0.115,0.176,0.276,0.104,0.4,0.18,0.138,0.083,0.193,0.348,0.115,0.65,0.525,1.0,0.333,0.351,0.508,0.169,0.8,0.479,0.292,-0.031,0.406,0.367,0.146,0.509,0.202,0.181,0.4,0.399,0.0,0.625,0.552,0.277,-0.033,0.006,0.25,0.467,0.419,0.25,0.124,0.16,0.325,0.087,0.27,0.337,-0.2,0.5,0.1,0.6,-0.163,0.088,0.202,0.623,0.171,0.155,0.155,-0.781,-0.027,0.106,0.535,0.325,0.251,0.002,0.283,-0.02,0.711,0.51,0.2,0.524,0.25,-0.137,0.129,-0.2,0.077,0.212,0.022,0.254,0.201,0.394,0.471,0.312,0.251,0.335,0.465,0.18,0.453,0.198,-0.15,0.121,0.312,0.087,0.189,0.133,0.288,0.194,0.565,0.308,0.497,0.44,0.153,-0.19,0.475,0.356,-0.111,0.282,0.125,0.473,0.43,0.16,0.42,-0.231,0.2,0.4,0.378,0.248,0.969,0.246,0.483,0.204,0.158,0.233,0.003,0.19,-0.073,0.308,0.123,-0.191,0.182,-0.031,0.277,0.246,0.11,-0.051,0.253,0.644,0.189,0.086,0.342,0.246,0.386,0.502,0.035,0.133,0.194,0.287,0.567,0.45,0.355,0.447,0.615,0.083,0.75,0.278,0.15,0.107,0.027,0.23,0.334,0.105,0.282,0.382,-0.045,0.162,0.486,0.258,0.186,0.08,0.1,0.0,0.544,0.296,0.244,0.156,0.162,0.236,0.06,0.493,0.544,0.458,0.381,0.7,0.129,-0.044,0.17,0.44,-0.081,0.079,0.606,0.42,0.115,0.164,0.681,0.222,0.296,0.075,0.254,0.519,0.7,-0.037,0.309,0.079,0.226,0.417,0.491,0.286,0.433,0.65,0.6,0.243,0.368,0.117,0.381,0.169,-0.659,0.169,0.0,0.288,0.4,0.586,0.12,0.005,-0.167,0.128,0.159,0.293,0.259,0.233,0.469,-0.17,0.35,0.116,0.454,0.359,0.113],\"type\":\"scatter\",\"xaxis\":\"x4\",\"yaxis\":\"y4\"}],                        {\"template\":{\"data\":{\"histogram2dcontour\":[{\"type\":\"histogram2dcontour\",\"colorbar\":{\"outlinewidth\":0,\"ticks\":\"\"},\"colorscale\":[[0.0,\"#0d0887\"],[0.1111111111111111,\"#46039f\"],[0.2222222222222222,\"#7201a8\"],[0.3333333333333333,\"#9c179e\"],[0.4444444444444444,\"#bd3786\"],[0.5555555555555556,\"#d8576b\"],[0.6666666666666666,\"#ed7953\"],[0.7777777777777778,\"#fb9f3a\"],[0.8888888888888888,\"#fdca26\"],[1.0,\"#f0f921\"]]}],\"choropleth\":[{\"type\":\"choropleth\",\"colorbar\":{\"outlinewidth\":0,\"ticks\":\"\"}}],\"histogram2d\":[{\"type\":\"histogram2d\",\"colorbar\":{\"outlinewidth\":0,\"ticks\":\"\"},\"colorscale\":[[0.0,\"#0d0887\"],[0.1111111111111111,\"#46039f\"],[0.2222222222222222,\"#7201a8\"],[0.3333333333333333,\"#9c179e\"],[0.4444444444444444,\"#bd3786\"],[0.5555555555555556,\"#d8576b\"],[0.6666666666666666,\"#ed7953\"],[0.7777777777777778,\"#fb9f3a\"],[0.8888888888888888,\"#fdca26\"],[1.0,\"#f0f921\"]]}],\"heatmap\":[{\"type\":\"heatmap\",\"colorbar\":{\"outlinewidth\":0,\"ticks\":\"\"},\"colorscale\":[[0.0,\"#0d0887\"],[0.1111111111111111,\"#46039f\"],[0.2222222222222222,\"#7201a8\"],[0.3333333333333333,\"#9c179e\"],[0.4444444444444444,\"#bd3786\"],[0.5555555555555556,\"#d8576b\"],[0.6666666666666666,\"#ed7953\"],[0.7777777777777778,\"#fb9f3a\"],[0.8888888888888888,\"#fdca26\"],[1.0,\"#f0f921\"]]}],\"heatmapgl\":[{\"type\":\"heatmapgl\",\"colorbar\":{\"outlinewidth\":0,\"ticks\":\"\"},\"colorscale\":[[0.0,\"#0d0887\"],[0.1111111111111111,\"#46039f\"],[0.2222222222222222,\"#7201a8\"],[0.3333333333333333,\"#9c179e\"],[0.4444444444444444,\"#bd3786\"],[0.5555555555555556,\"#d8576b\"],[0.6666666666666666,\"#ed7953\"],[0.7777777777777778,\"#fb9f3a\"],[0.8888888888888888,\"#fdca26\"],[1.0,\"#f0f921\"]]}],\"contourcarpet\":[{\"type\":\"contourcarpet\",\"colorbar\":{\"outlinewidth\":0,\"ticks\":\"\"}}],\"contour\":[{\"type\":\"contour\",\"colorbar\":{\"outlinewidth\":0,\"ticks\":\"\"},\"colorscale\":[[0.0,\"#0d0887\"],[0.1111111111111111,\"#46039f\"],[0.2222222222222222,\"#7201a8\"],[0.3333333333333333,\"#9c179e\"],[0.4444444444444444,\"#bd3786\"],[0.5555555555555556,\"#d8576b\"],[0.6666666666666666,\"#ed7953\"],[0.7777777777777778,\"#fb9f3a\"],[0.8888888888888888,\"#fdca26\"],[1.0,\"#f0f921\"]]}],\"surface\":[{\"type\":\"surface\",\"colorbar\":{\"outlinewidth\":0,\"ticks\":\"\"},\"colorscale\":[[0.0,\"#0d0887\"],[0.1111111111111111,\"#46039f\"],[0.2222222222222222,\"#7201a8\"],[0.3333333333333333,\"#9c179e\"],[0.4444444444444444,\"#bd3786\"],[0.5555555555555556,\"#d8576b\"],[0.6666666666666666,\"#ed7953\"],[0.7777777777777778,\"#fb9f3a\"],[0.8888888888888888,\"#fdca26\"],[1.0,\"#f0f921\"]]}],\"mesh3d\":[{\"type\":\"mesh3d\",\"colorbar\":{\"outlinewidth\":0,\"ticks\":\"\"}}],\"scatter\":[{\"fillpattern\":{\"fillmode\":\"overlay\",\"size\":10,\"solidity\":0.2},\"type\":\"scatter\"}],\"parcoords\":[{\"type\":\"parcoords\",\"line\":{\"colorbar\":{\"outlinewidth\":0,\"ticks\":\"\"}}}],\"scatterpolargl\":[{\"type\":\"scatterpolargl\",\"marker\":{\"colorbar\":{\"outlinewidth\":0,\"ticks\":\"\"}}}],\"bar\":[{\"error_x\":{\"color\":\"#2a3f5f\"},\"error_y\":{\"color\":\"#2a3f5f\"},\"marker\":{\"line\":{\"color\":\"#E5ECF6\",\"width\":0.5},\"pattern\":{\"fillmode\":\"overlay\",\"size\":10,\"solidity\":0.2}},\"type\":\"bar\"}],\"scattergeo\":[{\"type\":\"scattergeo\",\"marker\":{\"colorbar\":{\"outlinewidth\":0,\"ticks\":\"\"}}}],\"scatterpolar\":[{\"type\":\"scatterpolar\",\"marker\":{\"colorbar\":{\"outlinewidth\":0,\"ticks\":\"\"}}}],\"histogram\":[{\"marker\":{\"pattern\":{\"fillmode\":\"overlay\",\"size\":10,\"solidity\":0.2}},\"type\":\"histogram\"}],\"scattergl\":[{\"type\":\"scattergl\",\"marker\":{\"colorbar\":{\"outlinewidth\":0,\"ticks\":\"\"}}}],\"scatter3d\":[{\"type\":\"scatter3d\",\"line\":{\"colorbar\":{\"outlinewidth\":0,\"ticks\":\"\"}},\"marker\":{\"colorbar\":{\"outlinewidth\":0,\"ticks\":\"\"}}}],\"scattermapbox\":[{\"type\":\"scattermapbox\",\"marker\":{\"colorbar\":{\"outlinewidth\":0,\"ticks\":\"\"}}}],\"scatterternary\":[{\"type\":\"scatterternary\",\"marker\":{\"colorbar\":{\"outlinewidth\":0,\"ticks\":\"\"}}}],\"scattercarpet\":[{\"type\":\"scattercarpet\",\"marker\":{\"colorbar\":{\"outlinewidth\":0,\"ticks\":\"\"}}}],\"carpet\":[{\"aaxis\":{\"endlinecolor\":\"#2a3f5f\",\"gridcolor\":\"white\",\"linecolor\":\"white\",\"minorgridcolor\":\"white\",\"startlinecolor\":\"#2a3f5f\"},\"baxis\":{\"endlinecolor\":\"#2a3f5f\",\"gridcolor\":\"white\",\"linecolor\":\"white\",\"minorgridcolor\":\"white\",\"startlinecolor\":\"#2a3f5f\"},\"type\":\"carpet\"}],\"table\":[{\"cells\":{\"fill\":{\"color\":\"#EBF0F8\"},\"line\":{\"color\":\"white\"}},\"header\":{\"fill\":{\"color\":\"#C8D4E3\"},\"line\":{\"color\":\"white\"}},\"type\":\"table\"}],\"barpolar\":[{\"marker\":{\"line\":{\"color\":\"#E5ECF6\",\"width\":0.5},\"pattern\":{\"fillmode\":\"overlay\",\"size\":10,\"solidity\":0.2}},\"type\":\"barpolar\"}],\"pie\":[{\"automargin\":true,\"type\":\"pie\"}]},\"layout\":{\"autotypenumbers\":\"strict\",\"colorway\":[\"#636efa\",\"#EF553B\",\"#00cc96\",\"#ab63fa\",\"#FFA15A\",\"#19d3f3\",\"#FF6692\",\"#B6E880\",\"#FF97FF\",\"#FECB52\"],\"font\":{\"color\":\"#2a3f5f\"},\"hovermode\":\"closest\",\"hoverlabel\":{\"align\":\"left\"},\"paper_bgcolor\":\"white\",\"plot_bgcolor\":\"#E5ECF6\",\"polar\":{\"bgcolor\":\"#E5ECF6\",\"angularaxis\":{\"gridcolor\":\"white\",\"linecolor\":\"white\",\"ticks\":\"\"},\"radialaxis\":{\"gridcolor\":\"white\",\"linecolor\":\"white\",\"ticks\":\"\"}},\"ternary\":{\"bgcolor\":\"#E5ECF6\",\"aaxis\":{\"gridcolor\":\"white\",\"linecolor\":\"white\",\"ticks\":\"\"},\"baxis\":{\"gridcolor\":\"white\",\"linecolor\":\"white\",\"ticks\":\"\"},\"caxis\":{\"gridcolor\":\"white\",\"linecolor\":\"white\",\"ticks\":\"\"}},\"coloraxis\":{\"colorbar\":{\"outlinewidth\":0,\"ticks\":\"\"}},\"colorscale\":{\"sequential\":[[0.0,\"#0d0887\"],[0.1111111111111111,\"#46039f\"],[0.2222222222222222,\"#7201a8\"],[0.3333333333333333,\"#9c179e\"],[0.4444444444444444,\"#bd3786\"],[0.5555555555555556,\"#d8576b\"],[0.6666666666666666,\"#ed7953\"],[0.7777777777777778,\"#fb9f3a\"],[0.8888888888888888,\"#fdca26\"],[1.0,\"#f0f921\"]],\"sequentialminus\":[[0.0,\"#0d0887\"],[0.1111111111111111,\"#46039f\"],[0.2222222222222222,\"#7201a8\"],[0.3333333333333333,\"#9c179e\"],[0.4444444444444444,\"#bd3786\"],[0.5555555555555556,\"#d8576b\"],[0.6666666666666666,\"#ed7953\"],[0.7777777777777778,\"#fb9f3a\"],[0.8888888888888888,\"#fdca26\"],[1.0,\"#f0f921\"]],\"diverging\":[[0,\"#8e0152\"],[0.1,\"#c51b7d\"],[0.2,\"#de77ae\"],[0.3,\"#f1b6da\"],[0.4,\"#fde0ef\"],[0.5,\"#f7f7f7\"],[0.6,\"#e6f5d0\"],[0.7,\"#b8e186\"],[0.8,\"#7fbc41\"],[0.9,\"#4d9221\"],[1,\"#276419\"]]},\"xaxis\":{\"gridcolor\":\"white\",\"linecolor\":\"white\",\"ticks\":\"\",\"title\":{\"standoff\":15},\"zerolinecolor\":\"white\",\"automargin\":true,\"zerolinewidth\":2},\"yaxis\":{\"gridcolor\":\"white\",\"linecolor\":\"white\",\"ticks\":\"\",\"title\":{\"standoff\":15},\"zerolinecolor\":\"white\",\"automargin\":true,\"zerolinewidth\":2},\"scene\":{\"xaxis\":{\"backgroundcolor\":\"#E5ECF6\",\"gridcolor\":\"white\",\"linecolor\":\"white\",\"showbackground\":true,\"ticks\":\"\",\"zerolinecolor\":\"white\",\"gridwidth\":2},\"yaxis\":{\"backgroundcolor\":\"#E5ECF6\",\"gridcolor\":\"white\",\"linecolor\":\"white\",\"showbackground\":true,\"ticks\":\"\",\"zerolinecolor\":\"white\",\"gridwidth\":2},\"zaxis\":{\"backgroundcolor\":\"#E5ECF6\",\"gridcolor\":\"white\",\"linecolor\":\"white\",\"showbackground\":true,\"ticks\":\"\",\"zerolinecolor\":\"white\",\"gridwidth\":2}},\"shapedefaults\":{\"line\":{\"color\":\"#2a3f5f\"}},\"annotationdefaults\":{\"arrowcolor\":\"#2a3f5f\",\"arrowhead\":0,\"arrowwidth\":1},\"geo\":{\"bgcolor\":\"white\",\"landcolor\":\"#E5ECF6\",\"subunitcolor\":\"white\",\"showland\":true,\"showlakes\":true,\"lakecolor\":\"white\"},\"title\":{\"x\":0.05},\"mapbox\":{\"style\":\"light\"}}},\"xaxis\":{\"anchor\":\"y\",\"domain\":[0.55,1.0]},\"yaxis\":{\"anchor\":\"x\",\"domain\":[0.7777777777777778,1.0]},\"xaxis2\":{\"anchor\":\"y2\",\"domain\":[0.0,0.45]},\"yaxis2\":{\"anchor\":\"x2\",\"domain\":[0.3888888888888889,0.6111111111111112]},\"xaxis3\":{\"anchor\":\"y3\",\"domain\":[0.55,1.0]},\"yaxis3\":{\"anchor\":\"x3\",\"domain\":[0.3888888888888889,0.6111111111111112]},\"xaxis4\":{\"anchor\":\"y4\",\"domain\":[0.0,1.0]},\"yaxis4\":{\"anchor\":\"x4\",\"domain\":[0.0,0.22222222222222224]},\"annotations\":[{\"font\":{\"size\":16},\"showarrow\":false,\"text\":\"Sentiment Distribution\",\"x\":0.225,\"xanchor\":\"center\",\"xref\":\"paper\",\"y\":1.0,\"yanchor\":\"bottom\",\"yref\":\"paper\"},{\"font\":{\"size\":16},\"showarrow\":false,\"text\":\"Sentiment Score Distribution\",\"x\":0.775,\"xanchor\":\"center\",\"xref\":\"paper\",\"y\":1.0,\"yanchor\":\"bottom\",\"yref\":\"paper\"},{\"font\":{\"size\":16},\"showarrow\":false,\"text\":\"Top Mentioned Brands\",\"x\":0.225,\"xanchor\":\"center\",\"xref\":\"paper\",\"y\":0.6111111111111112,\"yanchor\":\"bottom\",\"yref\":\"paper\"},{\"font\":{\"size\":16},\"showarrow\":false,\"text\":\"Top Mentioned Products\",\"x\":0.775,\"xanchor\":\"center\",\"xref\":\"paper\",\"y\":0.6111111111111112,\"yanchor\":\"bottom\",\"yref\":\"paper\"},{\"font\":{\"size\":16},\"showarrow\":false,\"text\":\"Rating vs Sentiment Score\",\"x\":0.5,\"xanchor\":\"center\",\"xref\":\"paper\",\"y\":0.22222222222222224,\"yanchor\":\"bottom\",\"yref\":\"paper\"}],\"shapes\":[{\"line\":{\"color\":\"red\",\"dash\":\"dash\"},\"type\":\"line\",\"x0\":0,\"x1\":0,\"xref\":\"x\",\"y0\":0,\"y1\":7,\"yref\":\"y\"}],\"title\":{\"text\":\"📊 Amazon Review Analysis Dashboard\",\"x\":0.5},\"height\":1200,\"showlegend\":false},                        {\"responsive\": true}                    ).then(function(){\n",
              "                            \n",
              "var gd = document.getElementById('e47d8ccd-b474-4a2e-8c7a-2a03301b850d');\n",
              "var x = new MutationObserver(function (mutations, observer) {{\n",
              "        var display = window.getComputedStyle(gd).display;\n",
              "        if (!display || display === 'none') {{\n",
              "            console.log([gd, 'removed!']);\n",
              "            Plotly.purge(gd);\n",
              "            observer.disconnect();\n",
              "        }}\n",
              "}});\n",
              "\n",
              "// Listen for the removal of the full notebook cells\n",
              "var notebookContainer = gd.closest('#notebook-container');\n",
              "if (notebookContainer) {{\n",
              "    x.observe(notebookContainer, {childList: true});\n",
              "}}\n",
              "\n",
              "// Listen for the clearing of the current output cell\n",
              "var outputEl = gd.closest('.output');\n",
              "if (outputEl) {{\n",
              "    x.observe(outputEl, {childList: true});\n",
              "}}\n",
              "\n",
              "                        })                };                            </script>        </div>\n",
              "</body>\n",
              "</html>"
            ]
          },
          "metadata": {}
        }
      ],
      "source": [
        "import plotly.graph_objects as go\n",
        "from plotly.subplots import make_subplots\n",
        "\n",
        "# -----------------------------\n",
        "# Prepare Data\n",
        "# -----------------------------\n",
        "top_brands = dict(brand_counts.most_common(8)) if brand_counts else {}\n",
        "top_products = dict(product_counts.most_common(8)) if product_counts else {}\n",
        "\n",
        "# -----------------------------\n",
        "# Create Subplots\n",
        "# -----------------------------\n",
        "fig = make_subplots(\n",
        "    rows=3, cols=2,\n",
        "    specs=[[{\"type\": \"domain\"}, {\"type\": \"xy\"}],\n",
        "           [{\"type\": \"xy\"}, {\"type\": \"xy\"}],\n",
        "           [{\"colspan\": 2, \"type\": \"xy\"}, None]],\n",
        "    subplot_titles=(\n",
        "        \"Sentiment Distribution\",\n",
        "        \"Sentiment Score Distribution\",\n",
        "        \"Top Mentioned Brands\",\n",
        "        \"Top Mentioned Products\",\n",
        "        \"Rating vs Sentiment Score\"\n",
        "    )\n",
        ")\n",
        "\n",
        "# -----------------------------\n",
        "# 1. Sentiment Pie Chart\n",
        "# -----------------------------\n",
        "fig.add_trace(\n",
        "    go.Pie(\n",
        "        labels=sentiment_dist.index,\n",
        "        values=sentiment_dist.values,\n",
        "        hole=0.3,\n",
        "        marker_colors=['#2ecc71', '#95a5a6', '#e74c3c'],\n",
        "        textinfo='label+percent'\n",
        "    ),\n",
        "    row=1, col=1\n",
        ")\n",
        "\n",
        "# -----------------------------\n",
        "# 2. Sentiment Score Histogram\n",
        "# -----------------------------\n",
        "fig.add_trace(\n",
        "    go.Histogram(\n",
        "        x=results_df['sentiment_score'],\n",
        "        nbinsx=20,\n",
        "        marker_color='#3498db',\n",
        "        name='Sentiment Score'\n",
        "    ),\n",
        "    row=1, col=2\n",
        ")\n",
        "\n",
        "# Add vertical line for neutral\n",
        "fig.add_shape(\n",
        "    go.layout.Shape(\n",
        "        type=\"line\", x0=0, x1=0,\n",
        "        y0=0, y1=results_df['sentiment_score'].value_counts().max(),\n",
        "        line=dict(color=\"red\", dash=\"dash\")\n",
        "    ),\n",
        "    row=1, col=2\n",
        ")\n",
        "\n",
        "# -----------------------------\n",
        "# 3. Top Brands Bar Chart\n",
        "# -----------------------------\n",
        "if top_brands:\n",
        "    fig.add_trace(\n",
        "        go.Bar(\n",
        "            x=list(top_brands.keys()),\n",
        "            y=list(top_brands.values()),\n",
        "            marker_color=list(top_brands.values()),\n",
        "            name='Brands'\n",
        "        ),\n",
        "        row=2, col=1\n",
        "    )\n",
        "\n",
        "# -----------------------------\n",
        "# 4. Top Products Bar Chart\n",
        "# -----------------------------\n",
        "if top_products:\n",
        "    fig.add_trace(\n",
        "        go.Bar(\n",
        "            x=list(top_products.keys()),\n",
        "            y=list(top_products.values()),\n",
        "            marker_color=list(top_products.values()),\n",
        "            name='Products'\n",
        "        ),\n",
        "        row=2, col=2\n",
        "    )\n",
        "\n",
        "# -----------------------------\n",
        "# 5. Rating vs Sentiment Scatter\n",
        "# -----------------------------\n",
        "fig.add_trace(\n",
        "    go.Scatter(\n",
        "        x=results_df['rating'],\n",
        "        y=results_df['sentiment_score'],\n",
        "        mode='markers',\n",
        "        marker=dict(\n",
        "            color=results_df['sentiment'].map({'Positive':'#2ecc71','Neutral':'#95a5a6','Negative':'#e74c3c'}),\n",
        "            size=8,\n",
        "            line=dict(width=0.5, color='DarkSlateGrey')\n",
        "        ),\n",
        "        name='Rating vs Sentiment'\n",
        "    ),\n",
        "    row=3, col=1\n",
        ")\n",
        "\n",
        "# -----------------------------\n",
        "# Layout & Styling\n",
        "# -----------------------------\n",
        "fig.update_layout(\n",
        "    height=1200,\n",
        "    showlegend=False,\n",
        "    title_text=\"📊 Amazon Review Analysis Dashboard\",\n",
        "    title_x=0.5\n",
        ")\n",
        "\n",
        "fig.show()\n"
      ]
    },
    {
      "cell_type": "code",
      "execution_count": null,
      "metadata": {
        "colab": {
          "base_uri": "https://localhost:8080/"
        },
        "id": "8Q3yiy0p3Wf9",
        "outputId": "904faad9-7d12-4507-ed57-a2e0f146d702"
      },
      "outputs": [
        {
          "output_type": "stream",
          "name": "stdout",
          "text": [
            "\n",
            "================================================================================\n",
            "DETAILED EXAMPLES WITH ENTITIES:\n",
            "================================================================================\n",
            "\n",
            "📝 Review 1:\n",
            "Text: Having tried a couple of other brands of gluten-free sandwich cookies, these are the best of the bun...\n",
            "Rating: ⭐⭐⭐⭐⭐\n",
            "Extracted Products: None detected\n",
            "Extracted Brands: None detected\n",
            "Sentiment: Positive (Score: 0.319)\n",
            "--------------------------------------------------------------------------------\n",
            "\n",
            "📝 Review 2:\n",
            "Text: My cat loves these treats. If ever I can't find her in the house, I just pop the top and she bolts o...\n",
            "Rating: ⭐⭐⭐⭐⭐\n",
            "Extracted Products: None detected\n",
            "Extracted Brands: None detected\n",
            "Sentiment: Positive (Score: 0.435)\n",
            "--------------------------------------------------------------------------------\n",
            "\n",
            "📝 Review 3:\n",
            "Text: A little less than I expected.  It tends to have a muddy taste - not what I expected since they said...\n",
            "Rating: ⭐⭐⭐\n",
            "Extracted Products: None detected\n",
            "Extracted Brands: None detected\n",
            "Sentiment: Neutral (Score: -0.011)\n",
            "--------------------------------------------------------------------------------\n",
            "\n",
            "📝 Review 4:\n",
            "Text: First there was Frosted Mini-Wheats, in original size, then there was Frosted Mini-Wheats Bite Size....\n",
            "Rating: ⭐⭐\n",
            "Extracted Products: None detected\n",
            "Extracted Brands: ['Frosted Mini-Wheats Little Bits', 'Cinnamon Roll']\n",
            "Sentiment: Positive (Score: 0.159)\n",
            "--------------------------------------------------------------------------------\n",
            "\n",
            "📝 Review 5:\n",
            "Text: and I want to congratulate the graphic artist for putting the entire product name on such a small bo...\n",
            "Rating: ⭐⭐⭐⭐⭐\n",
            "Extracted Products: None detected\n",
            "Extracted Brands: ['Goldilocks', 'Lipton']\n",
            "Sentiment: Positive (Score: 0.236)\n",
            "--------------------------------------------------------------------------------\n"
          ]
        }
      ],
      "source": [
        "# DETAILED ENTITY EXAMPLES\n",
        "print(\"\\n\" + \"=\"*80)\n",
        "print(\"DETAILED EXAMPLES WITH ENTITIES:\")\n",
        "print(\"=\"*80)\n",
        "\n",
        "for i in range(min(5, len(results_df))):\n",
        "    row = results_df.iloc[i]\n",
        "    print(f\"\\n📝 Review {i+1}:\")\n",
        "    print(f\"Text: {row['review']}\")\n",
        "    print(f\"Rating: {'⭐' * int(row['rating'])}\")\n",
        "    print(f\"Extracted Products: {row['products'] if row['products'] else 'None detected'}\")\n",
        "    print(f\"Extracted Brands: {row['brands'] if row['brands'] else 'None detected'}\")\n",
        "    print(f\"Sentiment: {row['sentiment']} (Score: {row['sentiment_score']})\")\n",
        "    print(\"-\" * 80)"
      ]
    },
    {
      "cell_type": "code",
      "execution_count": null,
      "metadata": {
        "colab": {
          "base_uri": "https://localhost:8080/"
        },
        "id": "d2fftwWY3xcK",
        "outputId": "e9b01c0a-1350-4fcd-d310-20e59cd34b99"
      },
      "outputs": [
        {
          "output_type": "stream",
          "name": "stdout",
          "text": [
            "\n",
            "================================================================================\n",
            "BRAND SENTIMENT RANKINGS:\n",
            "================================================================================\n",
            "                                      Brand  Avg_Sentiment\n",
            "                                       SAMU       0.625000\n",
            "                                    Walmart       0.575000\n",
            "                    Cadburys Milk Chocolate       0.531000\n",
            "                                beetlejuice       0.525000\n",
            "                                  Northwest       0.524000\n",
            "                                     Kettle       0.518000\n",
            "                                  Pineapple       0.500000\n",
            "                                 amazon.com       0.486000\n",
            "                    Cracovia Herring Filets       0.486000\n",
            "                                  Subscribe       0.474000\n",
            "                       the Amazon Subscribe       0.474000\n",
            "                                        OMG       0.465000\n",
            "                                     McCann       0.450000\n",
            "                               Blue Diamond       0.440000\n",
            "                            Starbucks House       0.427000\n",
            "                               Pop Stovetop       0.420000\n",
            "                                     Ceylon       0.406000\n",
            "                  Amazing Jasmine Green Tea       0.401000\n",
            "                  Crystal Light Fruit Punch       0.399000\n",
            "                                        HOT       0.382000\n",
            "                              the Kind Bars       0.360000\n",
            "                Fire Roasted Chipotle Salsa       0.355000\n",
            "                                        Med       0.351000\n",
            "                                      Terra       0.348000\n",
            "                                         HP       0.342000\n",
            "                       Celestial Seasonings       0.341500\n",
            "                                  Inventory       0.337000\n",
            "                             creamy coconut       0.337000\n",
            "                                    Vanilla       0.336000\n",
            "                               Power Crunch       0.336000\n",
            "                    Sour Life Saver Gummies       0.334000\n",
            "                                     Ostrim       0.334000\n",
            "                              Dunkin Donuts       0.333000\n",
            "                                       HUGE       0.331000\n",
            "                                     Salt &       0.325000\n",
            "                                 Amazon.com       0.309000\n",
            "                                       YUCK       0.302000\n",
            "                                   Original       0.297000\n",
            "                             Rebecca Review       0.296000\n",
            "                                      YUMMY       0.284000\n",
            "                                     Nutiva       0.284000\n",
            "                                        LOT       0.283000\n",
            "                                      Petco       0.282000\n",
            "                                       LOTS       0.277000\n",
            "                                     Epigen       0.277000\n",
            "                              Bischon Frise       0.277000\n",
            "                                    Tabasco       0.270000\n",
            "                                        CAT       0.270000\n",
            "                                     Costco       0.265000\n",
            "                                   Kleritea       0.259000\n",
            "                      Alvita Senna Leaf Tea       0.259000\n",
            "                           The Red Hot Lime       0.254000\n",
            "                                        BBQ       0.252000\n",
            "                                 strawberry       0.245000\n",
            "                                 Eagle Pack       0.244000\n",
            "                                        B12       0.243000\n",
            "               Ocean Whitefish & Tuna Feast       0.243000\n",
            "                        Savory Salmon Feast       0.243000\n",
            "                        Sole & Shrimp Feast       0.243000\n",
            "                            Weight Watchers       0.239000\n",
            "                                        PB2       0.239000\n",
            "                                       PB&J       0.239000\n",
            "                                     Lipton       0.236000\n",
            "                                    Claxton       0.236000\n",
            "                                 Goldilocks       0.236000\n",
            "                            Diamond Crystal       0.233000\n",
            "                            Silicon Dioxide       0.233000\n",
            "                           Diamond Chrystal       0.233000\n",
            "                         Radio Systems Corp       0.233000\n",
            "                               Waffle Crisp       0.231000\n",
            "                                   Frantoia       0.229000\n",
            "                                 Dr. Pepper       0.226000\n",
            "                                      pepsi       0.226000\n",
            "                                     fresca       0.226000\n",
            "                                       AMZN       0.224000\n",
            "          SteviaTabs Stevia Extract Tablets       0.224000\n",
            "                                        FOS       0.224000\n",
            "                            Plantation Mint       0.218000\n",
            "                                      Lemon       0.218000\n",
            "                                Whole Foods       0.206750\n",
            "                                      Stash       0.206000\n",
            "                                      Grape       0.205000\n",
            "                                Worthington       0.204000\n",
            "                             Sobe Lifewater       0.204000\n",
            "                                     Amazon       0.202457\n",
            "                                  Taco Bell       0.202000\n",
            "                                     coop &       0.200000\n",
            "                            Nantucket Blend       0.200000\n",
            "                                 Neufchatel       0.200000\n",
            "                                        DHA       0.198000\n",
            "                                  Starbucks       0.197000\n",
            "                      the Camellia Sinensis       0.197000\n",
            "                                    Rooibos       0.197000\n",
            "                  The C.E.T. Enzymatic Oral       0.183000\n",
            "                    Stash Premium Green Tea       0.181000\n",
            "                         Community Coffee's       0.177000\n",
            "                                Coffee Bean       0.177000\n",
            "                           Community Coffee       0.177000\n",
            "                                   McDonald       0.177000\n",
            "                              Maxwell House       0.175000\n",
            "              the Maxwell House Creme Latte       0.175000\n",
            "                                        bee       0.171000\n",
            "                                    Amstaff       0.171000\n",
            "           My Large Shepard/Chow/Collie Mix       0.171000\n",
            "                                      LOVED       0.164000\n",
            "                         Safeway for &lt;$4       0.162000\n",
            "                                orange soda       0.162000\n",
            "                                    Materva       0.162000\n",
            "                             Toluca Gourmet       0.160000\n",
            "          Sour Cream Chocolate Cake Cookies       0.160000\n",
            "                                 Goya Foods       0.160000\n",
            "            Frosted Mini-Wheats Little Bits       0.159000\n",
            "                                      Likes       0.159000\n",
            "                              Cinnamon Roll       0.159000\n",
            "                           Soy & Diary Free       0.155000\n",
            "                      Farmer's Market Foods       0.155000\n",
            "                                      Corn,       0.155000\n",
            "                                        FYI       0.150500\n",
            "                 McCann's Steel Cut Oatmeal       0.149000\n",
            "        NuNaturals No Alcohol Liquid Stevia       0.146000\n",
            "                                    Teavana       0.146000\n",
            "                             Island Coconut       0.140000\n",
            "                                      lotus       0.140000\n",
            "                    Green Mountain Roasters       0.140000\n",
            "                 The Clear Scalp Ultra Shea       0.138000\n",
            "                                 Ultra Shea       0.138000\n",
            "                          Royal Canin Light       0.134000\n",
            "                                Royal Canin       0.134000\n",
            "                                    Greens+       0.128000\n",
            "                             Equal Exchange       0.121000\n",
            "                                   ZiwiPeak       0.117000\n",
            "                                      GREAT       0.116000\n",
            "                                       Army       0.116000\n",
            "                                       SPAM       0.116000\n",
            "                                Choice Cuts       0.113000\n",
            "                                      Maker       0.113000\n",
            "                          Diabetic Friendly       0.110000\n",
            "                                    caramel       0.110000\n",
            "                                     Apollo       0.107000\n",
            "                                         LJ       0.107000\n",
            "                              Marley Coffee       0.106000\n",
            "                             Taco Seasoning       0.106000\n",
            "                                    ConAgra       0.105000\n",
            "                             Wholesale Club       0.105000\n",
            "                                     />Well       0.102000\n",
            "                                     Google       0.100000\n",
            "                                       eBay       0.100000\n",
            "                                 Copenhagen       0.100000\n",
            "                                     Wabash       0.097000\n",
            "                                    Paragon       0.097000\n",
            "                         Potassium Chloride       0.091000\n",
            "                                         GI       0.090000\n",
            "           the Achieving Kicking Excellence       0.087000\n",
            "                                    Hershey       0.087000\n",
            "                                       Baby       0.087000\n",
            "                        the Safeway Lucerne       0.086000\n",
            "                                    Safeway       0.086000\n",
            "                    CONTAIN OTHER TREE NUTS       0.083000\n",
            "                                       SALT       0.083000\n",
            "                                    Melitta       0.083000\n",
            "                                        org       0.083000\n",
            "                       the American Forests       0.083000\n",
            "                            OTHER TREE NUTS       0.083000\n",
            "                                   CINNAMON       0.083000\n",
            "                                    Cytomax       0.079000\n",
            "                                   Wellness       0.079000\n",
            "                           Columbian Coffee       0.079000\n",
            "                                     Senseo       0.077250\n",
            "                                Walmart.<br       0.075000\n",
            "                               Trader Joe's       0.063000\n",
            "                                ScienceDiet       0.062000\n",
            "                      Gerber fruits&veggies       0.060000\n",
            "                                       Keep       0.060000\n",
            "                                    Vitamix       0.060000\n",
            "                                        IMO       0.050000\n",
            "                         the Country Choice       0.050000\n",
            "                             Country Choice       0.050000\n",
            "                        Cooking Illustrated       0.050000\n",
            "                                       USDA       0.037000\n",
            "                                        TAD       0.037000\n",
            "                                   Kirkland       0.037000\n",
            "                                    HOWEVER       0.031500\n",
            "                                     Quaker       0.027000\n",
            "                                        MSG       0.017667\n",
            "                                    Canidea       0.017000\n",
            "                                   American       0.013000\n",
            "                                       HFCS       0.013000\n",
            "                                    Nalgene       0.006000\n",
            "                                   BzzAgent       0.003000\n",
            "                     Werther's Original.<br       0.003000\n",
            "                             the Spicy Thai      -0.021000\n",
            "                             The Spicy Thai      -0.021000\n",
            "                                     K-Cups      -0.027000\n",
            "Marley Coffee & Tea One Love Organic Coffee      -0.030000\n",
            "                                      tacos      -0.033000\n",
            "                      Fermentation Products      -0.051000\n",
            "                          Sun-Cured Alfalfa      -0.051000\n",
            "                Select Radiant Adult Health      -0.051000\n",
            "                                Aspergillus      -0.051000\n",
            "                   Yucca Schidigera Extract      -0.051000\n",
            "                       Vitamin E Supplement      -0.051000\n",
            "                          Niacin Supplement      -0.051000\n",
            "                      Sardine & Salmon Meal      -0.051000\n",
            "                       Vitamin A Supplement      -0.051000\n",
            "                 Lecithin, Rosemary Extract      -0.051000\n",
            "                               Enterococcus      -0.051000\n",
            "                                    Gevalia      -0.062000\n",
            "                              General Mills      -0.073000\n",
            "                   IMITATION Almond Extract      -0.079000\n",
            "                        Pure Almond Extract      -0.079000\n",
            "                                      Myojo      -0.088000\n",
            "                          Evo, Blue Buffalo      -0.137000\n",
            "                                York Pieces      -0.167000\n",
            "                         Freeze Dried Liver      -0.200000\n",
            "                                     Samson      -0.200000\n",
            "                              Blue Mountain      -0.231000\n",
            "                                      Rolls      -0.781000\n"
          ]
        }
      ],
      "source": [
        "# BRAND SENTIMENT ANALYSIS\n",
        "# Create brand-sentiment mapping\n",
        "brand_sentiments = {}\n",
        "\n",
        "for idx, row in results_df.iterrows():\n",
        "    for brand in row['brands']:\n",
        "        if brand not in brand_sentiments:\n",
        "            brand_sentiments[brand] = []\n",
        "        brand_sentiments[brand].append(row['sentiment_score'])\n",
        "\n",
        "# Calculate average sentiment per brand\n",
        "brand_avg_sentiment = {brand: np.mean(scores)\n",
        "                       for brand, scores in brand_sentiments.items()\n",
        "                       if len(scores) > 0}\n",
        "\n",
        "if brand_avg_sentiment:\n",
        "    brand_sentiment_df = pd.DataFrame(\n",
        "        list(brand_avg_sentiment.items()),\n",
        "        columns=['Brand', 'Avg_Sentiment']\n",
        "    ).sort_values('Avg_Sentiment', ascending=False)\n",
        "\n",
        "    print(\"\\n\" + \"=\"*80)\n",
        "    print(\"BRAND SENTIMENT RANKINGS:\")\n",
        "    print(\"=\"*80)\n",
        "    print(brand_sentiment_df.to_string(index=False))"
      ]
    },
    {
      "cell_type": "code",
      "execution_count": null,
      "metadata": {
        "colab": {
          "base_uri": "https://localhost:8080/",
          "height": 417
        },
        "id": "PyFiG5We4Pgz",
        "outputId": "e886aa4d-d2d0-4d66-c3f9-fdfdaa184d7b"
      },
      "outputs": [
        {
          "output_type": "display_data",
          "data": {
            "text/html": [
              "<html>\n",
              "<head><meta charset=\"utf-8\" /></head>\n",
              "<body>\n",
              "    <div>            <script src=\"https://cdnjs.cloudflare.com/ajax/libs/mathjax/2.7.5/MathJax.js?config=TeX-AMS-MML_SVG\"></script><script type=\"text/javascript\">if (window.MathJax && window.MathJax.Hub && window.MathJax.Hub.Config) {window.MathJax.Hub.Config({SVG: {font: \"STIX-Web\"}});}</script>                <script type=\"text/javascript\">window.PlotlyConfig = {MathJaxConfig: 'local'};</script>\n",
              "        <script charset=\"utf-8\" src=\"https://cdn.plot.ly/plotly-2.35.2.min.js\"></script>                <div id=\"51a0938a-f9f6-4cf7-aa89-731243d1cb8a\" class=\"plotly-graph-div\" style=\"height:400px; width:100%;\"></div>            <script type=\"text/javascript\">                                    window.PLOTLYENV=window.PLOTLYENV || {};                                    if (document.getElementById(\"51a0938a-f9f6-4cf7-aa89-731243d1cb8a\")) {                    Plotly.newPlot(                        \"51a0938a-f9f6-4cf7-aa89-731243d1cb8a\",                        [{\"alignmentgroup\":\"True\",\"hovertemplate\":\"Brand=%{x}\\u003cbr\\u003eAvg_Sentiment=%{marker.color}\\u003cextra\\u003e\\u003c\\u002fextra\\u003e\",\"legendgroup\":\"\",\"marker\":{\"color\":[0.625,0.575,0.531,0.525,0.524,0.518,0.5,0.486,0.486,0.474,0.474,0.465,0.45,0.44,0.427,0.42,0.406,0.401,0.399,0.382,0.36,0.355,0.351,0.348,0.342,0.3415,0.337,0.337,0.336,0.336,0.334,0.334,0.333,0.331,0.325,0.309,0.302,0.297,0.296,0.284,0.284,0.283,0.282,0.277,0.277,0.277,0.27,0.27,0.265,0.259,0.259,0.254,0.252,0.245,0.244,0.243,0.243,0.243,0.243,0.239,0.239,0.239,0.236,0.236,0.236,0.233,0.233,0.233,0.233,0.231,0.229,0.226,0.226,0.226,0.224,0.224,0.224,0.218,0.218,0.20675,0.206,0.205,0.204,0.204,0.2024571428571428,0.202,0.2,0.2,0.2,0.198,0.197,0.197,0.197,0.183,0.181,0.177,0.177,0.177,0.177,0.175,0.175,0.171,0.171,0.171,0.164,0.162,0.162,0.162,0.16,0.16,0.16,0.159,0.159,0.159,0.155,0.155,0.155,0.1505,0.149,0.146,0.146,0.14,0.14,0.14,0.138,0.138,0.134,0.134,0.128,0.121,0.117,0.116,0.116,0.116,0.113,0.113,0.11,0.11,0.107,0.107,0.106,0.106,0.105,0.105,0.102,0.1,0.1,0.1,0.097,0.097,0.09100000000000001,0.09,0.087,0.087,0.087,0.086,0.086,0.083,0.083,0.083,0.083,0.083,0.083,0.083,0.079,0.079,0.079,0.07725,0.075,0.063,0.062,0.06,0.06,0.06,0.05,0.05,0.05,0.05,0.037,0.037,0.037,0.0315,0.027,0.017666666666666667,0.017,0.013,0.013,0.006,0.003,0.003,-0.021,-0.021,-0.027,-0.03,-0.033,-0.051,-0.051,-0.051,-0.051,-0.051,-0.051,-0.051,-0.051,-0.051,-0.051,-0.051,-0.062,-0.073,-0.079,-0.079,-0.088,-0.137,-0.167,-0.2,-0.2,-0.231,-0.781],\"coloraxis\":\"coloraxis\",\"pattern\":{\"shape\":\"\"}},\"name\":\"\",\"offsetgroup\":\"\",\"orientation\":\"v\",\"showlegend\":false,\"textposition\":\"auto\",\"x\":[\"SAMU\",\"Walmart\",\"Cadburys Milk Chocolate\",\"beetlejuice\",\"Northwest\",\"Kettle\",\"Pineapple\",\"amazon.com\",\"Cracovia Herring Filets\",\"Subscribe\",\"the Amazon Subscribe\",\"OMG\",\"McCann\",\"Blue Diamond\",\"Starbucks House\",\"Pop Stovetop\",\"Ceylon\",\"Amazing Jasmine Green Tea\",\"Crystal Light Fruit Punch\",\"HOT\",\"the Kind Bars\",\"Fire Roasted Chipotle Salsa\",\"Med\",\"Terra\",\"HP\",\"Celestial Seasonings\",\"Inventory\",\"creamy coconut\",\"Vanilla\",\"Power Crunch\",\"Sour Life Saver Gummies\",\"Ostrim\",\"Dunkin Donuts\",\"HUGE\",\"Salt &\",\"Amazon.com\",\"YUCK\",\"Original\",\"Rebecca Review\",\"YUMMY\",\"Nutiva\",\"LOT\",\"Petco\",\"LOTS\",\"Epigen\",\"Bischon Frise\",\"Tabasco\",\"CAT\",\"Costco\",\"Kleritea\",\"Alvita Senna Leaf Tea\",\"The Red Hot Lime\",\"BBQ\",\"strawberry\",\"Eagle Pack\",\"B12\",\"Ocean Whitefish & Tuna Feast\",\"Savory Salmon Feast\",\"Sole & Shrimp Feast\",\"Weight Watchers\",\"PB2\",\"PB&J\",\"Lipton\",\"Claxton\",\"Goldilocks\",\"Diamond Crystal\",\"Silicon Dioxide\",\"Diamond Chrystal\",\"Radio Systems Corp\",\"Waffle Crisp\",\"Frantoia\",\"Dr. Pepper\",\"pepsi\",\"fresca\",\"AMZN\",\"SteviaTabs Stevia Extract Tablets\",\"FOS\",\"Plantation Mint\",\"Lemon\",\"Whole Foods\",\"Stash\",\"Grape\",\"Worthington\",\"Sobe Lifewater\",\"Amazon\",\"Taco Bell\",\"coop &\",\"Nantucket Blend\",\"Neufchatel\",\"DHA\",\"Starbucks\",\"the Camellia Sinensis\",\"Rooibos\",\"The C.E.T. Enzymatic Oral\",\"Stash Premium Green Tea\",\"Community Coffee's\",\"Coffee Bean\",\"Community Coffee\",\"McDonald\",\"Maxwell House\",\"the Maxwell House Creme Latte\",\"bee\",\"Amstaff\",\"My Large Shepard\\u002fChow\\u002fCollie Mix\",\"LOVED\",\"Safeway for &lt;$4\",\"orange soda\",\"Materva\",\"Toluca Gourmet\",\"Sour Cream Chocolate Cake Cookies\",\"Goya Foods\",\"Frosted Mini-Wheats Little Bits\",\"Likes\",\"Cinnamon Roll\",\"Soy & Diary Free\",\"Farmer's Market Foods\",\"Corn,\",\"FYI\",\"McCann's Steel Cut Oatmeal\",\"NuNaturals No Alcohol Liquid Stevia\",\"Teavana\",\"Island Coconut\",\"lotus\",\"Green Mountain Roasters\",\"The Clear Scalp Ultra Shea\",\"Ultra Shea\",\"Royal Canin Light\",\"Royal Canin\",\"Greens+\",\"Equal Exchange\",\"ZiwiPeak\",\"GREAT\",\"Army\",\"SPAM\",\"Choice Cuts\",\"Maker\",\"Diabetic Friendly\",\"caramel\",\"Apollo\",\"LJ\",\"Marley Coffee\",\"Taco Seasoning\",\"ConAgra\",\"Wholesale Club\",\"\\u002f\\u003eWell\",\"Google\",\"eBay\",\"Copenhagen\",\"Wabash\",\"Paragon\",\"Potassium Chloride\",\"GI\",\"the Achieving Kicking Excellence\",\"Hershey\",\"Baby\",\"the Safeway Lucerne\",\"Safeway\",\"CONTAIN OTHER TREE NUTS\",\"SALT\",\"Melitta\",\"org\",\"the American Forests\",\"OTHER TREE NUTS\",\"CINNAMON\",\"Cytomax\",\"Wellness\",\"Columbian Coffee\",\"Senseo\",\"Walmart.\\u003cbr\",\"Trader Joe's\",\"ScienceDiet\",\"Gerber fruits&veggies\",\"Keep\",\"Vitamix\",\"IMO\",\"the Country Choice\",\"Country Choice\",\"Cooking Illustrated\",\"USDA\",\"TAD\",\"Kirkland\",\"HOWEVER\",\"Quaker\",\"MSG\",\"Canidea\",\"American\",\"HFCS\",\"Nalgene\",\"BzzAgent\",\"Werther's Original.\\u003cbr\",\"the Spicy Thai\",\"The Spicy Thai\",\"K-Cups\",\"Marley Coffee & Tea One Love Organic Coffee\",\"tacos\",\"Fermentation Products\",\"Sun-Cured Alfalfa\",\"Select Radiant Adult Health\",\"Aspergillus\",\"Yucca Schidigera Extract\",\"Vitamin E Supplement\",\"Niacin Supplement\",\"Sardine & Salmon Meal\",\"Vitamin A Supplement\",\"Lecithin, Rosemary Extract\",\"Enterococcus\",\"Gevalia\",\"General Mills\",\"IMITATION Almond Extract\",\"Pure Almond Extract\",\"Myojo\",\"Evo, Blue Buffalo\",\"York Pieces\",\"Freeze Dried Liver\",\"Samson\",\"Blue Mountain\",\"Rolls\"],\"xaxis\":\"x\",\"y\":[0.625,0.575,0.531,0.525,0.524,0.518,0.5,0.486,0.486,0.474,0.474,0.465,0.45,0.44,0.427,0.42,0.406,0.401,0.399,0.382,0.36,0.355,0.351,0.348,0.342,0.3415,0.337,0.337,0.336,0.336,0.334,0.334,0.333,0.331,0.325,0.309,0.302,0.297,0.296,0.284,0.284,0.283,0.282,0.277,0.277,0.277,0.27,0.27,0.265,0.259,0.259,0.254,0.252,0.245,0.244,0.243,0.243,0.243,0.243,0.239,0.239,0.239,0.236,0.236,0.236,0.233,0.233,0.233,0.233,0.231,0.229,0.226,0.226,0.226,0.224,0.224,0.224,0.218,0.218,0.20675,0.206,0.205,0.204,0.204,0.2024571428571428,0.202,0.2,0.2,0.2,0.198,0.197,0.197,0.197,0.183,0.181,0.177,0.177,0.177,0.177,0.175,0.175,0.171,0.171,0.171,0.164,0.162,0.162,0.162,0.16,0.16,0.16,0.159,0.159,0.159,0.155,0.155,0.155,0.1505,0.149,0.146,0.146,0.14,0.14,0.14,0.138,0.138,0.134,0.134,0.128,0.121,0.117,0.116,0.116,0.116,0.113,0.113,0.11,0.11,0.107,0.107,0.106,0.106,0.105,0.105,0.102,0.1,0.1,0.1,0.097,0.097,0.09100000000000001,0.09,0.087,0.087,0.087,0.086,0.086,0.083,0.083,0.083,0.083,0.083,0.083,0.083,0.079,0.079,0.079,0.07725,0.075,0.063,0.062,0.06,0.06,0.06,0.05,0.05,0.05,0.05,0.037,0.037,0.037,0.0315,0.027,0.017666666666666667,0.017,0.013,0.013,0.006,0.003,0.003,-0.021,-0.021,-0.027,-0.03,-0.033,-0.051,-0.051,-0.051,-0.051,-0.051,-0.051,-0.051,-0.051,-0.051,-0.051,-0.051,-0.062,-0.073,-0.079,-0.079,-0.088,-0.137,-0.167,-0.2,-0.2,-0.231,-0.781],\"yaxis\":\"y\",\"type\":\"bar\"}],                        {\"template\":{\"data\":{\"histogram2dcontour\":[{\"type\":\"histogram2dcontour\",\"colorbar\":{\"outlinewidth\":0,\"ticks\":\"\"},\"colorscale\":[[0.0,\"#0d0887\"],[0.1111111111111111,\"#46039f\"],[0.2222222222222222,\"#7201a8\"],[0.3333333333333333,\"#9c179e\"],[0.4444444444444444,\"#bd3786\"],[0.5555555555555556,\"#d8576b\"],[0.6666666666666666,\"#ed7953\"],[0.7777777777777778,\"#fb9f3a\"],[0.8888888888888888,\"#fdca26\"],[1.0,\"#f0f921\"]]}],\"choropleth\":[{\"type\":\"choropleth\",\"colorbar\":{\"outlinewidth\":0,\"ticks\":\"\"}}],\"histogram2d\":[{\"type\":\"histogram2d\",\"colorbar\":{\"outlinewidth\":0,\"ticks\":\"\"},\"colorscale\":[[0.0,\"#0d0887\"],[0.1111111111111111,\"#46039f\"],[0.2222222222222222,\"#7201a8\"],[0.3333333333333333,\"#9c179e\"],[0.4444444444444444,\"#bd3786\"],[0.5555555555555556,\"#d8576b\"],[0.6666666666666666,\"#ed7953\"],[0.7777777777777778,\"#fb9f3a\"],[0.8888888888888888,\"#fdca26\"],[1.0,\"#f0f921\"]]}],\"heatmap\":[{\"type\":\"heatmap\",\"colorbar\":{\"outlinewidth\":0,\"ticks\":\"\"},\"colorscale\":[[0.0,\"#0d0887\"],[0.1111111111111111,\"#46039f\"],[0.2222222222222222,\"#7201a8\"],[0.3333333333333333,\"#9c179e\"],[0.4444444444444444,\"#bd3786\"],[0.5555555555555556,\"#d8576b\"],[0.6666666666666666,\"#ed7953\"],[0.7777777777777778,\"#fb9f3a\"],[0.8888888888888888,\"#fdca26\"],[1.0,\"#f0f921\"]]}],\"heatmapgl\":[{\"type\":\"heatmapgl\",\"colorbar\":{\"outlinewidth\":0,\"ticks\":\"\"},\"colorscale\":[[0.0,\"#0d0887\"],[0.1111111111111111,\"#46039f\"],[0.2222222222222222,\"#7201a8\"],[0.3333333333333333,\"#9c179e\"],[0.4444444444444444,\"#bd3786\"],[0.5555555555555556,\"#d8576b\"],[0.6666666666666666,\"#ed7953\"],[0.7777777777777778,\"#fb9f3a\"],[0.8888888888888888,\"#fdca26\"],[1.0,\"#f0f921\"]]}],\"contourcarpet\":[{\"type\":\"contourcarpet\",\"colorbar\":{\"outlinewidth\":0,\"ticks\":\"\"}}],\"contour\":[{\"type\":\"contour\",\"colorbar\":{\"outlinewidth\":0,\"ticks\":\"\"},\"colorscale\":[[0.0,\"#0d0887\"],[0.1111111111111111,\"#46039f\"],[0.2222222222222222,\"#7201a8\"],[0.3333333333333333,\"#9c179e\"],[0.4444444444444444,\"#bd3786\"],[0.5555555555555556,\"#d8576b\"],[0.6666666666666666,\"#ed7953\"],[0.7777777777777778,\"#fb9f3a\"],[0.8888888888888888,\"#fdca26\"],[1.0,\"#f0f921\"]]}],\"surface\":[{\"type\":\"surface\",\"colorbar\":{\"outlinewidth\":0,\"ticks\":\"\"},\"colorscale\":[[0.0,\"#0d0887\"],[0.1111111111111111,\"#46039f\"],[0.2222222222222222,\"#7201a8\"],[0.3333333333333333,\"#9c179e\"],[0.4444444444444444,\"#bd3786\"],[0.5555555555555556,\"#d8576b\"],[0.6666666666666666,\"#ed7953\"],[0.7777777777777778,\"#fb9f3a\"],[0.8888888888888888,\"#fdca26\"],[1.0,\"#f0f921\"]]}],\"mesh3d\":[{\"type\":\"mesh3d\",\"colorbar\":{\"outlinewidth\":0,\"ticks\":\"\"}}],\"scatter\":[{\"fillpattern\":{\"fillmode\":\"overlay\",\"size\":10,\"solidity\":0.2},\"type\":\"scatter\"}],\"parcoords\":[{\"type\":\"parcoords\",\"line\":{\"colorbar\":{\"outlinewidth\":0,\"ticks\":\"\"}}}],\"scatterpolargl\":[{\"type\":\"scatterpolargl\",\"marker\":{\"colorbar\":{\"outlinewidth\":0,\"ticks\":\"\"}}}],\"bar\":[{\"error_x\":{\"color\":\"#2a3f5f\"},\"error_y\":{\"color\":\"#2a3f5f\"},\"marker\":{\"line\":{\"color\":\"#E5ECF6\",\"width\":0.5},\"pattern\":{\"fillmode\":\"overlay\",\"size\":10,\"solidity\":0.2}},\"type\":\"bar\"}],\"scattergeo\":[{\"type\":\"scattergeo\",\"marker\":{\"colorbar\":{\"outlinewidth\":0,\"ticks\":\"\"}}}],\"scatterpolar\":[{\"type\":\"scatterpolar\",\"marker\":{\"colorbar\":{\"outlinewidth\":0,\"ticks\":\"\"}}}],\"histogram\":[{\"marker\":{\"pattern\":{\"fillmode\":\"overlay\",\"size\":10,\"solidity\":0.2}},\"type\":\"histogram\"}],\"scattergl\":[{\"type\":\"scattergl\",\"marker\":{\"colorbar\":{\"outlinewidth\":0,\"ticks\":\"\"}}}],\"scatter3d\":[{\"type\":\"scatter3d\",\"line\":{\"colorbar\":{\"outlinewidth\":0,\"ticks\":\"\"}},\"marker\":{\"colorbar\":{\"outlinewidth\":0,\"ticks\":\"\"}}}],\"scattermapbox\":[{\"type\":\"scattermapbox\",\"marker\":{\"colorbar\":{\"outlinewidth\":0,\"ticks\":\"\"}}}],\"scatterternary\":[{\"type\":\"scatterternary\",\"marker\":{\"colorbar\":{\"outlinewidth\":0,\"ticks\":\"\"}}}],\"scattercarpet\":[{\"type\":\"scattercarpet\",\"marker\":{\"colorbar\":{\"outlinewidth\":0,\"ticks\":\"\"}}}],\"carpet\":[{\"aaxis\":{\"endlinecolor\":\"#2a3f5f\",\"gridcolor\":\"white\",\"linecolor\":\"white\",\"minorgridcolor\":\"white\",\"startlinecolor\":\"#2a3f5f\"},\"baxis\":{\"endlinecolor\":\"#2a3f5f\",\"gridcolor\":\"white\",\"linecolor\":\"white\",\"minorgridcolor\":\"white\",\"startlinecolor\":\"#2a3f5f\"},\"type\":\"carpet\"}],\"table\":[{\"cells\":{\"fill\":{\"color\":\"#EBF0F8\"},\"line\":{\"color\":\"white\"}},\"header\":{\"fill\":{\"color\":\"#C8D4E3\"},\"line\":{\"color\":\"white\"}},\"type\":\"table\"}],\"barpolar\":[{\"marker\":{\"line\":{\"color\":\"#E5ECF6\",\"width\":0.5},\"pattern\":{\"fillmode\":\"overlay\",\"size\":10,\"solidity\":0.2}},\"type\":\"barpolar\"}],\"pie\":[{\"automargin\":true,\"type\":\"pie\"}]},\"layout\":{\"autotypenumbers\":\"strict\",\"colorway\":[\"#636efa\",\"#EF553B\",\"#00cc96\",\"#ab63fa\",\"#FFA15A\",\"#19d3f3\",\"#FF6692\",\"#B6E880\",\"#FF97FF\",\"#FECB52\"],\"font\":{\"color\":\"#2a3f5f\"},\"hovermode\":\"closest\",\"hoverlabel\":{\"align\":\"left\"},\"paper_bgcolor\":\"white\",\"plot_bgcolor\":\"#E5ECF6\",\"polar\":{\"bgcolor\":\"#E5ECF6\",\"angularaxis\":{\"gridcolor\":\"white\",\"linecolor\":\"white\",\"ticks\":\"\"},\"radialaxis\":{\"gridcolor\":\"white\",\"linecolor\":\"white\",\"ticks\":\"\"}},\"ternary\":{\"bgcolor\":\"#E5ECF6\",\"aaxis\":{\"gridcolor\":\"white\",\"linecolor\":\"white\",\"ticks\":\"\"},\"baxis\":{\"gridcolor\":\"white\",\"linecolor\":\"white\",\"ticks\":\"\"},\"caxis\":{\"gridcolor\":\"white\",\"linecolor\":\"white\",\"ticks\":\"\"}},\"coloraxis\":{\"colorbar\":{\"outlinewidth\":0,\"ticks\":\"\"}},\"colorscale\":{\"sequential\":[[0.0,\"#0d0887\"],[0.1111111111111111,\"#46039f\"],[0.2222222222222222,\"#7201a8\"],[0.3333333333333333,\"#9c179e\"],[0.4444444444444444,\"#bd3786\"],[0.5555555555555556,\"#d8576b\"],[0.6666666666666666,\"#ed7953\"],[0.7777777777777778,\"#fb9f3a\"],[0.8888888888888888,\"#fdca26\"],[1.0,\"#f0f921\"]],\"sequentialminus\":[[0.0,\"#0d0887\"],[0.1111111111111111,\"#46039f\"],[0.2222222222222222,\"#7201a8\"],[0.3333333333333333,\"#9c179e\"],[0.4444444444444444,\"#bd3786\"],[0.5555555555555556,\"#d8576b\"],[0.6666666666666666,\"#ed7953\"],[0.7777777777777778,\"#fb9f3a\"],[0.8888888888888888,\"#fdca26\"],[1.0,\"#f0f921\"]],\"diverging\":[[0,\"#8e0152\"],[0.1,\"#c51b7d\"],[0.2,\"#de77ae\"],[0.3,\"#f1b6da\"],[0.4,\"#fde0ef\"],[0.5,\"#f7f7f7\"],[0.6,\"#e6f5d0\"],[0.7,\"#b8e186\"],[0.8,\"#7fbc41\"],[0.9,\"#4d9221\"],[1,\"#276419\"]]},\"xaxis\":{\"gridcolor\":\"white\",\"linecolor\":\"white\",\"ticks\":\"\",\"title\":{\"standoff\":15},\"zerolinecolor\":\"white\",\"automargin\":true,\"zerolinewidth\":2},\"yaxis\":{\"gridcolor\":\"white\",\"linecolor\":\"white\",\"ticks\":\"\",\"title\":{\"standoff\":15},\"zerolinecolor\":\"white\",\"automargin\":true,\"zerolinewidth\":2},\"scene\":{\"xaxis\":{\"backgroundcolor\":\"#E5ECF6\",\"gridcolor\":\"white\",\"linecolor\":\"white\",\"showbackground\":true,\"ticks\":\"\",\"zerolinecolor\":\"white\",\"gridwidth\":2},\"yaxis\":{\"backgroundcolor\":\"#E5ECF6\",\"gridcolor\":\"white\",\"linecolor\":\"white\",\"showbackground\":true,\"ticks\":\"\",\"zerolinecolor\":\"white\",\"gridwidth\":2},\"zaxis\":{\"backgroundcolor\":\"#E5ECF6\",\"gridcolor\":\"white\",\"linecolor\":\"white\",\"showbackground\":true,\"ticks\":\"\",\"zerolinecolor\":\"white\",\"gridwidth\":2}},\"shapedefaults\":{\"line\":{\"color\":\"#2a3f5f\"}},\"annotationdefaults\":{\"arrowcolor\":\"#2a3f5f\",\"arrowhead\":0,\"arrowwidth\":1},\"geo\":{\"bgcolor\":\"white\",\"landcolor\":\"#E5ECF6\",\"subunitcolor\":\"white\",\"showland\":true,\"showlakes\":true,\"lakecolor\":\"white\"},\"title\":{\"x\":0.05},\"mapbox\":{\"style\":\"light\"}}},\"xaxis\":{\"anchor\":\"y\",\"domain\":[0.0,1.0],\"title\":{\"text\":\"Brand\"}},\"yaxis\":{\"anchor\":\"x\",\"domain\":[0.0,1.0],\"title\":{\"text\":\"Avg_Sentiment\"}},\"coloraxis\":{\"colorbar\":{\"title\":{\"text\":\"Avg_Sentiment\"}},\"colorscale\":[[0.0,\"red\"],[0.5,\"yellow\"],[1.0,\"green\"]]},\"legend\":{\"tracegroupgap\":0},\"title\":{\"text\":\"Average Sentiment by Brand\"},\"barmode\":\"relative\",\"height\":400,\"shapes\":[{\"line\":{\"color\":\"black\",\"dash\":\"dash\"},\"type\":\"line\",\"x0\":0,\"x1\":1,\"xref\":\"x domain\",\"y0\":0,\"y1\":0,\"yref\":\"y\"}]},                        {\"responsive\": true}                    ).then(function(){\n",
              "                            \n",
              "var gd = document.getElementById('51a0938a-f9f6-4cf7-aa89-731243d1cb8a');\n",
              "var x = new MutationObserver(function (mutations, observer) {{\n",
              "        var display = window.getComputedStyle(gd).display;\n",
              "        if (!display || display === 'none') {{\n",
              "            console.log([gd, 'removed!']);\n",
              "            Plotly.purge(gd);\n",
              "            observer.disconnect();\n",
              "        }}\n",
              "}});\n",
              "\n",
              "// Listen for the removal of the full notebook cells\n",
              "var notebookContainer = gd.closest('#notebook-container');\n",
              "if (notebookContainer) {{\n",
              "    x.observe(notebookContainer, {childList: true});\n",
              "}}\n",
              "\n",
              "// Listen for the clearing of the current output cell\n",
              "var outputEl = gd.closest('.output');\n",
              "if (outputEl) {{\n",
              "    x.observe(outputEl, {childList: true});\n",
              "}}\n",
              "\n",
              "                        })                };                            </script>        </div>\n",
              "</body>\n",
              "</html>"
            ]
          },
          "metadata": {}
        }
      ],
      "source": [
        "# Visualization\n",
        "if brand_avg_sentiment:\n",
        "    fig = px.bar(brand_sentiment_df, x='Brand', y='Avg_Sentiment',\n",
        "                 title='Average Sentiment by Brand',\n",
        "                 color='Avg_Sentiment',\n",
        "                 color_continuous_scale=['red', 'yellow', 'green'],\n",
        "                 height=400)\n",
        "    fig.add_hline(y=0, line_dash=\"dash\", line_color=\"black\")\n",
        "    fig.show()"
      ]
    },
    {
      "cell_type": "code",
      "execution_count": null,
      "metadata": {
        "colab": {
          "base_uri": "https://localhost:8080/",
          "height": 417
        },
        "id": "ABfqZtqD5VMb",
        "outputId": "936a2c06-ed6c-43ac-f791-6b74177239ed"
      },
      "outputs": [
        {
          "output_type": "display_data",
          "data": {
            "text/html": [
              "<html>\n",
              "<head><meta charset=\"utf-8\" /></head>\n",
              "<body>\n",
              "    <div>            <script src=\"https://cdnjs.cloudflare.com/ajax/libs/mathjax/2.7.5/MathJax.js?config=TeX-AMS-MML_SVG\"></script><script type=\"text/javascript\">if (window.MathJax && window.MathJax.Hub && window.MathJax.Hub.Config) {window.MathJax.Hub.Config({SVG: {font: \"STIX-Web\"}});}</script>                <script type=\"text/javascript\">window.PlotlyConfig = {MathJaxConfig: 'local'};</script>\n",
              "        <script charset=\"utf-8\" src=\"https://cdn.plot.ly/plotly-2.35.2.min.js\"></script>                <div id=\"7dd00478-3dc9-45d7-b73e-894a7840876e\" class=\"plotly-graph-div\" style=\"height:400px; width:100%;\"></div>            <script type=\"text/javascript\">                                    window.PLOTLYENV=window.PLOTLYENV || {};                                    if (document.getElementById(\"7dd00478-3dc9-45d7-b73e-894a7840876e\")) {                    Plotly.newPlot(                        \"7dd00478-3dc9-45d7-b73e-894a7840876e\",                        [{\"alignmentgroup\":\"True\",\"hovertemplate\":\"Brand=%{x}\\u003cbr\\u003eAvg_Sentiment=%{marker.color}\\u003cbr\\u003etext=%{text}\\u003cextra\\u003e\\u003c\\u002fextra\\u003e\",\"legendgroup\":\"\",\"marker\":{\"color\":[0.625,0.575,0.531,0.525,0.524,0.518,0.5,0.486,0.486,0.474,0.474,0.465,0.45,0.44,0.427,0.42,0.406,0.401,0.399,0.382,0.36,0.355,0.351,0.348,0.342,0.3415,0.337,0.337,0.336,0.336,0.334,0.334,0.333,0.331,0.325,0.309,0.302,0.297,0.296,0.284,0.284,0.283,0.282,0.277,0.277,0.277,0.27,0.27,0.265,0.259,0.259,0.254,0.252,0.245,0.244,0.243,0.243,0.243,0.243,0.239,0.239,0.239,0.236,0.236,0.236,0.233,0.233,0.233,0.233,0.231,0.229,0.226,0.226,0.226,0.224,0.224,0.224,0.218,0.218,0.20675,0.206,0.205,0.204,0.204,0.2024571428571428,0.202,0.2,0.2,0.2,0.198,0.197,0.197,0.197,0.183,0.181,0.177,0.177,0.177,0.177,0.175,0.175,0.171,0.171,0.171,0.164,0.162,0.162,0.162,0.16,0.16,0.16,0.159,0.159,0.159,0.155,0.155,0.155,0.1505,0.149,0.146,0.146,0.14,0.14,0.14,0.138,0.138,0.134,0.134,0.128,0.121,0.117,0.116,0.116,0.116,0.113,0.113,0.11,0.11,0.107,0.107,0.106,0.106,0.105,0.105,0.102,0.1,0.1,0.1,0.097,0.097,0.09100000000000001,0.09,0.087,0.087,0.087,0.086,0.086,0.083,0.083,0.083,0.083,0.083,0.083,0.083,0.079,0.079,0.079,0.07725,0.075,0.063,0.062,0.06,0.06,0.06,0.05,0.05,0.05,0.05,0.037,0.037,0.037,0.0315,0.027,0.017666666666666667,0.017,0.013,0.013,0.006,0.003,0.003,-0.021,-0.021,-0.027,-0.03,-0.033,-0.051,-0.051,-0.051,-0.051,-0.051,-0.051,-0.051,-0.051,-0.051,-0.051,-0.051,-0.062,-0.073,-0.079,-0.079,-0.088,-0.137,-0.167,-0.2,-0.2,-0.231,-0.781],\"coloraxis\":\"coloraxis\",\"pattern\":{\"shape\":\"\"}},\"name\":\"\",\"offsetgroup\":\"\",\"orientation\":\"v\",\"showlegend\":false,\"text\":[\"0.62\",\"0.57\",\"0.53\",\"0.53\",\"0.52\",\"0.52\",\"0.50\",\"0.49\",\"0.49\",\"0.47\",\"0.47\",\"0.47\",\"0.45\",\"0.44\",\"0.43\",\"0.42\",\"0.41\",\"0.40\",\"0.40\",\"0.38\",\"0.36\",\"0.35\",\"0.35\",\"0.35\",\"0.34\",\"0.34\",\"0.34\",\"0.34\",\"0.34\",\"0.34\",\"0.33\",\"0.33\",\"0.33\",\"0.33\",\"0.33\",\"0.31\",\"0.30\",\"0.30\",\"0.30\",\"0.28\",\"0.28\",\"0.28\",\"0.28\",\"0.28\",\"0.28\",\"0.28\",\"0.27\",\"0.27\",\"0.27\",\"0.26\",\"0.26\",\"0.25\",\"0.25\",\"0.24\",\"0.24\",\"0.24\",\"0.24\",\"0.24\",\"0.24\",\"0.24\",\"0.24\",\"0.24\",\"0.24\",\"0.24\",\"0.24\",\"0.23\",\"0.23\",\"0.23\",\"0.23\",\"0.23\",\"0.23\",\"0.23\",\"0.23\",\"0.23\",\"0.22\",\"0.22\",\"0.22\",\"0.22\",\"0.22\",\"0.21\",\"0.21\",\"0.20\",\"0.20\",\"0.20\",\"0.20\",\"0.20\",\"0.20\",\"0.20\",\"0.20\",\"0.20\",\"0.20\",\"0.20\",\"0.20\",\"0.18\",\"0.18\",\"0.18\",\"0.18\",\"0.18\",\"0.18\",\"0.17\",\"0.17\",\"0.17\",\"0.17\",\"0.17\",\"0.16\",\"0.16\",\"0.16\",\"0.16\",\"0.16\",\"0.16\",\"0.16\",\"0.16\",\"0.16\",\"0.16\",\"0.15\",\"0.15\",\"0.15\",\"0.15\",\"0.15\",\"0.15\",\"0.15\",\"0.14\",\"0.14\",\"0.14\",\"0.14\",\"0.14\",\"0.13\",\"0.13\",\"0.13\",\"0.12\",\"0.12\",\"0.12\",\"0.12\",\"0.12\",\"0.11\",\"0.11\",\"0.11\",\"0.11\",\"0.11\",\"0.11\",\"0.11\",\"0.11\",\"0.10\",\"0.10\",\"0.10\",\"0.10\",\"0.10\",\"0.10\",\"0.10\",\"0.10\",\"0.09\",\"0.09\",\"0.09\",\"0.09\",\"0.09\",\"0.09\",\"0.09\",\"0.08\",\"0.08\",\"0.08\",\"0.08\",\"0.08\",\"0.08\",\"0.08\",\"0.08\",\"0.08\",\"0.08\",\"0.08\",\"0.07\",\"0.06\",\"0.06\",\"0.06\",\"0.06\",\"0.06\",\"0.05\",\"0.05\",\"0.05\",\"0.05\",\"0.04\",\"0.04\",\"0.04\",\"0.03\",\"0.03\",\"0.02\",\"0.02\",\"0.01\",\"0.01\",\"0.01\",\"0.00\",\"0.00\",\"-0.02\",\"-0.02\",\"-0.03\",\"-0.03\",\"-0.03\",\"-0.05\",\"-0.05\",\"-0.05\",\"-0.05\",\"-0.05\",\"-0.05\",\"-0.05\",\"-0.05\",\"-0.05\",\"-0.05\",\"-0.05\",\"-0.06\",\"-0.07\",\"-0.08\",\"-0.08\",\"-0.09\",\"-0.14\",\"-0.17\",\"-0.20\",\"-0.20\",\"-0.23\",\"-0.78\"],\"textposition\":\"outside\",\"x\":[\"SAMU\",\"Walmart\",\"Cadburys Milk Chocolate\",\"beetlejuice\",\"Northwest\",\"Kettle\",\"Pineapple\",\"amazon.com\",\"Cracovia Herring Filets\",\"Subscribe\",\"the Amazon Subscribe\",\"OMG\",\"McCann\",\"Blue Diamond\",\"Starbucks House\",\"Pop Stovetop\",\"Ceylon\",\"Amazing Jasmine Green Tea\",\"Crystal Light Fruit Punch\",\"HOT\",\"the Kind Bars\",\"Fire Roasted Chipotle Salsa\",\"Med\",\"Terra\",\"HP\",\"Celestial Seasonings\",\"Inventory\",\"creamy coconut\",\"Vanilla\",\"Power Crunch\",\"Sour Life Saver Gummies\",\"Ostrim\",\"Dunkin Donuts\",\"HUGE\",\"Salt &\",\"Amazon.com\",\"YUCK\",\"Original\",\"Rebecca Review\",\"YUMMY\",\"Nutiva\",\"LOT\",\"Petco\",\"LOTS\",\"Epigen\",\"Bischon Frise\",\"Tabasco\",\"CAT\",\"Costco\",\"Kleritea\",\"Alvita Senna Leaf Tea\",\"The Red Hot Lime\",\"BBQ\",\"strawberry\",\"Eagle Pack\",\"B12\",\"Ocean Whitefish & Tuna Feast\",\"Savory Salmon Feast\",\"Sole & Shrimp Feast\",\"Weight Watchers\",\"PB2\",\"PB&J\",\"Lipton\",\"Claxton\",\"Goldilocks\",\"Diamond Crystal\",\"Silicon Dioxide\",\"Diamond Chrystal\",\"Radio Systems Corp\",\"Waffle Crisp\",\"Frantoia\",\"Dr. Pepper\",\"pepsi\",\"fresca\",\"AMZN\",\"SteviaTabs Stevia Extract Tablets\",\"FOS\",\"Plantation Mint\",\"Lemon\",\"Whole Foods\",\"Stash\",\"Grape\",\"Worthington\",\"Sobe Lifewater\",\"Amazon\",\"Taco Bell\",\"coop &\",\"Nantucket Blend\",\"Neufchatel\",\"DHA\",\"Starbucks\",\"the Camellia Sinensis\",\"Rooibos\",\"The C.E.T. Enzymatic Oral\",\"Stash Premium Green Tea\",\"Community Coffee's\",\"Coffee Bean\",\"Community Coffee\",\"McDonald\",\"Maxwell House\",\"the Maxwell House Creme Latte\",\"bee\",\"Amstaff\",\"My Large Shepard\\u002fChow\\u002fCollie Mix\",\"LOVED\",\"Safeway for &lt;$4\",\"orange soda\",\"Materva\",\"Toluca Gourmet\",\"Sour Cream Chocolate Cake Cookies\",\"Goya Foods\",\"Frosted Mini-Wheats Little Bits\",\"Likes\",\"Cinnamon Roll\",\"Soy & Diary Free\",\"Farmer's Market Foods\",\"Corn,\",\"FYI\",\"McCann's Steel Cut Oatmeal\",\"NuNaturals No Alcohol Liquid Stevia\",\"Teavana\",\"Island Coconut\",\"lotus\",\"Green Mountain Roasters\",\"The Clear Scalp Ultra Shea\",\"Ultra Shea\",\"Royal Canin Light\",\"Royal Canin\",\"Greens+\",\"Equal Exchange\",\"ZiwiPeak\",\"GREAT\",\"Army\",\"SPAM\",\"Choice Cuts\",\"Maker\",\"Diabetic Friendly\",\"caramel\",\"Apollo\",\"LJ\",\"Marley Coffee\",\"Taco Seasoning\",\"ConAgra\",\"Wholesale Club\",\"\\u002f\\u003eWell\",\"Google\",\"eBay\",\"Copenhagen\",\"Wabash\",\"Paragon\",\"Potassium Chloride\",\"GI\",\"the Achieving Kicking Excellence\",\"Hershey\",\"Baby\",\"the Safeway Lucerne\",\"Safeway\",\"CONTAIN OTHER TREE NUTS\",\"SALT\",\"Melitta\",\"org\",\"the American Forests\",\"OTHER TREE NUTS\",\"CINNAMON\",\"Cytomax\",\"Wellness\",\"Columbian Coffee\",\"Senseo\",\"Walmart.\\u003cbr\",\"Trader Joe's\",\"ScienceDiet\",\"Gerber fruits&veggies\",\"Keep\",\"Vitamix\",\"IMO\",\"the Country Choice\",\"Country Choice\",\"Cooking Illustrated\",\"USDA\",\"TAD\",\"Kirkland\",\"HOWEVER\",\"Quaker\",\"MSG\",\"Canidea\",\"American\",\"HFCS\",\"Nalgene\",\"BzzAgent\",\"Werther's Original.\\u003cbr\",\"the Spicy Thai\",\"The Spicy Thai\",\"K-Cups\",\"Marley Coffee & Tea One Love Organic Coffee\",\"tacos\",\"Fermentation Products\",\"Sun-Cured Alfalfa\",\"Select Radiant Adult Health\",\"Aspergillus\",\"Yucca Schidigera Extract\",\"Vitamin E Supplement\",\"Niacin Supplement\",\"Sardine & Salmon Meal\",\"Vitamin A Supplement\",\"Lecithin, Rosemary Extract\",\"Enterococcus\",\"Gevalia\",\"General Mills\",\"IMITATION Almond Extract\",\"Pure Almond Extract\",\"Myojo\",\"Evo, Blue Buffalo\",\"York Pieces\",\"Freeze Dried Liver\",\"Samson\",\"Blue Mountain\",\"Rolls\"],\"xaxis\":\"x\",\"y\":[0.625,0.575,0.531,0.525,0.524,0.518,0.5,0.486,0.486,0.474,0.474,0.465,0.45,0.44,0.427,0.42,0.406,0.401,0.399,0.382,0.36,0.355,0.351,0.348,0.342,0.3415,0.337,0.337,0.336,0.336,0.334,0.334,0.333,0.331,0.325,0.309,0.302,0.297,0.296,0.284,0.284,0.283,0.282,0.277,0.277,0.277,0.27,0.27,0.265,0.259,0.259,0.254,0.252,0.245,0.244,0.243,0.243,0.243,0.243,0.239,0.239,0.239,0.236,0.236,0.236,0.233,0.233,0.233,0.233,0.231,0.229,0.226,0.226,0.226,0.224,0.224,0.224,0.218,0.218,0.20675,0.206,0.205,0.204,0.204,0.2024571428571428,0.202,0.2,0.2,0.2,0.198,0.197,0.197,0.197,0.183,0.181,0.177,0.177,0.177,0.177,0.175,0.175,0.171,0.171,0.171,0.164,0.162,0.162,0.162,0.16,0.16,0.16,0.159,0.159,0.159,0.155,0.155,0.155,0.1505,0.149,0.146,0.146,0.14,0.14,0.14,0.138,0.138,0.134,0.134,0.128,0.121,0.117,0.116,0.116,0.116,0.113,0.113,0.11,0.11,0.107,0.107,0.106,0.106,0.105,0.105,0.102,0.1,0.1,0.1,0.097,0.097,0.09100000000000001,0.09,0.087,0.087,0.087,0.086,0.086,0.083,0.083,0.083,0.083,0.083,0.083,0.083,0.079,0.079,0.079,0.07725,0.075,0.063,0.062,0.06,0.06,0.06,0.05,0.05,0.05,0.05,0.037,0.037,0.037,0.0315,0.027,0.017666666666666667,0.017,0.013,0.013,0.006,0.003,0.003,-0.021,-0.021,-0.027,-0.03,-0.033,-0.051,-0.051,-0.051,-0.051,-0.051,-0.051,-0.051,-0.051,-0.051,-0.051,-0.051,-0.062,-0.073,-0.079,-0.079,-0.088,-0.137,-0.167,-0.2,-0.2,-0.231,-0.781],\"yaxis\":\"y\",\"type\":\"bar\"}],                        {\"template\":{\"data\":{\"histogram2dcontour\":[{\"type\":\"histogram2dcontour\",\"colorbar\":{\"outlinewidth\":0,\"ticks\":\"\"},\"colorscale\":[[0.0,\"#0d0887\"],[0.1111111111111111,\"#46039f\"],[0.2222222222222222,\"#7201a8\"],[0.3333333333333333,\"#9c179e\"],[0.4444444444444444,\"#bd3786\"],[0.5555555555555556,\"#d8576b\"],[0.6666666666666666,\"#ed7953\"],[0.7777777777777778,\"#fb9f3a\"],[0.8888888888888888,\"#fdca26\"],[1.0,\"#f0f921\"]]}],\"choropleth\":[{\"type\":\"choropleth\",\"colorbar\":{\"outlinewidth\":0,\"ticks\":\"\"}}],\"histogram2d\":[{\"type\":\"histogram2d\",\"colorbar\":{\"outlinewidth\":0,\"ticks\":\"\"},\"colorscale\":[[0.0,\"#0d0887\"],[0.1111111111111111,\"#46039f\"],[0.2222222222222222,\"#7201a8\"],[0.3333333333333333,\"#9c179e\"],[0.4444444444444444,\"#bd3786\"],[0.5555555555555556,\"#d8576b\"],[0.6666666666666666,\"#ed7953\"],[0.7777777777777778,\"#fb9f3a\"],[0.8888888888888888,\"#fdca26\"],[1.0,\"#f0f921\"]]}],\"heatmap\":[{\"type\":\"heatmap\",\"colorbar\":{\"outlinewidth\":0,\"ticks\":\"\"},\"colorscale\":[[0.0,\"#0d0887\"],[0.1111111111111111,\"#46039f\"],[0.2222222222222222,\"#7201a8\"],[0.3333333333333333,\"#9c179e\"],[0.4444444444444444,\"#bd3786\"],[0.5555555555555556,\"#d8576b\"],[0.6666666666666666,\"#ed7953\"],[0.7777777777777778,\"#fb9f3a\"],[0.8888888888888888,\"#fdca26\"],[1.0,\"#f0f921\"]]}],\"heatmapgl\":[{\"type\":\"heatmapgl\",\"colorbar\":{\"outlinewidth\":0,\"ticks\":\"\"},\"colorscale\":[[0.0,\"#0d0887\"],[0.1111111111111111,\"#46039f\"],[0.2222222222222222,\"#7201a8\"],[0.3333333333333333,\"#9c179e\"],[0.4444444444444444,\"#bd3786\"],[0.5555555555555556,\"#d8576b\"],[0.6666666666666666,\"#ed7953\"],[0.7777777777777778,\"#fb9f3a\"],[0.8888888888888888,\"#fdca26\"],[1.0,\"#f0f921\"]]}],\"contourcarpet\":[{\"type\":\"contourcarpet\",\"colorbar\":{\"outlinewidth\":0,\"ticks\":\"\"}}],\"contour\":[{\"type\":\"contour\",\"colorbar\":{\"outlinewidth\":0,\"ticks\":\"\"},\"colorscale\":[[0.0,\"#0d0887\"],[0.1111111111111111,\"#46039f\"],[0.2222222222222222,\"#7201a8\"],[0.3333333333333333,\"#9c179e\"],[0.4444444444444444,\"#bd3786\"],[0.5555555555555556,\"#d8576b\"],[0.6666666666666666,\"#ed7953\"],[0.7777777777777778,\"#fb9f3a\"],[0.8888888888888888,\"#fdca26\"],[1.0,\"#f0f921\"]]}],\"surface\":[{\"type\":\"surface\",\"colorbar\":{\"outlinewidth\":0,\"ticks\":\"\"},\"colorscale\":[[0.0,\"#0d0887\"],[0.1111111111111111,\"#46039f\"],[0.2222222222222222,\"#7201a8\"],[0.3333333333333333,\"#9c179e\"],[0.4444444444444444,\"#bd3786\"],[0.5555555555555556,\"#d8576b\"],[0.6666666666666666,\"#ed7953\"],[0.7777777777777778,\"#fb9f3a\"],[0.8888888888888888,\"#fdca26\"],[1.0,\"#f0f921\"]]}],\"mesh3d\":[{\"type\":\"mesh3d\",\"colorbar\":{\"outlinewidth\":0,\"ticks\":\"\"}}],\"scatter\":[{\"fillpattern\":{\"fillmode\":\"overlay\",\"size\":10,\"solidity\":0.2},\"type\":\"scatter\"}],\"parcoords\":[{\"type\":\"parcoords\",\"line\":{\"colorbar\":{\"outlinewidth\":0,\"ticks\":\"\"}}}],\"scatterpolargl\":[{\"type\":\"scatterpolargl\",\"marker\":{\"colorbar\":{\"outlinewidth\":0,\"ticks\":\"\"}}}],\"bar\":[{\"error_x\":{\"color\":\"#2a3f5f\"},\"error_y\":{\"color\":\"#2a3f5f\"},\"marker\":{\"line\":{\"color\":\"#E5ECF6\",\"width\":0.5},\"pattern\":{\"fillmode\":\"overlay\",\"size\":10,\"solidity\":0.2}},\"type\":\"bar\"}],\"scattergeo\":[{\"type\":\"scattergeo\",\"marker\":{\"colorbar\":{\"outlinewidth\":0,\"ticks\":\"\"}}}],\"scatterpolar\":[{\"type\":\"scatterpolar\",\"marker\":{\"colorbar\":{\"outlinewidth\":0,\"ticks\":\"\"}}}],\"histogram\":[{\"marker\":{\"pattern\":{\"fillmode\":\"overlay\",\"size\":10,\"solidity\":0.2}},\"type\":\"histogram\"}],\"scattergl\":[{\"type\":\"scattergl\",\"marker\":{\"colorbar\":{\"outlinewidth\":0,\"ticks\":\"\"}}}],\"scatter3d\":[{\"type\":\"scatter3d\",\"line\":{\"colorbar\":{\"outlinewidth\":0,\"ticks\":\"\"}},\"marker\":{\"colorbar\":{\"outlinewidth\":0,\"ticks\":\"\"}}}],\"scattermapbox\":[{\"type\":\"scattermapbox\",\"marker\":{\"colorbar\":{\"outlinewidth\":0,\"ticks\":\"\"}}}],\"scatterternary\":[{\"type\":\"scatterternary\",\"marker\":{\"colorbar\":{\"outlinewidth\":0,\"ticks\":\"\"}}}],\"scattercarpet\":[{\"type\":\"scattercarpet\",\"marker\":{\"colorbar\":{\"outlinewidth\":0,\"ticks\":\"\"}}}],\"carpet\":[{\"aaxis\":{\"endlinecolor\":\"#2a3f5f\",\"gridcolor\":\"white\",\"linecolor\":\"white\",\"minorgridcolor\":\"white\",\"startlinecolor\":\"#2a3f5f\"},\"baxis\":{\"endlinecolor\":\"#2a3f5f\",\"gridcolor\":\"white\",\"linecolor\":\"white\",\"minorgridcolor\":\"white\",\"startlinecolor\":\"#2a3f5f\"},\"type\":\"carpet\"}],\"table\":[{\"cells\":{\"fill\":{\"color\":\"#EBF0F8\"},\"line\":{\"color\":\"white\"}},\"header\":{\"fill\":{\"color\":\"#C8D4E3\"},\"line\":{\"color\":\"white\"}},\"type\":\"table\"}],\"barpolar\":[{\"marker\":{\"line\":{\"color\":\"#E5ECF6\",\"width\":0.5},\"pattern\":{\"fillmode\":\"overlay\",\"size\":10,\"solidity\":0.2}},\"type\":\"barpolar\"}],\"pie\":[{\"automargin\":true,\"type\":\"pie\"}]},\"layout\":{\"autotypenumbers\":\"strict\",\"colorway\":[\"#636efa\",\"#EF553B\",\"#00cc96\",\"#ab63fa\",\"#FFA15A\",\"#19d3f3\",\"#FF6692\",\"#B6E880\",\"#FF97FF\",\"#FECB52\"],\"font\":{\"color\":\"#2a3f5f\"},\"hovermode\":\"closest\",\"hoverlabel\":{\"align\":\"left\"},\"paper_bgcolor\":\"white\",\"plot_bgcolor\":\"#E5ECF6\",\"polar\":{\"bgcolor\":\"#E5ECF6\",\"angularaxis\":{\"gridcolor\":\"white\",\"linecolor\":\"white\",\"ticks\":\"\"},\"radialaxis\":{\"gridcolor\":\"white\",\"linecolor\":\"white\",\"ticks\":\"\"}},\"ternary\":{\"bgcolor\":\"#E5ECF6\",\"aaxis\":{\"gridcolor\":\"white\",\"linecolor\":\"white\",\"ticks\":\"\"},\"baxis\":{\"gridcolor\":\"white\",\"linecolor\":\"white\",\"ticks\":\"\"},\"caxis\":{\"gridcolor\":\"white\",\"linecolor\":\"white\",\"ticks\":\"\"}},\"coloraxis\":{\"colorbar\":{\"outlinewidth\":0,\"ticks\":\"\"}},\"colorscale\":{\"sequential\":[[0.0,\"#0d0887\"],[0.1111111111111111,\"#46039f\"],[0.2222222222222222,\"#7201a8\"],[0.3333333333333333,\"#9c179e\"],[0.4444444444444444,\"#bd3786\"],[0.5555555555555556,\"#d8576b\"],[0.6666666666666666,\"#ed7953\"],[0.7777777777777778,\"#fb9f3a\"],[0.8888888888888888,\"#fdca26\"],[1.0,\"#f0f921\"]],\"sequentialminus\":[[0.0,\"#0d0887\"],[0.1111111111111111,\"#46039f\"],[0.2222222222222222,\"#7201a8\"],[0.3333333333333333,\"#9c179e\"],[0.4444444444444444,\"#bd3786\"],[0.5555555555555556,\"#d8576b\"],[0.6666666666666666,\"#ed7953\"],[0.7777777777777778,\"#fb9f3a\"],[0.8888888888888888,\"#fdca26\"],[1.0,\"#f0f921\"]],\"diverging\":[[0,\"#8e0152\"],[0.1,\"#c51b7d\"],[0.2,\"#de77ae\"],[0.3,\"#f1b6da\"],[0.4,\"#fde0ef\"],[0.5,\"#f7f7f7\"],[0.6,\"#e6f5d0\"],[0.7,\"#b8e186\"],[0.8,\"#7fbc41\"],[0.9,\"#4d9221\"],[1,\"#276419\"]]},\"xaxis\":{\"gridcolor\":\"white\",\"linecolor\":\"white\",\"ticks\":\"\",\"title\":{\"standoff\":15},\"zerolinecolor\":\"white\",\"automargin\":true,\"zerolinewidth\":2},\"yaxis\":{\"gridcolor\":\"white\",\"linecolor\":\"white\",\"ticks\":\"\",\"title\":{\"standoff\":15},\"zerolinecolor\":\"white\",\"automargin\":true,\"zerolinewidth\":2},\"scene\":{\"xaxis\":{\"backgroundcolor\":\"#E5ECF6\",\"gridcolor\":\"white\",\"linecolor\":\"white\",\"showbackground\":true,\"ticks\":\"\",\"zerolinecolor\":\"white\",\"gridwidth\":2},\"yaxis\":{\"backgroundcolor\":\"#E5ECF6\",\"gridcolor\":\"white\",\"linecolor\":\"white\",\"showbackground\":true,\"ticks\":\"\",\"zerolinecolor\":\"white\",\"gridwidth\":2},\"zaxis\":{\"backgroundcolor\":\"#E5ECF6\",\"gridcolor\":\"white\",\"linecolor\":\"white\",\"showbackground\":true,\"ticks\":\"\",\"zerolinecolor\":\"white\",\"gridwidth\":2}},\"shapedefaults\":{\"line\":{\"color\":\"#2a3f5f\"}},\"annotationdefaults\":{\"arrowcolor\":\"#2a3f5f\",\"arrowhead\":0,\"arrowwidth\":1},\"geo\":{\"bgcolor\":\"white\",\"landcolor\":\"#E5ECF6\",\"subunitcolor\":\"white\",\"showland\":true,\"showlakes\":true,\"lakecolor\":\"white\"},\"title\":{\"x\":0.05},\"mapbox\":{\"style\":\"light\"}}},\"xaxis\":{\"anchor\":\"y\",\"domain\":[0.0,1.0],\"title\":{\"text\":\"Brand\"}},\"yaxis\":{\"anchor\":\"x\",\"domain\":[0.0,1.0],\"title\":{\"text\":\"Avg_Sentiment\"}},\"coloraxis\":{\"colorbar\":{\"title\":{\"text\":\"Avg_Sentiment\"}},\"colorscale\":[[0.0,\"red\"],[0.5,\"yellow\"],[1.0,\"green\"]]},\"legend\":{\"tracegroupgap\":0},\"title\":{\"text\":\"Average Sentiment by Brand\"},\"barmode\":\"relative\",\"height\":400,\"shapes\":[{\"line\":{\"color\":\"black\",\"dash\":\"dash\"},\"type\":\"line\",\"x0\":0,\"x1\":1,\"xref\":\"x domain\",\"y0\":0,\"y1\":0,\"yref\":\"y\"}]},                        {\"responsive\": true}                    ).then(function(){\n",
              "                            \n",
              "var gd = document.getElementById('7dd00478-3dc9-45d7-b73e-894a7840876e');\n",
              "var x = new MutationObserver(function (mutations, observer) {{\n",
              "        var display = window.getComputedStyle(gd).display;\n",
              "        if (!display || display === 'none') {{\n",
              "            console.log([gd, 'removed!']);\n",
              "            Plotly.purge(gd);\n",
              "            observer.disconnect();\n",
              "        }}\n",
              "}});\n",
              "\n",
              "// Listen for the removal of the full notebook cells\n",
              "var notebookContainer = gd.closest('#notebook-container');\n",
              "if (notebookContainer) {{\n",
              "    x.observe(notebookContainer, {childList: true});\n",
              "}}\n",
              "\n",
              "// Listen for the clearing of the current output cell\n",
              "var outputEl = gd.closest('.output');\n",
              "if (outputEl) {{\n",
              "    x.observe(outputEl, {childList: true});\n",
              "}}\n",
              "\n",
              "                        })                };                            </script>        </div>\n",
              "</body>\n",
              "</html>"
            ]
          },
          "metadata": {}
        }
      ],
      "source": [
        "#Average Sentiment by Brand\n",
        "if brand_avg_sentiment:\n",
        "    fig = px.bar(\n",
        "        brand_sentiment_df,\n",
        "        x='Brand',\n",
        "        y='Avg_Sentiment',\n",
        "        title='Average Sentiment by Brand',\n",
        "        color='Avg_Sentiment',\n",
        "        color_continuous_scale=['red', 'yellow', 'green'],\n",
        "        text=[f\"{v:.2f}\" for v in brand_sentiment_df['Avg_Sentiment']],\n",
        "        height=400\n",
        "    )\n",
        "    fig.update_traces(textposition='outside')\n",
        "    fig.add_hline(y=0, line_dash=\"dash\", line_color=\"black\")\n",
        "    fig.show()\n"
      ]
    },
    {
      "cell_type": "code",
      "execution_count": null,
      "metadata": {
        "colab": {
          "base_uri": "https://localhost:8080/",
          "height": 417
        },
        "id": "bDqQnKIG5g1S",
        "outputId": "283aaebf-9df8-423e-b6d7-98439a6bbd70"
      },
      "outputs": [
        {
          "output_type": "display_data",
          "data": {
            "text/html": [
              "<html>\n",
              "<head><meta charset=\"utf-8\" /></head>\n",
              "<body>\n",
              "    <div>            <script src=\"https://cdnjs.cloudflare.com/ajax/libs/mathjax/2.7.5/MathJax.js?config=TeX-AMS-MML_SVG\"></script><script type=\"text/javascript\">if (window.MathJax && window.MathJax.Hub && window.MathJax.Hub.Config) {window.MathJax.Hub.Config({SVG: {font: \"STIX-Web\"}});}</script>                <script type=\"text/javascript\">window.PlotlyConfig = {MathJaxConfig: 'local'};</script>\n",
              "        <script charset=\"utf-8\" src=\"https://cdn.plot.ly/plotly-2.35.2.min.js\"></script>                <div id=\"be13c359-de2a-4710-9399-e4d0af3680a8\" class=\"plotly-graph-div\" style=\"height:400px; width:100%;\"></div>            <script type=\"text/javascript\">                                    window.PLOTLYENV=window.PLOTLYENV || {};                                    if (document.getElementById(\"be13c359-de2a-4710-9399-e4d0af3680a8\")) {                    Plotly.newPlot(                        \"be13c359-de2a-4710-9399-e4d0af3680a8\",                        [{\"alignmentgroup\":\"True\",\"hovertemplate\":\"Product=%{x}\\u003cbr\\u003eAvg_Sentiment=%{marker.color}\\u003cbr\\u003etext=%{text}\\u003cextra\\u003e\\u003c\\u002fextra\\u003e\",\"legendgroup\":\"\",\"marker\":{\"color\":[0.518,0.38,0.36,0.335,0.296,0.254,0.233,0.2],\"coloraxis\":\"coloraxis\",\"pattern\":{\"shape\":\"\"}},\"name\":\"\",\"offsetgroup\":\"\",\"orientation\":\"v\",\"showlegend\":false,\"text\":[\"0.52\",\"0.38\",\"0.36\",\"0.34\",\"0.30\",\"0.25\",\"0.23\",\"0.20\"],\"textposition\":\"outside\",\"x\":[\"Byetta\",\"Shrimp\",\"Nut Delight\",\"the Power Crunch\",\"grape soda\",\"Jerkys\",\"Made\",\"Whiskas Temptation\"],\"xaxis\":\"x\",\"y\":[0.518,0.38,0.36,0.335,0.296,0.254,0.233,0.2],\"yaxis\":\"y\",\"type\":\"bar\"}],                        {\"template\":{\"data\":{\"histogram2dcontour\":[{\"type\":\"histogram2dcontour\",\"colorbar\":{\"outlinewidth\":0,\"ticks\":\"\"},\"colorscale\":[[0.0,\"#0d0887\"],[0.1111111111111111,\"#46039f\"],[0.2222222222222222,\"#7201a8\"],[0.3333333333333333,\"#9c179e\"],[0.4444444444444444,\"#bd3786\"],[0.5555555555555556,\"#d8576b\"],[0.6666666666666666,\"#ed7953\"],[0.7777777777777778,\"#fb9f3a\"],[0.8888888888888888,\"#fdca26\"],[1.0,\"#f0f921\"]]}],\"choropleth\":[{\"type\":\"choropleth\",\"colorbar\":{\"outlinewidth\":0,\"ticks\":\"\"}}],\"histogram2d\":[{\"type\":\"histogram2d\",\"colorbar\":{\"outlinewidth\":0,\"ticks\":\"\"},\"colorscale\":[[0.0,\"#0d0887\"],[0.1111111111111111,\"#46039f\"],[0.2222222222222222,\"#7201a8\"],[0.3333333333333333,\"#9c179e\"],[0.4444444444444444,\"#bd3786\"],[0.5555555555555556,\"#d8576b\"],[0.6666666666666666,\"#ed7953\"],[0.7777777777777778,\"#fb9f3a\"],[0.8888888888888888,\"#fdca26\"],[1.0,\"#f0f921\"]]}],\"heatmap\":[{\"type\":\"heatmap\",\"colorbar\":{\"outlinewidth\":0,\"ticks\":\"\"},\"colorscale\":[[0.0,\"#0d0887\"],[0.1111111111111111,\"#46039f\"],[0.2222222222222222,\"#7201a8\"],[0.3333333333333333,\"#9c179e\"],[0.4444444444444444,\"#bd3786\"],[0.5555555555555556,\"#d8576b\"],[0.6666666666666666,\"#ed7953\"],[0.7777777777777778,\"#fb9f3a\"],[0.8888888888888888,\"#fdca26\"],[1.0,\"#f0f921\"]]}],\"heatmapgl\":[{\"type\":\"heatmapgl\",\"colorbar\":{\"outlinewidth\":0,\"ticks\":\"\"},\"colorscale\":[[0.0,\"#0d0887\"],[0.1111111111111111,\"#46039f\"],[0.2222222222222222,\"#7201a8\"],[0.3333333333333333,\"#9c179e\"],[0.4444444444444444,\"#bd3786\"],[0.5555555555555556,\"#d8576b\"],[0.6666666666666666,\"#ed7953\"],[0.7777777777777778,\"#fb9f3a\"],[0.8888888888888888,\"#fdca26\"],[1.0,\"#f0f921\"]]}],\"contourcarpet\":[{\"type\":\"contourcarpet\",\"colorbar\":{\"outlinewidth\":0,\"ticks\":\"\"}}],\"contour\":[{\"type\":\"contour\",\"colorbar\":{\"outlinewidth\":0,\"ticks\":\"\"},\"colorscale\":[[0.0,\"#0d0887\"],[0.1111111111111111,\"#46039f\"],[0.2222222222222222,\"#7201a8\"],[0.3333333333333333,\"#9c179e\"],[0.4444444444444444,\"#bd3786\"],[0.5555555555555556,\"#d8576b\"],[0.6666666666666666,\"#ed7953\"],[0.7777777777777778,\"#fb9f3a\"],[0.8888888888888888,\"#fdca26\"],[1.0,\"#f0f921\"]]}],\"surface\":[{\"type\":\"surface\",\"colorbar\":{\"outlinewidth\":0,\"ticks\":\"\"},\"colorscale\":[[0.0,\"#0d0887\"],[0.1111111111111111,\"#46039f\"],[0.2222222222222222,\"#7201a8\"],[0.3333333333333333,\"#9c179e\"],[0.4444444444444444,\"#bd3786\"],[0.5555555555555556,\"#d8576b\"],[0.6666666666666666,\"#ed7953\"],[0.7777777777777778,\"#fb9f3a\"],[0.8888888888888888,\"#fdca26\"],[1.0,\"#f0f921\"]]}],\"mesh3d\":[{\"type\":\"mesh3d\",\"colorbar\":{\"outlinewidth\":0,\"ticks\":\"\"}}],\"scatter\":[{\"fillpattern\":{\"fillmode\":\"overlay\",\"size\":10,\"solidity\":0.2},\"type\":\"scatter\"}],\"parcoords\":[{\"type\":\"parcoords\",\"line\":{\"colorbar\":{\"outlinewidth\":0,\"ticks\":\"\"}}}],\"scatterpolargl\":[{\"type\":\"scatterpolargl\",\"marker\":{\"colorbar\":{\"outlinewidth\":0,\"ticks\":\"\"}}}],\"bar\":[{\"error_x\":{\"color\":\"#2a3f5f\"},\"error_y\":{\"color\":\"#2a3f5f\"},\"marker\":{\"line\":{\"color\":\"#E5ECF6\",\"width\":0.5},\"pattern\":{\"fillmode\":\"overlay\",\"size\":10,\"solidity\":0.2}},\"type\":\"bar\"}],\"scattergeo\":[{\"type\":\"scattergeo\",\"marker\":{\"colorbar\":{\"outlinewidth\":0,\"ticks\":\"\"}}}],\"scatterpolar\":[{\"type\":\"scatterpolar\",\"marker\":{\"colorbar\":{\"outlinewidth\":0,\"ticks\":\"\"}}}],\"histogram\":[{\"marker\":{\"pattern\":{\"fillmode\":\"overlay\",\"size\":10,\"solidity\":0.2}},\"type\":\"histogram\"}],\"scattergl\":[{\"type\":\"scattergl\",\"marker\":{\"colorbar\":{\"outlinewidth\":0,\"ticks\":\"\"}}}],\"scatter3d\":[{\"type\":\"scatter3d\",\"line\":{\"colorbar\":{\"outlinewidth\":0,\"ticks\":\"\"}},\"marker\":{\"colorbar\":{\"outlinewidth\":0,\"ticks\":\"\"}}}],\"scattermapbox\":[{\"type\":\"scattermapbox\",\"marker\":{\"colorbar\":{\"outlinewidth\":0,\"ticks\":\"\"}}}],\"scatterternary\":[{\"type\":\"scatterternary\",\"marker\":{\"colorbar\":{\"outlinewidth\":0,\"ticks\":\"\"}}}],\"scattercarpet\":[{\"type\":\"scattercarpet\",\"marker\":{\"colorbar\":{\"outlinewidth\":0,\"ticks\":\"\"}}}],\"carpet\":[{\"aaxis\":{\"endlinecolor\":\"#2a3f5f\",\"gridcolor\":\"white\",\"linecolor\":\"white\",\"minorgridcolor\":\"white\",\"startlinecolor\":\"#2a3f5f\"},\"baxis\":{\"endlinecolor\":\"#2a3f5f\",\"gridcolor\":\"white\",\"linecolor\":\"white\",\"minorgridcolor\":\"white\",\"startlinecolor\":\"#2a3f5f\"},\"type\":\"carpet\"}],\"table\":[{\"cells\":{\"fill\":{\"color\":\"#EBF0F8\"},\"line\":{\"color\":\"white\"}},\"header\":{\"fill\":{\"color\":\"#C8D4E3\"},\"line\":{\"color\":\"white\"}},\"type\":\"table\"}],\"barpolar\":[{\"marker\":{\"line\":{\"color\":\"#E5ECF6\",\"width\":0.5},\"pattern\":{\"fillmode\":\"overlay\",\"size\":10,\"solidity\":0.2}},\"type\":\"barpolar\"}],\"pie\":[{\"automargin\":true,\"type\":\"pie\"}]},\"layout\":{\"autotypenumbers\":\"strict\",\"colorway\":[\"#636efa\",\"#EF553B\",\"#00cc96\",\"#ab63fa\",\"#FFA15A\",\"#19d3f3\",\"#FF6692\",\"#B6E880\",\"#FF97FF\",\"#FECB52\"],\"font\":{\"color\":\"#2a3f5f\"},\"hovermode\":\"closest\",\"hoverlabel\":{\"align\":\"left\"},\"paper_bgcolor\":\"white\",\"plot_bgcolor\":\"#E5ECF6\",\"polar\":{\"bgcolor\":\"#E5ECF6\",\"angularaxis\":{\"gridcolor\":\"white\",\"linecolor\":\"white\",\"ticks\":\"\"},\"radialaxis\":{\"gridcolor\":\"white\",\"linecolor\":\"white\",\"ticks\":\"\"}},\"ternary\":{\"bgcolor\":\"#E5ECF6\",\"aaxis\":{\"gridcolor\":\"white\",\"linecolor\":\"white\",\"ticks\":\"\"},\"baxis\":{\"gridcolor\":\"white\",\"linecolor\":\"white\",\"ticks\":\"\"},\"caxis\":{\"gridcolor\":\"white\",\"linecolor\":\"white\",\"ticks\":\"\"}},\"coloraxis\":{\"colorbar\":{\"outlinewidth\":0,\"ticks\":\"\"}},\"colorscale\":{\"sequential\":[[0.0,\"#0d0887\"],[0.1111111111111111,\"#46039f\"],[0.2222222222222222,\"#7201a8\"],[0.3333333333333333,\"#9c179e\"],[0.4444444444444444,\"#bd3786\"],[0.5555555555555556,\"#d8576b\"],[0.6666666666666666,\"#ed7953\"],[0.7777777777777778,\"#fb9f3a\"],[0.8888888888888888,\"#fdca26\"],[1.0,\"#f0f921\"]],\"sequentialminus\":[[0.0,\"#0d0887\"],[0.1111111111111111,\"#46039f\"],[0.2222222222222222,\"#7201a8\"],[0.3333333333333333,\"#9c179e\"],[0.4444444444444444,\"#bd3786\"],[0.5555555555555556,\"#d8576b\"],[0.6666666666666666,\"#ed7953\"],[0.7777777777777778,\"#fb9f3a\"],[0.8888888888888888,\"#fdca26\"],[1.0,\"#f0f921\"]],\"diverging\":[[0,\"#8e0152\"],[0.1,\"#c51b7d\"],[0.2,\"#de77ae\"],[0.3,\"#f1b6da\"],[0.4,\"#fde0ef\"],[0.5,\"#f7f7f7\"],[0.6,\"#e6f5d0\"],[0.7,\"#b8e186\"],[0.8,\"#7fbc41\"],[0.9,\"#4d9221\"],[1,\"#276419\"]]},\"xaxis\":{\"gridcolor\":\"white\",\"linecolor\":\"white\",\"ticks\":\"\",\"title\":{\"standoff\":15},\"zerolinecolor\":\"white\",\"automargin\":true,\"zerolinewidth\":2},\"yaxis\":{\"gridcolor\":\"white\",\"linecolor\":\"white\",\"ticks\":\"\",\"title\":{\"standoff\":15},\"zerolinecolor\":\"white\",\"automargin\":true,\"zerolinewidth\":2},\"scene\":{\"xaxis\":{\"backgroundcolor\":\"#E5ECF6\",\"gridcolor\":\"white\",\"linecolor\":\"white\",\"showbackground\":true,\"ticks\":\"\",\"zerolinecolor\":\"white\",\"gridwidth\":2},\"yaxis\":{\"backgroundcolor\":\"#E5ECF6\",\"gridcolor\":\"white\",\"linecolor\":\"white\",\"showbackground\":true,\"ticks\":\"\",\"zerolinecolor\":\"white\",\"gridwidth\":2},\"zaxis\":{\"backgroundcolor\":\"#E5ECF6\",\"gridcolor\":\"white\",\"linecolor\":\"white\",\"showbackground\":true,\"ticks\":\"\",\"zerolinecolor\":\"white\",\"gridwidth\":2}},\"shapedefaults\":{\"line\":{\"color\":\"#2a3f5f\"}},\"annotationdefaults\":{\"arrowcolor\":\"#2a3f5f\",\"arrowhead\":0,\"arrowwidth\":1},\"geo\":{\"bgcolor\":\"white\",\"landcolor\":\"#E5ECF6\",\"subunitcolor\":\"white\",\"showland\":true,\"showlakes\":true,\"lakecolor\":\"white\"},\"title\":{\"x\":0.05},\"mapbox\":{\"style\":\"light\"}}},\"xaxis\":{\"anchor\":\"y\",\"domain\":[0.0,1.0],\"title\":{\"text\":\"Product\"}},\"yaxis\":{\"anchor\":\"x\",\"domain\":[0.0,1.0],\"title\":{\"text\":\"Avg_Sentiment\"}},\"coloraxis\":{\"colorbar\":{\"title\":{\"text\":\"Avg_Sentiment\"}},\"colorscale\":[[0.0,\"red\"],[0.5,\"yellow\"],[1.0,\"green\"]]},\"legend\":{\"tracegroupgap\":0},\"title\":{\"text\":\"Average Sentiment by Product\"},\"barmode\":\"relative\",\"height\":400,\"shapes\":[{\"line\":{\"color\":\"black\",\"dash\":\"dash\"},\"type\":\"line\",\"x0\":0,\"x1\":1,\"xref\":\"x domain\",\"y0\":0,\"y1\":0,\"yref\":\"y\"}]},                        {\"responsive\": true}                    ).then(function(){\n",
              "                            \n",
              "var gd = document.getElementById('be13c359-de2a-4710-9399-e4d0af3680a8');\n",
              "var x = new MutationObserver(function (mutations, observer) {{\n",
              "        var display = window.getComputedStyle(gd).display;\n",
              "        if (!display || display === 'none') {{\n",
              "            console.log([gd, 'removed!']);\n",
              "            Plotly.purge(gd);\n",
              "            observer.disconnect();\n",
              "        }}\n",
              "}});\n",
              "\n",
              "// Listen for the removal of the full notebook cells\n",
              "var notebookContainer = gd.closest('#notebook-container');\n",
              "if (notebookContainer) {{\n",
              "    x.observe(notebookContainer, {childList: true});\n",
              "}}\n",
              "\n",
              "// Listen for the clearing of the current output cell\n",
              "var outputEl = gd.closest('.output');\n",
              "if (outputEl) {{\n",
              "    x.observe(outputEl, {childList: true});\n",
              "}}\n",
              "\n",
              "                        })                };                            </script>        </div>\n",
              "</body>\n",
              "</html>"
            ]
          },
          "metadata": {}
        }
      ],
      "source": [
        "# Average Sentiment by Product\n",
        "if product_avg_sentiment:\n",
        "    top_product_sentiment = pd.DataFrame(\n",
        "        list(product_avg_sentiment.items()), columns=['Product', 'Avg_Sentiment']\n",
        "    ).sort_values('Avg_Sentiment', ascending=False).head(8)\n",
        "\n",
        "    fig = px.bar(\n",
        "        top_product_sentiment,\n",
        "        x='Product',\n",
        "        y='Avg_Sentiment',\n",
        "        title='Average Sentiment by Product',\n",
        "        color='Avg_Sentiment',\n",
        "        color_continuous_scale=['red', 'yellow', 'green'],\n",
        "        text=[f\"{v:.2f}\" for v in top_product_sentiment['Avg_Sentiment']],\n",
        "        height=400\n",
        "    )\n",
        "    fig.update_traces(textposition='outside')\n",
        "    fig.add_hline(y=0, line_dash=\"dash\", line_color=\"black\")\n",
        "    fig.show()\n"
      ]
    },
    {
      "cell_type": "code",
      "execution_count": null,
      "metadata": {
        "colab": {
          "base_uri": "https://localhost:8080/"
        },
        "id": "072bd40a",
        "outputId": "a05eb759-9821-4550-b770-0a40305be01a"
      },
      "outputs": [
        {
          "output_type": "stream",
          "name": "stdout",
          "text": [
            "\n",
            "================================================================================\n",
            "PRODUCT SENTIMENT RANKINGS:\n",
            "================================================================================\n",
            "           Product  Avg_Sentiment\n",
            "            Byetta          0.518\n",
            "            Shrimp          0.380\n",
            "       Nut Delight          0.360\n",
            "  the Power Crunch          0.335\n",
            "        grape soda          0.296\n",
            "            Jerkys          0.254\n",
            "              Made          0.233\n",
            "Whiskas Temptation          0.200\n",
            "      Red Espresso          0.197\n",
            "         Green Tea          0.186\n",
            "           who:<br          0.159\n",
            "         Subscribe          0.133\n",
            "        Convenient          0.116\n",
            "       Cytomax.<br          0.079\n",
            "          Gatorade          0.079\n",
            "       Aspergillus         -0.051\n",
            "        Rottweiler         -0.200\n"
          ]
        }
      ],
      "source": [
        "# PRODUCT SENTIMENT ANALYSIS\n",
        "# Create product-sentiment mapping\n",
        "product_sentiments = {}\n",
        "\n",
        "for idx, row in results_df.iterrows():\n",
        "    for product in row['products']:\n",
        "        if product not in product_sentiments:\n",
        "            product_sentiments[product] = []\n",
        "        product_sentiments[product].append(row['sentiment_score'])\n",
        "\n",
        "# Calculate average sentiment per product\n",
        "product_avg_sentiment = {product: np.mean(scores)\n",
        "                         for product, scores in product_sentiments.items()\n",
        "                         if len(scores) > 0}\n",
        "\n",
        "if product_avg_sentiment:\n",
        "    product_sentiment_df = pd.DataFrame(\n",
        "        list(product_avg_sentiment.items()),\n",
        "        columns=['Product', 'Avg_Sentiment']\n",
        "    ).sort_values('Avg_Sentiment', ascending=False)\n",
        "\n",
        "    print(\"\\n\" + \"=\"*80)\n",
        "    print(\"PRODUCT SENTIMENT RANKINGS:\")\n",
        "    print(\"=\"*80)\n",
        "    print(product_sentiment_df.to_string(index=False))"
      ]
    },
    {
      "cell_type": "code",
      "execution_count": null,
      "metadata": {
        "id": "JPhTshvg4jRv"
      },
      "outputs": [],
      "source": [
        "# EXPORT RESULTS\n",
        "# Save to CSV\n",
        "results_df.to_csv('nlp_analysis_results.csv', index=False)"
      ]
    },
    {
      "cell_type": "code",
      "execution_count": null,
      "metadata": {
        "colab": {
          "base_uri": "https://localhost:8080/"
        },
        "id": "w6BXE3R56N5l",
        "outputId": "44d978e6-64b5-49d0-aa02-a7898bf3d3a3"
      },
      "outputs": [
        {
          "output_type": "stream",
          "name": "stdout",
          "text": [
            "\n",
            "AMAZON PRODUCT REVIEW NLP ANALYSIS - SUMMARY REPORT\n",
            "======================================================================\n",
            "\n",
            "DATASET STATISTICS:\n",
            "  • Total Reviews Analyzed: 500\n",
            "  • Total Products Detected: 18\n",
            "  • Total Brands Detected: 326\n",
            "  • Unique Products: 17\n",
            "  • Unique Brands: 217\n",
            "\n",
            "SENTIMENT ANALYSIS:\n",
            "  • Positive Reviews: 385 (77.0%)\n",
            "  • Negative Reviews: 23 (4.6%)\n",
            "  • Neutral Reviews: 92 (18.4%)\n",
            "  • Average Sentiment Score: 0.238\n",
            "  • Sentiment-Rating Correlation: 0.419\n",
            "\n",
            "TOP 5 BRANDS:\n",
            "  1. Amazon (70 mentions)\n",
            "  2. MSG (6 mentions)\n",
            "  3. Whole Foods (4 mentions)\n",
            "  4. Senseo (4 mentions)\n",
            "  5. Marley Coffee (3 mentions)\n",
            "\n",
            "TOP 5 PRODUCTS:\n",
            "  1. Red Espresso (2 mentions)\n",
            "  2. Byetta (1 mentions)\n",
            "  3. who:<br (1 mentions)\n",
            "  4. Shrimp (1 mentions)\n",
            "  5. Nut Delight (1 mentions)\n",
            "\n"
          ]
        }
      ],
      "source": [
        "# Create summary report\n",
        "summary = f\"\"\"\n",
        "AMAZON PRODUCT REVIEW NLP ANALYSIS - SUMMARY REPORT\n",
        "{'='*70}\n",
        "\n",
        "DATASET STATISTICS:\n",
        "  • Total Reviews Analyzed: {len(results_df)}\n",
        "  • Total Products Detected: {len(all_products)}\n",
        "  • Total Brands Detected: {len(all_brands)}\n",
        "  • Unique Products: {len(product_counts)}\n",
        "  • Unique Brands: {len(brand_counts)}\n",
        "\n",
        "SENTIMENT ANALYSIS:\n",
        "  • Positive Reviews: {sentiment_dist.get('Positive', 0)} ({sentiment_dist.get('Positive', 0)/len(results_df)*100:.1f}%)\n",
        "  • Negative Reviews: {sentiment_dist.get('Negative', 0)} ({sentiment_dist.get('Negative', 0)/len(results_df)*100:.1f}%)\n",
        "  • Neutral Reviews: {sentiment_dist.get('Neutral', 0)} ({sentiment_dist.get('Neutral', 0)/len(results_df)*100:.1f}%)\n",
        "  • Average Sentiment Score: {avg_sentiment:.3f}\n",
        "  • Sentiment-Rating Correlation: {correlation:.3f}\n",
        "\n",
        "TOP 5 BRANDS:\n",
        "{chr(10).join([f\"  {i+1}. {brand} ({count} mentions)\" for i, (brand, count) in enumerate(list(brand_counts.most_common(5)))])}\n",
        "\n",
        "TOP 5 PRODUCTS:\n",
        "{chr(10).join([f\"  {i+1}. {product} ({count} mentions)\" for i, (product, count) in enumerate(list(product_counts.most_common(5)))])}\n",
        "\"\"\"\n",
        "\n",
        "print(summary)"
      ]
    },
    {
      "cell_type": "code",
      "execution_count": null,
      "metadata": {
        "colab": {
          "base_uri": "https://localhost:8080/"
        },
        "id": "CJvVxv9N6ki3",
        "outputId": "aa12346c-4c66-4654-a63d-40ab97d2ca32"
      },
      "outputs": [
        {
          "output_type": "stream",
          "name": "stdout",
          "text": [
            "\n",
            "✅ Results exported!\n",
            "  • nlp_analysis_results.csv\n",
            "  • analysis_summary.txt\n"
          ]
        }
      ],
      "source": [
        "# Save summary\n",
        "with open('analysis_summary.txt', 'w') as f:\n",
        "    f.write(summary)\n",
        "\n",
        "print(\"\\n✅ Results exported!\")\n",
        "print(\"  • nlp_analysis_results.csv\")\n",
        "print(\"  • analysis_summary.txt\")"
      ]
    },
    {
      "cell_type": "code",
      "execution_count": null,
      "metadata": {
        "colab": {
          "base_uri": "https://localhost:8080/",
          "height": 53
        },
        "id": "Oxp03SeI6s6n",
        "outputId": "2ac42bf9-5812-4b38-de0b-3a9510d973e9"
      },
      "outputs": [
        {
          "output_type": "stream",
          "name": "stdout",
          "text": [
            "\n",
            "📥 Downloading results...\n"
          ]
        },
        {
          "output_type": "display_data",
          "data": {
            "text/plain": [
              "<IPython.core.display.Javascript object>"
            ],
            "application/javascript": [
              "\n",
              "    async function download(id, filename, size) {\n",
              "      if (!google.colab.kernel.accessAllowed) {\n",
              "        return;\n",
              "      }\n",
              "      const div = document.createElement('div');\n",
              "      const label = document.createElement('label');\n",
              "      label.textContent = `Downloading \"${filename}\": `;\n",
              "      div.appendChild(label);\n",
              "      const progress = document.createElement('progress');\n",
              "      progress.max = size;\n",
              "      div.appendChild(progress);\n",
              "      document.body.appendChild(div);\n",
              "\n",
              "      const buffers = [];\n",
              "      let downloaded = 0;\n",
              "\n",
              "      const channel = await google.colab.kernel.comms.open(id);\n",
              "      // Send a message to notify the kernel that we're ready.\n",
              "      channel.send({})\n",
              "\n",
              "      for await (const message of channel.messages) {\n",
              "        // Send a message to notify the kernel that we're ready.\n",
              "        channel.send({})\n",
              "        if (message.buffers) {\n",
              "          for (const buffer of message.buffers) {\n",
              "            buffers.push(buffer);\n",
              "            downloaded += buffer.byteLength;\n",
              "            progress.value = downloaded;\n",
              "          }\n",
              "        }\n",
              "      }\n",
              "      const blob = new Blob(buffers, {type: 'application/binary'});\n",
              "      const a = document.createElement('a');\n",
              "      a.href = window.URL.createObjectURL(blob);\n",
              "      a.download = filename;\n",
              "      div.appendChild(a);\n",
              "      a.click();\n",
              "      div.remove();\n",
              "    }\n",
              "  "
            ]
          },
          "metadata": {}
        },
        {
          "output_type": "display_data",
          "data": {
            "text/plain": [
              "<IPython.core.display.Javascript object>"
            ],
            "application/javascript": [
              "download(\"download_b83d8ae3-54f4-42c7-8e1c-ee465e7077a3\", \"nlp_analysis_results.csv\", 68314)"
            ]
          },
          "metadata": {}
        },
        {
          "output_type": "display_data",
          "data": {
            "text/plain": [
              "<IPython.core.display.Javascript object>"
            ],
            "application/javascript": [
              "\n",
              "    async function download(id, filename, size) {\n",
              "      if (!google.colab.kernel.accessAllowed) {\n",
              "        return;\n",
              "      }\n",
              "      const div = document.createElement('div');\n",
              "      const label = document.createElement('label');\n",
              "      label.textContent = `Downloading \"${filename}\": `;\n",
              "      div.appendChild(label);\n",
              "      const progress = document.createElement('progress');\n",
              "      progress.max = size;\n",
              "      div.appendChild(progress);\n",
              "      document.body.appendChild(div);\n",
              "\n",
              "      const buffers = [];\n",
              "      let downloaded = 0;\n",
              "\n",
              "      const channel = await google.colab.kernel.comms.open(id);\n",
              "      // Send a message to notify the kernel that we're ready.\n",
              "      channel.send({})\n",
              "\n",
              "      for await (const message of channel.messages) {\n",
              "        // Send a message to notify the kernel that we're ready.\n",
              "        channel.send({})\n",
              "        if (message.buffers) {\n",
              "          for (const buffer of message.buffers) {\n",
              "            buffers.push(buffer);\n",
              "            downloaded += buffer.byteLength;\n",
              "            progress.value = downloaded;\n",
              "          }\n",
              "        }\n",
              "      }\n",
              "      const blob = new Blob(buffers, {type: 'application/binary'});\n",
              "      const a = document.createElement('a');\n",
              "      a.href = window.URL.createObjectURL(blob);\n",
              "      a.download = filename;\n",
              "      div.appendChild(a);\n",
              "      a.click();\n",
              "      div.remove();\n",
              "    }\n",
              "  "
            ]
          },
          "metadata": {}
        },
        {
          "output_type": "display_data",
          "data": {
            "text/plain": [
              "<IPython.core.display.Javascript object>"
            ],
            "application/javascript": [
              "download(\"download_9d77d58f-5419-4dd9-8875-f69d6d393dc2\", \"analysis_summary.txt\", 805)"
            ]
          },
          "metadata": {}
        }
      ],
      "source": [
        "from google.colab import files\n",
        "\n",
        "print(\"\\n📥 Downloading results...\")\n",
        "files.download('nlp_analysis_results.csv')\n",
        "files.download('analysis_summary.txt')\n"
      ]
    }
  ],
  "metadata": {
    "accelerator": "GPU",
    "colab": {
      "gpuType": "T4",
      "provenance": []
    },
    "kernelspec": {
      "display_name": "Python 3",
      "name": "python3"
    },
    "language_info": {
      "name": "python"
    }
  },
  "nbformat": 4,
  "nbformat_minor": 0
}